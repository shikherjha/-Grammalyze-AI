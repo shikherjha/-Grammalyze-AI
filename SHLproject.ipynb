{
  "nbformat": 4,
  "nbformat_minor": 0,
  "metadata": {
    "colab": {
      "provenance": [],
      "gpuType": "T4"
    },
    "kernelspec": {
      "name": "python3",
      "display_name": "Python 3"
    },
    "language_info": {
      "name": "python"
    },
    "accelerator": "GPU"
  },
  "cells": [
    {
      "cell_type": "markdown",
      "source": [
        "# 🧠 SHL Grammar Scoring Challenge — LLM-Based Approach 🚀\n",
        "\n",
        "## 📌 Problem Statement\n",
        "The goal is to **automatically evaluate the grammatical quality of spoken English sentences**. Given a `.wav` audio file as input, we need to:\n",
        "- Transcribe the audio into text.\n",
        "- Score the grammatical accuracy of the sentence (1–5).\n",
        "- Optionally suggest improvements and highlight mistakes.\n",
        "\n",
        "## 🔧 Pipeline Overview\n",
        "Our solution follows a **modular pipeline-based approach** with the following steps:\n",
        "\n",
        "1. **Transcription** using Whisper.\n",
        "2. **LLM-Based Scoring** via prompt engineering.\n",
        "3. **Robust Retry Logic** for unstable transcriptions.\n",
        "4. **Post-Processing** and formatting into submission.\n",
        "\n"
      ],
      "metadata": {
        "id": "QxRlXqrCHrbY"
      }
    },
    {
      "cell_type": "code",
      "source": [
        "!pip install Groq"
      ],
      "metadata": {
        "colab": {
          "base_uri": "https://localhost:8080/"
        },
        "collapsed": true,
        "id": "_ZYFj_MSbfj-",
        "outputId": "5eccbca6-3805-437f-ccda-2b95e6b622f9"
      },
      "execution_count": 2,
      "outputs": [
        {
          "output_type": "stream",
          "name": "stdout",
          "text": [
            "Collecting Groq\n",
            "  Downloading groq-0.22.0-py3-none-any.whl.metadata (15 kB)\n",
            "Requirement already satisfied: anyio<5,>=3.5.0 in /usr/local/lib/python3.11/dist-packages (from Groq) (4.9.0)\n",
            "Requirement already satisfied: distro<2,>=1.7.0 in /usr/local/lib/python3.11/dist-packages (from Groq) (1.9.0)\n",
            "Requirement already satisfied: httpx<1,>=0.23.0 in /usr/local/lib/python3.11/dist-packages (from Groq) (0.28.1)\n",
            "Requirement already satisfied: pydantic<3,>=1.9.0 in /usr/local/lib/python3.11/dist-packages (from Groq) (2.11.1)\n",
            "Requirement already satisfied: sniffio in /usr/local/lib/python3.11/dist-packages (from Groq) (1.3.1)\n",
            "Requirement already satisfied: typing-extensions<5,>=4.10 in /usr/local/lib/python3.11/dist-packages (from Groq) (4.13.0)\n",
            "Requirement already satisfied: idna>=2.8 in /usr/local/lib/python3.11/dist-packages (from anyio<5,>=3.5.0->Groq) (3.10)\n",
            "Requirement already satisfied: certifi in /usr/local/lib/python3.11/dist-packages (from httpx<1,>=0.23.0->Groq) (2025.1.31)\n",
            "Requirement already satisfied: httpcore==1.* in /usr/local/lib/python3.11/dist-packages (from httpx<1,>=0.23.0->Groq) (1.0.7)\n",
            "Requirement already satisfied: h11<0.15,>=0.13 in /usr/local/lib/python3.11/dist-packages (from httpcore==1.*->httpx<1,>=0.23.0->Groq) (0.14.0)\n",
            "Requirement already satisfied: annotated-types>=0.6.0 in /usr/local/lib/python3.11/dist-packages (from pydantic<3,>=1.9.0->Groq) (0.7.0)\n",
            "Requirement already satisfied: pydantic-core==2.33.0 in /usr/local/lib/python3.11/dist-packages (from pydantic<3,>=1.9.0->Groq) (2.33.0)\n",
            "Requirement already satisfied: typing-inspection>=0.4.0 in /usr/local/lib/python3.11/dist-packages (from pydantic<3,>=1.9.0->Groq) (0.4.0)\n",
            "Downloading groq-0.22.0-py3-none-any.whl (126 kB)\n",
            "\u001b[?25l   \u001b[90m━━━━━━━━━━━━━━━━━━━━━━━━━━━━━━━━━━━━━━━━\u001b[0m \u001b[32m0.0/126.7 kB\u001b[0m \u001b[31m?\u001b[0m eta \u001b[36m-:--:--\u001b[0m\r\u001b[2K   \u001b[90m━━━━━━━━━━━━━━━━━━━━━━━━━━━━━━━━━━━━━━━━\u001b[0m \u001b[32m126.7/126.7 kB\u001b[0m \u001b[31m5.6 MB/s\u001b[0m eta \u001b[36m0:00:00\u001b[0m\n",
            "\u001b[?25hInstalling collected packages: Groq\n",
            "Successfully installed Groq-0.22.0\n"
          ]
        }
      ]
    },
    {
      "cell_type": "code",
      "source": [
        "import os\n",
        "import pandas as pd\n",
        "import time\n",
        "import re\n",
        "from groq import Groq\n",
        "import torchaudio"
      ],
      "metadata": {
        "id": "2s8kTPgBXo5r"
      },
      "execution_count": 3,
      "outputs": []
    },
    {
      "cell_type": "code",
      "source": [
        "from google.colab import files\n",
        "files.upload()  # select kaggle.json"
      ],
      "metadata": {
        "colab": {
          "base_uri": "https://localhost:8080/",
          "height": 90
        },
        "id": "mGp8ecmza2Tx",
        "outputId": "aa676718-826b-4c1f-cad9-397883fed5a1",
        "collapsed": true
      },
      "execution_count": 4,
      "outputs": [
        {
          "output_type": "display_data",
          "data": {
            "text/plain": [
              "<IPython.core.display.HTML object>"
            ],
            "text/html": [
              "\n",
              "     <input type=\"file\" id=\"files-2b5c7f78-451d-42e9-b5a8-d4bd0b004c0c\" name=\"files[]\" multiple disabled\n",
              "        style=\"border:none\" />\n",
              "     <output id=\"result-2b5c7f78-451d-42e9-b5a8-d4bd0b004c0c\">\n",
              "      Upload widget is only available when the cell has been executed in the\n",
              "      current browser session. Please rerun this cell to enable.\n",
              "      </output>\n",
              "      <script>// Copyright 2017 Google LLC\n",
              "//\n",
              "// Licensed under the Apache License, Version 2.0 (the \"License\");\n",
              "// you may not use this file except in compliance with the License.\n",
              "// You may obtain a copy of the License at\n",
              "//\n",
              "//      http://www.apache.org/licenses/LICENSE-2.0\n",
              "//\n",
              "// Unless required by applicable law or agreed to in writing, software\n",
              "// distributed under the License is distributed on an \"AS IS\" BASIS,\n",
              "// WITHOUT WARRANTIES OR CONDITIONS OF ANY KIND, either express or implied.\n",
              "// See the License for the specific language governing permissions and\n",
              "// limitations under the License.\n",
              "\n",
              "/**\n",
              " * @fileoverview Helpers for google.colab Python module.\n",
              " */\n",
              "(function(scope) {\n",
              "function span(text, styleAttributes = {}) {\n",
              "  const element = document.createElement('span');\n",
              "  element.textContent = text;\n",
              "  for (const key of Object.keys(styleAttributes)) {\n",
              "    element.style[key] = styleAttributes[key];\n",
              "  }\n",
              "  return element;\n",
              "}\n",
              "\n",
              "// Max number of bytes which will be uploaded at a time.\n",
              "const MAX_PAYLOAD_SIZE = 100 * 1024;\n",
              "\n",
              "function _uploadFiles(inputId, outputId) {\n",
              "  const steps = uploadFilesStep(inputId, outputId);\n",
              "  const outputElement = document.getElementById(outputId);\n",
              "  // Cache steps on the outputElement to make it available for the next call\n",
              "  // to uploadFilesContinue from Python.\n",
              "  outputElement.steps = steps;\n",
              "\n",
              "  return _uploadFilesContinue(outputId);\n",
              "}\n",
              "\n",
              "// This is roughly an async generator (not supported in the browser yet),\n",
              "// where there are multiple asynchronous steps and the Python side is going\n",
              "// to poll for completion of each step.\n",
              "// This uses a Promise to block the python side on completion of each step,\n",
              "// then passes the result of the previous step as the input to the next step.\n",
              "function _uploadFilesContinue(outputId) {\n",
              "  const outputElement = document.getElementById(outputId);\n",
              "  const steps = outputElement.steps;\n",
              "\n",
              "  const next = steps.next(outputElement.lastPromiseValue);\n",
              "  return Promise.resolve(next.value.promise).then((value) => {\n",
              "    // Cache the last promise value to make it available to the next\n",
              "    // step of the generator.\n",
              "    outputElement.lastPromiseValue = value;\n",
              "    return next.value.response;\n",
              "  });\n",
              "}\n",
              "\n",
              "/**\n",
              " * Generator function which is called between each async step of the upload\n",
              " * process.\n",
              " * @param {string} inputId Element ID of the input file picker element.\n",
              " * @param {string} outputId Element ID of the output display.\n",
              " * @return {!Iterable<!Object>} Iterable of next steps.\n",
              " */\n",
              "function* uploadFilesStep(inputId, outputId) {\n",
              "  const inputElement = document.getElementById(inputId);\n",
              "  inputElement.disabled = false;\n",
              "\n",
              "  const outputElement = document.getElementById(outputId);\n",
              "  outputElement.innerHTML = '';\n",
              "\n",
              "  const pickedPromise = new Promise((resolve) => {\n",
              "    inputElement.addEventListener('change', (e) => {\n",
              "      resolve(e.target.files);\n",
              "    });\n",
              "  });\n",
              "\n",
              "  const cancel = document.createElement('button');\n",
              "  inputElement.parentElement.appendChild(cancel);\n",
              "  cancel.textContent = 'Cancel upload';\n",
              "  const cancelPromise = new Promise((resolve) => {\n",
              "    cancel.onclick = () => {\n",
              "      resolve(null);\n",
              "    };\n",
              "  });\n",
              "\n",
              "  // Wait for the user to pick the files.\n",
              "  const files = yield {\n",
              "    promise: Promise.race([pickedPromise, cancelPromise]),\n",
              "    response: {\n",
              "      action: 'starting',\n",
              "    }\n",
              "  };\n",
              "\n",
              "  cancel.remove();\n",
              "\n",
              "  // Disable the input element since further picks are not allowed.\n",
              "  inputElement.disabled = true;\n",
              "\n",
              "  if (!files) {\n",
              "    return {\n",
              "      response: {\n",
              "        action: 'complete',\n",
              "      }\n",
              "    };\n",
              "  }\n",
              "\n",
              "  for (const file of files) {\n",
              "    const li = document.createElement('li');\n",
              "    li.append(span(file.name, {fontWeight: 'bold'}));\n",
              "    li.append(span(\n",
              "        `(${file.type || 'n/a'}) - ${file.size} bytes, ` +\n",
              "        `last modified: ${\n",
              "            file.lastModifiedDate ? file.lastModifiedDate.toLocaleDateString() :\n",
              "                                    'n/a'} - `));\n",
              "    const percent = span('0% done');\n",
              "    li.appendChild(percent);\n",
              "\n",
              "    outputElement.appendChild(li);\n",
              "\n",
              "    const fileDataPromise = new Promise((resolve) => {\n",
              "      const reader = new FileReader();\n",
              "      reader.onload = (e) => {\n",
              "        resolve(e.target.result);\n",
              "      };\n",
              "      reader.readAsArrayBuffer(file);\n",
              "    });\n",
              "    // Wait for the data to be ready.\n",
              "    let fileData = yield {\n",
              "      promise: fileDataPromise,\n",
              "      response: {\n",
              "        action: 'continue',\n",
              "      }\n",
              "    };\n",
              "\n",
              "    // Use a chunked sending to avoid message size limits. See b/62115660.\n",
              "    let position = 0;\n",
              "    do {\n",
              "      const length = Math.min(fileData.byteLength - position, MAX_PAYLOAD_SIZE);\n",
              "      const chunk = new Uint8Array(fileData, position, length);\n",
              "      position += length;\n",
              "\n",
              "      const base64 = btoa(String.fromCharCode.apply(null, chunk));\n",
              "      yield {\n",
              "        response: {\n",
              "          action: 'append',\n",
              "          file: file.name,\n",
              "          data: base64,\n",
              "        },\n",
              "      };\n",
              "\n",
              "      let percentDone = fileData.byteLength === 0 ?\n",
              "          100 :\n",
              "          Math.round((position / fileData.byteLength) * 100);\n",
              "      percent.textContent = `${percentDone}% done`;\n",
              "\n",
              "    } while (position < fileData.byteLength);\n",
              "  }\n",
              "\n",
              "  // All done.\n",
              "  yield {\n",
              "    response: {\n",
              "      action: 'complete',\n",
              "    }\n",
              "  };\n",
              "}\n",
              "\n",
              "scope.google = scope.google || {};\n",
              "scope.google.colab = scope.google.colab || {};\n",
              "scope.google.colab._files = {\n",
              "  _uploadFiles,\n",
              "  _uploadFilesContinue,\n",
              "};\n",
              "})(self);\n",
              "</script> "
            ]
          },
          "metadata": {}
        },
        {
          "output_type": "stream",
          "name": "stdout",
          "text": [
            "Saving kaggle.json to kaggle.json\n"
          ]
        },
        {
          "output_type": "execute_result",
          "data": {
            "text/plain": [
              "{'kaggle.json': b'{\"username\":\"shikherjha\",\"key\":\"3e3ee9365a807d5377b05249aabf96b5\"}'}"
            ]
          },
          "metadata": {},
          "execution_count": 4
        }
      ]
    },
    {
      "cell_type": "code",
      "source": [
        "!mkdir -p ~/.kaggle\n",
        "!cp kaggle.json ~/.kaggle/\n",
        "!chmod 600 ~/.kaggle/kaggle.json"
      ],
      "metadata": {
        "id": "tfmV-7Pta_Hw"
      },
      "execution_count": 5,
      "outputs": []
    },
    {
      "cell_type": "code",
      "source": [
        "!kaggle competitions download -c shl-intern-hiring-assessment\n",
        "!unzip shl-intern-hiring-assessment.zip -d data"
      ],
      "metadata": {
        "colab": {
          "base_uri": "https://localhost:8080/"
        },
        "collapsed": true,
        "id": "wA8KYq1dbCP6",
        "outputId": "d94d4a0c-a331-43a3-e2eb-601b118f7a88"
      },
      "execution_count": 6,
      "outputs": [
        {
          "output_type": "stream",
          "name": "stdout",
          "text": [
            "Archive:  shl-intern-hiring-assessment.zip\n",
            "  inflating: data/dataset/audios_test/audio_10.wav  \n",
            "  inflating: data/dataset/audios_test/audio_1012.wav  \n",
            "  inflating: data/dataset/audios_test/audio_1013.wav  \n",
            "  inflating: data/dataset/audios_test/audio_1019.wav  \n",
            "  inflating: data/dataset/audios_test/audio_1022.wav  \n",
            "  inflating: data/dataset/audios_test/audio_1026.wav  \n",
            "  inflating: data/dataset/audios_test/audio_103.wav  \n",
            "  inflating: data/dataset/audios_test/audio_1033.wav  \n",
            "  inflating: data/dataset/audios_test/audio_1035.wav  \n",
            "  inflating: data/dataset/audios_test/audio_1048.wav  \n",
            "  inflating: data/dataset/audios_test/audio_1054.wav  \n",
            "  inflating: data/dataset/audios_test/audio_1058.wav  \n",
            "  inflating: data/dataset/audios_test/audio_1061.wav  \n",
            "  inflating: data/dataset/audios_test/audio_1068.wav  \n",
            "  inflating: data/dataset/audios_test/audio_107.wav  \n",
            "  inflating: data/dataset/audios_test/audio_1081.wav  \n",
            "  inflating: data/dataset/audios_test/audio_1089.wav  \n",
            "  inflating: data/dataset/audios_test/audio_109.wav  \n",
            "  inflating: data/dataset/audios_test/audio_1091.wav  \n",
            "  inflating: data/dataset/audios_test/audio_1101.wav  \n",
            "  inflating: data/dataset/audios_test/audio_1115.wav  \n",
            "  inflating: data/dataset/audios_test/audio_1116.wav  \n",
            "  inflating: data/dataset/audios_test/audio_1122.wav  \n",
            "  inflating: data/dataset/audios_test/audio_1123.wav  \n",
            "  inflating: data/dataset/audios_test/audio_1124.wav  \n",
            "  inflating: data/dataset/audios_test/audio_113.wav  \n",
            "  inflating: data/dataset/audios_test/audio_1138.wav  \n",
            "  inflating: data/dataset/audios_test/audio_1159.wav  \n",
            "  inflating: data/dataset/audios_test/audio_1166.wav  \n",
            "  inflating: data/dataset/audios_test/audio_1169.wav  \n",
            "  inflating: data/dataset/audios_test/audio_1173.wav  \n",
            "  inflating: data/dataset/audios_test/audio_1176.wav  \n",
            "  inflating: data/dataset/audios_test/audio_1178.wav  \n",
            "  inflating: data/dataset/audios_test/audio_1179.wav  \n",
            "  inflating: data/dataset/audios_test/audio_1183.wav  \n",
            "  inflating: data/dataset/audios_test/audio_1190.wav  \n",
            "  inflating: data/dataset/audios_test/audio_1193.wav  \n",
            "  inflating: data/dataset/audios_test/audio_1195.wav  \n",
            "  inflating: data/dataset/audios_test/audio_1205.wav  \n",
            "  inflating: data/dataset/audios_test/audio_1214.wav  \n",
            "  inflating: data/dataset/audios_test/audio_1215.wav  \n",
            "  inflating: data/dataset/audios_test/audio_1217.wav  \n",
            "  inflating: data/dataset/audios_test/audio_1240.wav  \n",
            "  inflating: data/dataset/audios_test/audio_1242.wav  \n",
            "  inflating: data/dataset/audios_test/audio_1243.wav  \n",
            "  inflating: data/dataset/audios_test/audio_1256.wav  \n",
            "  inflating: data/dataset/audios_test/audio_1267.wav  \n",
            "  inflating: data/dataset/audios_test/audio_1275.wav  \n",
            "  inflating: data/dataset/audios_test/audio_1278.wav  \n",
            "  inflating: data/dataset/audios_test/audio_1280.wav  \n",
            "  inflating: data/dataset/audios_test/audio_1286.wav  \n",
            "  inflating: data/dataset/audios_test/audio_1289.wav  \n",
            "  inflating: data/dataset/audios_test/audio_1291.wav  \n",
            "  inflating: data/dataset/audios_test/audio_1292.wav  \n",
            "  inflating: data/dataset/audios_test/audio_1293.wav  \n",
            "  inflating: data/dataset/audios_test/audio_1297.wav  \n",
            "  inflating: data/dataset/audios_test/audio_1311.wav  \n",
            "  inflating: data/dataset/audios_test/audio_1315.wav  \n",
            "  inflating: data/dataset/audios_test/audio_1317.wav  \n",
            "  inflating: data/dataset/audios_test/audio_1321.wav  \n",
            "  inflating: data/dataset/audios_test/audio_1323.wav  \n",
            "  inflating: data/dataset/audios_test/audio_135.wav  \n",
            "  inflating: data/dataset/audios_test/audio_137.wav  \n",
            "  inflating: data/dataset/audios_test/audio_138.wav  \n",
            "  inflating: data/dataset/audios_test/audio_148.wav  \n",
            "  inflating: data/dataset/audios_test/audio_151.wav  \n",
            "  inflating: data/dataset/audios_test/audio_153.wav  \n",
            "  inflating: data/dataset/audios_test/audio_158.wav  \n",
            "  inflating: data/dataset/audios_test/audio_159.wav  \n",
            "  inflating: data/dataset/audios_test/audio_165.wav  \n",
            "  inflating: data/dataset/audios_test/audio_172.wav  \n",
            "  inflating: data/dataset/audios_test/audio_177.wav  \n",
            "  inflating: data/dataset/audios_test/audio_179.wav  \n",
            "  inflating: data/dataset/audios_test/audio_180.wav  \n",
            "  inflating: data/dataset/audios_test/audio_19.wav  \n",
            "  inflating: data/dataset/audios_test/audio_196.wav  \n",
            "  inflating: data/dataset/audios_test/audio_198.wav  \n",
            "  inflating: data/dataset/audios_test/audio_20.wav  \n",
            "  inflating: data/dataset/audios_test/audio_21.wav  \n",
            "  inflating: data/dataset/audios_test/audio_217.wav  \n",
            "  inflating: data/dataset/audios_test/audio_218.wav  \n",
            "  inflating: data/dataset/audios_test/audio_221.wav  \n",
            "  inflating: data/dataset/audios_test/audio_225.wav  \n",
            "  inflating: data/dataset/audios_test/audio_235.wav  \n",
            "  inflating: data/dataset/audios_test/audio_261.wav  \n",
            "  inflating: data/dataset/audios_test/audio_263.wav  \n",
            "  inflating: data/dataset/audios_test/audio_274.wav  \n",
            "  inflating: data/dataset/audios_test/audio_276.wav  \n",
            "  inflating: data/dataset/audios_test/audio_281.wav  \n",
            "  inflating: data/dataset/audios_test/audio_282.wav  \n",
            "  inflating: data/dataset/audios_test/audio_285.wav  \n",
            "  inflating: data/dataset/audios_test/audio_286.wav  \n",
            "  inflating: data/dataset/audios_test/audio_287.wav  \n",
            "  inflating: data/dataset/audios_test/audio_29.wav  \n",
            "  inflating: data/dataset/audios_test/audio_290.wav  \n",
            "  inflating: data/dataset/audios_test/audio_300.wav  \n",
            "  inflating: data/dataset/audios_test/audio_306.wav  \n",
            "  inflating: data/dataset/audios_test/audio_308.wav  \n",
            "  inflating: data/dataset/audios_test/audio_320.wav  \n",
            "  inflating: data/dataset/audios_test/audio_321.wav  \n",
            "  inflating: data/dataset/audios_test/audio_322.wav  \n",
            "  inflating: data/dataset/audios_test/audio_330.wav  \n",
            "  inflating: data/dataset/audios_test/audio_34.wav  \n",
            "  inflating: data/dataset/audios_test/audio_348.wav  \n",
            "  inflating: data/dataset/audios_test/audio_360.wav  \n",
            "  inflating: data/dataset/audios_test/audio_379.wav  \n",
            "  inflating: data/dataset/audios_test/audio_386.wav  \n",
            "  inflating: data/dataset/audios_test/audio_388.wav  \n",
            "  inflating: data/dataset/audios_test/audio_391.wav  \n",
            "  inflating: data/dataset/audios_test/audio_394.wav  \n",
            "  inflating: data/dataset/audios_test/audio_4.wav  \n",
            "  inflating: data/dataset/audios_test/audio_401.wav  \n",
            "  inflating: data/dataset/audios_test/audio_408.wav  \n",
            "  inflating: data/dataset/audios_test/audio_422.wav  \n",
            "  inflating: data/dataset/audios_test/audio_428.wav  \n",
            "  inflating: data/dataset/audios_test/audio_433.wav  \n",
            "  inflating: data/dataset/audios_test/audio_435.wav  \n",
            "  inflating: data/dataset/audios_test/audio_437.wav  \n",
            "  inflating: data/dataset/audios_test/audio_448.wav  \n",
            "  inflating: data/dataset/audios_test/audio_48.wav  \n",
            "  inflating: data/dataset/audios_test/audio_487.wav  \n",
            "  inflating: data/dataset/audios_test/audio_488.wav  \n",
            "  inflating: data/dataset/audios_test/audio_499.wav  \n",
            "  inflating: data/dataset/audios_test/audio_500.wav  \n",
            "  inflating: data/dataset/audios_test/audio_512.wav  \n",
            "  inflating: data/dataset/audios_test/audio_519.wav  \n",
            "  inflating: data/dataset/audios_test/audio_521.wav  \n",
            "  inflating: data/dataset/audios_test/audio_525.wav  \n",
            "  inflating: data/dataset/audios_test/audio_529.wav  \n",
            "  inflating: data/dataset/audios_test/audio_540.wav  \n",
            "  inflating: data/dataset/audios_test/audio_541.wav  \n",
            "  inflating: data/dataset/audios_test/audio_543.wav  \n",
            "  inflating: data/dataset/audios_test/audio_545.wav  \n",
            "  inflating: data/dataset/audios_test/audio_546.wav  \n",
            "  inflating: data/dataset/audios_test/audio_550.wav  \n",
            "  inflating: data/dataset/audios_test/audio_554.wav  \n",
            "  inflating: data/dataset/audios_test/audio_556.wav  \n",
            "  inflating: data/dataset/audios_test/audio_564.wav  \n",
            "  inflating: data/dataset/audios_test/audio_569.wav  \n",
            "  inflating: data/dataset/audios_test/audio_572.wav  \n",
            "  inflating: data/dataset/audios_test/audio_580.wav  \n",
            "  inflating: data/dataset/audios_test/audio_599.wav  \n",
            "  inflating: data/dataset/audios_test/audio_604.wav  \n",
            "  inflating: data/dataset/audios_test/audio_633.wav  \n",
            "  inflating: data/dataset/audios_test/audio_641.wav  \n",
            "  inflating: data/dataset/audios_test/audio_644.wav  \n",
            "  inflating: data/dataset/audios_test/audio_656.wav  \n",
            "  inflating: data/dataset/audios_test/audio_66.wav  \n",
            "  inflating: data/dataset/audios_test/audio_662.wav  \n",
            "  inflating: data/dataset/audios_test/audio_665.wav  \n",
            "  inflating: data/dataset/audios_test/audio_676.wav  \n",
            "  inflating: data/dataset/audios_test/audio_68.wav  \n",
            "  inflating: data/dataset/audios_test/audio_683.wav  \n",
            "  inflating: data/dataset/audios_test/audio_690.wav  \n",
            "  inflating: data/dataset/audios_test/audio_692.wav  \n",
            "  inflating: data/dataset/audios_test/audio_698.wav  \n",
            "  inflating: data/dataset/audios_test/audio_702.wav  \n",
            "  inflating: data/dataset/audios_test/audio_706.wav  \n",
            "  inflating: data/dataset/audios_test/audio_709.wav  \n",
            "  inflating: data/dataset/audios_test/audio_713.wav  \n",
            "  inflating: data/dataset/audios_test/audio_719.wav  \n",
            "  inflating: data/dataset/audios_test/audio_72.wav  \n",
            "  inflating: data/dataset/audios_test/audio_726.wav  \n",
            "  inflating: data/dataset/audios_test/audio_733.wav  \n",
            "  inflating: data/dataset/audios_test/audio_735.wav  \n",
            "  inflating: data/dataset/audios_test/audio_746.wav  \n",
            "  inflating: data/dataset/audios_test/audio_75.wav  \n",
            "  inflating: data/dataset/audios_test/audio_759.wav  \n",
            "  inflating: data/dataset/audios_test/audio_762.wav  \n",
            "  inflating: data/dataset/audios_test/audio_767.wav  \n",
            "  inflating: data/dataset/audios_test/audio_770.wav  \n",
            "  inflating: data/dataset/audios_test/audio_800.wav  \n",
            "  inflating: data/dataset/audios_test/audio_805.wav  \n",
            "  inflating: data/dataset/audios_test/audio_811.wav  \n",
            "  inflating: data/dataset/audios_test/audio_820.wav  \n",
            "  inflating: data/dataset/audios_test/audio_831.wav  \n",
            "  inflating: data/dataset/audios_test/audio_841.wav  \n",
            "  inflating: data/dataset/audios_test/audio_857.wav  \n",
            "  inflating: data/dataset/audios_test/audio_858.wav  \n",
            "  inflating: data/dataset/audios_test/audio_882.wav  \n",
            "  inflating: data/dataset/audios_test/audio_884.wav  \n",
            "  inflating: data/dataset/audios_test/audio_885.wav  \n",
            "  inflating: data/dataset/audios_test/audio_888.wav  \n",
            "  inflating: data/dataset/audios_test/audio_89.wav  \n",
            "  inflating: data/dataset/audios_test/audio_897.wav  \n",
            "  inflating: data/dataset/audios_test/audio_908.wav  \n",
            "  inflating: data/dataset/audios_test/audio_920.wav  \n",
            "  inflating: data/dataset/audios_test/audio_922.wav  \n",
            "  inflating: data/dataset/audios_test/audio_932.wav  \n",
            "  inflating: data/dataset/audios_test/audio_949.wav  \n",
            "  inflating: data/dataset/audios_test/audio_95.wav  \n",
            "  inflating: data/dataset/audios_test/audio_958.wav  \n",
            "  inflating: data/dataset/audios_test/audio_959.wav  \n",
            "  inflating: data/dataset/audios_test/audio_971.wav  \n",
            "  inflating: data/dataset/audios_test/audio_998.wav  \n",
            "  inflating: data/dataset/audios_train/audio_1008.wav  \n",
            "  inflating: data/dataset/audios_train/audio_1017.wav  \n",
            "  inflating: data/dataset/audios_train/audio_102.wav  \n",
            "  inflating: data/dataset/audios_train/audio_1024.wav  \n",
            "  inflating: data/dataset/audios_train/audio_1025.wav  \n",
            "  inflating: data/dataset/audios_train/audio_1028.wav  \n",
            "  inflating: data/dataset/audios_train/audio_1030.wav  \n",
            "  inflating: data/dataset/audios_train/audio_1031.wav  \n",
            "  inflating: data/dataset/audios_train/audio_1032.wav  \n",
            "  inflating: data/dataset/audios_train/audio_1036.wav  \n",
            "  inflating: data/dataset/audios_train/audio_1038.wav  \n",
            "  inflating: data/dataset/audios_train/audio_104.wav  \n",
            "  inflating: data/dataset/audios_train/audio_1040.wav  \n",
            "  inflating: data/dataset/audios_train/audio_1043.wav  \n",
            "  inflating: data/dataset/audios_train/audio_105.wav  \n",
            "  inflating: data/dataset/audios_train/audio_1057.wav  \n",
            "  inflating: data/dataset/audios_train/audio_1059.wav  \n",
            "  inflating: data/dataset/audios_train/audio_1065.wav  \n",
            "  inflating: data/dataset/audios_train/audio_1066.wav  \n",
            "  inflating: data/dataset/audios_train/audio_1069.wav  \n",
            "  inflating: data/dataset/audios_train/audio_1075.wav  \n",
            "  inflating: data/dataset/audios_train/audio_1078.wav  \n",
            "  inflating: data/dataset/audios_train/audio_1082.wav  \n",
            "  inflating: data/dataset/audios_train/audio_1099.wav  \n",
            "  inflating: data/dataset/audios_train/audio_110.wav  \n",
            "  inflating: data/dataset/audios_train/audio_1100.wav  \n",
            "  inflating: data/dataset/audios_train/audio_1102.wav  \n",
            "  inflating: data/dataset/audios_train/audio_1103.wav  \n",
            "  inflating: data/dataset/audios_train/audio_1104.wav  \n",
            "  inflating: data/dataset/audios_train/audio_1106.wav  \n",
            "  inflating: data/dataset/audios_train/audio_1110.wav  \n",
            "  inflating: data/dataset/audios_train/audio_1111.wav  \n",
            "  inflating: data/dataset/audios_train/audio_1112.wav  \n",
            "  inflating: data/dataset/audios_train/audio_1114.wav  \n",
            "  inflating: data/dataset/audios_train/audio_1117.wav  \n",
            "  inflating: data/dataset/audios_train/audio_1118.wav  \n",
            "  inflating: data/dataset/audios_train/audio_1120.wav  \n",
            "  inflating: data/dataset/audios_train/audio_1125.wav  \n",
            "  inflating: data/dataset/audios_train/audio_1126.wav  \n",
            "  inflating: data/dataset/audios_train/audio_1128.wav  \n",
            "  inflating: data/dataset/audios_train/audio_1129.wav  \n",
            "  inflating: data/dataset/audios_train/audio_1131.wav  \n",
            "  inflating: data/dataset/audios_train/audio_1134.wav  \n",
            "  inflating: data/dataset/audios_train/audio_1135.wav  \n",
            "  inflating: data/dataset/audios_train/audio_1136.wav  \n",
            "  inflating: data/dataset/audios_train/audio_1147.wav  \n",
            "  inflating: data/dataset/audios_train/audio_1148.wav  \n",
            "  inflating: data/dataset/audios_train/audio_1150.wav  \n",
            "  inflating: data/dataset/audios_train/audio_1153.wav  \n",
            "  inflating: data/dataset/audios_train/audio_116.wav  \n",
            "  inflating: data/dataset/audios_train/audio_1160.wav  \n",
            "  inflating: data/dataset/audios_train/audio_1162.wav  \n",
            "  inflating: data/dataset/audios_train/audio_1163.wav  \n",
            "  inflating: data/dataset/audios_train/audio_1164.wav  \n",
            "  inflating: data/dataset/audios_train/audio_117.wav  \n",
            "  inflating: data/dataset/audios_train/audio_1171.wav  \n",
            "  inflating: data/dataset/audios_train/audio_1172.wav  \n",
            "  inflating: data/dataset/audios_train/audio_1175.wav  \n",
            "  inflating: data/dataset/audios_train/audio_1177.wav  \n",
            "  inflating: data/dataset/audios_train/audio_118.wav  \n",
            "  inflating: data/dataset/audios_train/audio_1182.wav  \n",
            "  inflating: data/dataset/audios_train/audio_1184.wav  \n",
            "  inflating: data/dataset/audios_train/audio_1185.wav  \n",
            "  inflating: data/dataset/audios_train/audio_1187.wav  \n",
            "  inflating: data/dataset/audios_train/audio_119.wav  \n",
            "  inflating: data/dataset/audios_train/audio_1191.wav  \n",
            "  inflating: data/dataset/audios_train/audio_1196.wav  \n",
            "  inflating: data/dataset/audios_train/audio_12.wav  \n",
            "  inflating: data/dataset/audios_train/audio_120.wav  \n",
            "  inflating: data/dataset/audios_train/audio_1200.wav  \n",
            "  inflating: data/dataset/audios_train/audio_1202.wav  \n",
            "  inflating: data/dataset/audios_train/audio_1208.wav  \n",
            "  inflating: data/dataset/audios_train/audio_1210.wav  \n",
            "  inflating: data/dataset/audios_train/audio_1212.wav  \n",
            "  inflating: data/dataset/audios_train/audio_1216.wav  \n",
            "  inflating: data/dataset/audios_train/audio_1223.wav  \n",
            "  inflating: data/dataset/audios_train/audio_1226.wav  \n",
            "  inflating: data/dataset/audios_train/audio_123.wav  \n",
            "  inflating: data/dataset/audios_train/audio_1230.wav  \n",
            "  inflating: data/dataset/audios_train/audio_1236.wav  \n",
            "  inflating: data/dataset/audios_train/audio_1239.wav  \n",
            "  inflating: data/dataset/audios_train/audio_1245.wav  \n",
            "  inflating: data/dataset/audios_train/audio_1247.wav  \n",
            "  inflating: data/dataset/audios_train/audio_1251.wav  \n",
            "  inflating: data/dataset/audios_train/audio_1252.wav  \n",
            "  inflating: data/dataset/audios_train/audio_1261.wav  \n",
            "  inflating: data/dataset/audios_train/audio_1262.wav  \n",
            "  inflating: data/dataset/audios_train/audio_1264.wav  \n",
            "  inflating: data/dataset/audios_train/audio_1266.wav  \n",
            "  inflating: data/dataset/audios_train/audio_1268.wav  \n",
            "  inflating: data/dataset/audios_train/audio_127.wav  \n",
            "  inflating: data/dataset/audios_train/audio_1272.wav  \n",
            "  inflating: data/dataset/audios_train/audio_1274.wav  \n",
            "  inflating: data/dataset/audios_train/audio_1277.wav  \n",
            "  inflating: data/dataset/audios_train/audio_1284.wav  \n",
            "  inflating: data/dataset/audios_train/audio_1285.wav  \n",
            "  inflating: data/dataset/audios_train/audio_1290.wav  \n",
            "  inflating: data/dataset/audios_train/audio_1296.wav  \n",
            "  inflating: data/dataset/audios_train/audio_1298.wav  \n",
            "  inflating: data/dataset/audios_train/audio_130.wav  \n",
            "  inflating: data/dataset/audios_train/audio_1304.wav  \n",
            "  inflating: data/dataset/audios_train/audio_1307.wav  \n",
            "  inflating: data/dataset/audios_train/audio_131.wav  \n",
            "  inflating: data/dataset/audios_train/audio_1312.wav  \n",
            "  inflating: data/dataset/audios_train/audio_1313.wav  \n",
            "  inflating: data/dataset/audios_train/audio_1314.wav  \n",
            "  inflating: data/dataset/audios_train/audio_1318.wav  \n",
            "  inflating: data/dataset/audios_train/audio_1325.wav  \n",
            "  inflating: data/dataset/audios_train/audio_1326.wav  \n",
            "  inflating: data/dataset/audios_train/audio_1329.wav  \n",
            "  inflating: data/dataset/audios_train/audio_133.wav  \n",
            "  inflating: data/dataset/audios_train/audio_1332.wav  \n",
            "  inflating: data/dataset/audios_train/audio_1333.wav  \n",
            "  inflating: data/dataset/audios_train/audio_1335.wav  \n",
            "  inflating: data/dataset/audios_train/audio_140.wav  \n",
            "  inflating: data/dataset/audios_train/audio_142.wav  \n",
            "  inflating: data/dataset/audios_train/audio_144.wav  \n",
            "  inflating: data/dataset/audios_train/audio_146.wav  \n",
            "  inflating: data/dataset/audios_train/audio_147.wav  \n",
            "  inflating: data/dataset/audios_train/audio_15.wav  \n",
            "  inflating: data/dataset/audios_train/audio_154.wav  \n",
            "  inflating: data/dataset/audios_train/audio_163.wav  \n",
            "  inflating: data/dataset/audios_train/audio_167.wav  \n",
            "  inflating: data/dataset/audios_train/audio_168.wav  \n",
            "  inflating: data/dataset/audios_train/audio_17.wav  \n",
            "  inflating: data/dataset/audios_train/audio_184.wav  \n",
            "  inflating: data/dataset/audios_train/audio_185.wav  \n",
            "  inflating: data/dataset/audios_train/audio_186.wav  \n",
            "  inflating: data/dataset/audios_train/audio_188.wav  \n",
            "  inflating: data/dataset/audios_train/audio_194.wav  \n",
            "  inflating: data/dataset/audios_train/audio_2.wav  \n",
            "  inflating: data/dataset/audios_train/audio_200.wav  \n",
            "  inflating: data/dataset/audios_train/audio_202.wav  \n",
            "  inflating: data/dataset/audios_train/audio_205.wav  \n",
            "  inflating: data/dataset/audios_train/audio_210.wav  \n",
            "  inflating: data/dataset/audios_train/audio_212.wav  \n",
            "  inflating: data/dataset/audios_train/audio_223.wav  \n",
            "  inflating: data/dataset/audios_train/audio_226.wav  \n",
            "  inflating: data/dataset/audios_train/audio_23.wav  \n",
            "  inflating: data/dataset/audios_train/audio_236.wav  \n",
            "  inflating: data/dataset/audios_train/audio_237.wav  \n",
            "  inflating: data/dataset/audios_train/audio_239.wav  \n",
            "  inflating: data/dataset/audios_train/audio_240.wav  \n",
            "  inflating: data/dataset/audios_train/audio_241.wav  \n",
            "  inflating: data/dataset/audios_train/audio_244.wav  \n",
            "  inflating: data/dataset/audios_train/audio_245.wav  \n",
            "  inflating: data/dataset/audios_train/audio_250.wav  \n",
            "  inflating: data/dataset/audios_train/audio_252.wav  \n",
            "  inflating: data/dataset/audios_train/audio_254.wav  \n",
            "  inflating: data/dataset/audios_train/audio_255.wav  \n",
            "  inflating: data/dataset/audios_train/audio_256.wav  \n",
            "  inflating: data/dataset/audios_train/audio_259.wav  \n",
            "  inflating: data/dataset/audios_train/audio_265.wav  \n",
            "  inflating: data/dataset/audios_train/audio_270.wav  \n",
            "  inflating: data/dataset/audios_train/audio_272.wav  \n",
            "  inflating: data/dataset/audios_train/audio_273.wav  \n",
            "  inflating: data/dataset/audios_train/audio_275.wav  \n",
            "  inflating: data/dataset/audios_train/audio_278.wav  \n",
            "  inflating: data/dataset/audios_train/audio_288.wav  \n",
            "  inflating: data/dataset/audios_train/audio_289.wav  \n",
            "  inflating: data/dataset/audios_train/audio_291.wav  \n",
            "  inflating: data/dataset/audios_train/audio_293.wav  \n",
            "  inflating: data/dataset/audios_train/audio_297.wav  \n",
            "  inflating: data/dataset/audios_train/audio_301.wav  \n",
            "  inflating: data/dataset/audios_train/audio_303.wav  \n",
            "  inflating: data/dataset/audios_train/audio_311.wav  \n",
            "  inflating: data/dataset/audios_train/audio_312.wav  \n",
            "  inflating: data/dataset/audios_train/audio_313.wav  \n",
            "  inflating: data/dataset/audios_train/audio_314.wav  \n",
            "  inflating: data/dataset/audios_train/audio_315.wav  \n",
            "  inflating: data/dataset/audios_train/audio_317.wav  \n",
            "  inflating: data/dataset/audios_train/audio_32.wav  \n",
            "  inflating: data/dataset/audios_train/audio_324.wav  \n",
            "  inflating: data/dataset/audios_train/audio_327.wav  \n",
            "  inflating: data/dataset/audios_train/audio_33.wav  \n",
            "  inflating: data/dataset/audios_train/audio_332.wav  \n",
            "  inflating: data/dataset/audios_train/audio_334.wav  \n",
            "  inflating: data/dataset/audios_train/audio_336.wav  \n",
            "  inflating: data/dataset/audios_train/audio_339.wav  \n",
            "  inflating: data/dataset/audios_train/audio_345.wav  \n",
            "  inflating: data/dataset/audios_train/audio_346.wav  \n",
            "  inflating: data/dataset/audios_train/audio_350.wav  \n",
            "  inflating: data/dataset/audios_train/audio_352.wav  \n",
            "  inflating: data/dataset/audios_train/audio_353.wav  \n",
            "  inflating: data/dataset/audios_train/audio_358.wav  \n",
            "  inflating: data/dataset/audios_train/audio_359.wav  \n",
            "  inflating: data/dataset/audios_train/audio_362.wav  \n",
            "  inflating: data/dataset/audios_train/audio_363.wav  \n",
            "  inflating: data/dataset/audios_train/audio_365.wav  \n",
            "  inflating: data/dataset/audios_train/audio_366.wav  \n",
            "  inflating: data/dataset/audios_train/audio_373.wav  \n",
            "  inflating: data/dataset/audios_train/audio_374.wav  \n",
            "  inflating: data/dataset/audios_train/audio_387.wav  \n",
            "  inflating: data/dataset/audios_train/audio_389.wav  \n",
            "  inflating: data/dataset/audios_train/audio_390.wav  \n",
            "  inflating: data/dataset/audios_train/audio_395.wav  \n",
            "  inflating: data/dataset/audios_train/audio_396.wav  \n",
            "  inflating: data/dataset/audios_train/audio_399.wav  \n",
            "  inflating: data/dataset/audios_train/audio_402.wav  \n",
            "  inflating: data/dataset/audios_train/audio_404.wav  \n",
            "  inflating: data/dataset/audios_train/audio_413.wav  \n",
            "  inflating: data/dataset/audios_train/audio_414.wav  \n",
            "  inflating: data/dataset/audios_train/audio_419.wav  \n",
            "  inflating: data/dataset/audios_train/audio_424.wav  \n",
            "  inflating: data/dataset/audios_train/audio_427.wav  \n",
            "  inflating: data/dataset/audios_train/audio_43.wav  \n",
            "  inflating: data/dataset/audios_train/audio_432.wav  \n",
            "  inflating: data/dataset/audios_train/audio_436.wav  \n",
            "  inflating: data/dataset/audios_train/audio_44.wav  \n",
            "  inflating: data/dataset/audios_train/audio_440.wav  \n",
            "  inflating: data/dataset/audios_train/audio_441.wav  \n",
            "  inflating: data/dataset/audios_train/audio_443.wav  \n",
            "  inflating: data/dataset/audios_train/audio_445.wav  \n",
            "  inflating: data/dataset/audios_train/audio_446.wav  \n",
            "  inflating: data/dataset/audios_train/audio_447.wav  \n",
            "  inflating: data/dataset/audios_train/audio_45.wav  \n",
            "  inflating: data/dataset/audios_train/audio_450.wav  \n",
            "  inflating: data/dataset/audios_train/audio_455.wav  \n",
            "  inflating: data/dataset/audios_train/audio_460.wav  \n",
            "  inflating: data/dataset/audios_train/audio_462.wav  \n",
            "  inflating: data/dataset/audios_train/audio_463.wav  \n",
            "  inflating: data/dataset/audios_train/audio_464.wav  \n",
            "  inflating: data/dataset/audios_train/audio_468.wav  \n",
            "  inflating: data/dataset/audios_train/audio_469.wav  \n",
            "  inflating: data/dataset/audios_train/audio_471.wav  \n",
            "  inflating: data/dataset/audios_train/audio_477.wav  \n",
            "  inflating: data/dataset/audios_train/audio_478.wav  \n",
            "  inflating: data/dataset/audios_train/audio_479.wav  \n",
            "  inflating: data/dataset/audios_train/audio_480.wav  \n",
            "  inflating: data/dataset/audios_train/audio_481.wav  \n",
            "  inflating: data/dataset/audios_train/audio_482.wav  \n",
            "  inflating: data/dataset/audios_train/audio_483.wav  \n",
            "  inflating: data/dataset/audios_train/audio_484.wav  \n",
            "  inflating: data/dataset/audios_train/audio_485.wav  \n",
            "  inflating: data/dataset/audios_train/audio_489.wav  \n",
            "  inflating: data/dataset/audios_train/audio_490.wav  \n",
            "  inflating: data/dataset/audios_train/audio_492.wav  \n",
            "  inflating: data/dataset/audios_train/audio_493.wav  \n",
            "  inflating: data/dataset/audios_train/audio_494.wav  \n",
            "  inflating: data/dataset/audios_train/audio_495.wav  \n",
            "  inflating: data/dataset/audios_train/audio_5.wav  \n",
            "  inflating: data/dataset/audios_train/audio_503.wav  \n",
            "  inflating: data/dataset/audios_train/audio_504.wav  \n",
            "  inflating: data/dataset/audios_train/audio_513.wav  \n",
            "  inflating: data/dataset/audios_train/audio_514.wav  \n",
            "  inflating: data/dataset/audios_train/audio_516.wav  \n",
            "  inflating: data/dataset/audios_train/audio_518.wav  \n",
            "  inflating: data/dataset/audios_train/audio_52.wav  \n",
            "  inflating: data/dataset/audios_train/audio_526.wav  \n",
            "  inflating: data/dataset/audios_train/audio_527.wav  \n",
            "  inflating: data/dataset/audios_train/audio_53.wav  \n",
            "  inflating: data/dataset/audios_train/audio_533.wav  \n",
            "  inflating: data/dataset/audios_train/audio_535.wav  \n",
            "  inflating: data/dataset/audios_train/audio_536.wav  \n",
            "  inflating: data/dataset/audios_train/audio_538.wav  \n",
            "  inflating: data/dataset/audios_train/audio_539.wav  \n",
            "  inflating: data/dataset/audios_train/audio_542.wav  \n",
            "  inflating: data/dataset/audios_train/audio_547.wav  \n",
            "  inflating: data/dataset/audios_train/audio_548.wav  \n",
            "  inflating: data/dataset/audios_train/audio_549.wav  \n",
            "  inflating: data/dataset/audios_train/audio_55.wav  \n",
            "  inflating: data/dataset/audios_train/audio_552.wav  \n",
            "  inflating: data/dataset/audios_train/audio_558.wav  \n",
            "  inflating: data/dataset/audios_train/audio_563.wav  \n",
            "  inflating: data/dataset/audios_train/audio_567.wav  \n",
            "  inflating: data/dataset/audios_train/audio_576.wav  \n",
            "  inflating: data/dataset/audios_train/audio_581.wav  \n",
            "  inflating: data/dataset/audios_train/audio_582.wav  \n",
            "  inflating: data/dataset/audios_train/audio_583.wav  \n",
            "  inflating: data/dataset/audios_train/audio_586.wav  \n",
            "  inflating: data/dataset/audios_train/audio_59.wav  \n",
            "  inflating: data/dataset/audios_train/audio_590.wav  \n",
            "  inflating: data/dataset/audios_train/audio_591.wav  \n",
            "  inflating: data/dataset/audios_train/audio_592.wav  \n",
            "  inflating: data/dataset/audios_train/audio_600.wav  \n",
            "  inflating: data/dataset/audios_train/audio_602.wav  \n",
            "  inflating: data/dataset/audios_train/audio_609.wav  \n",
            "  inflating: data/dataset/audios_train/audio_61.wav  \n",
            "  inflating: data/dataset/audios_train/audio_611.wav  \n",
            "  inflating: data/dataset/audios_train/audio_62.wav  \n",
            "  inflating: data/dataset/audios_train/audio_620.wav  \n",
            "  inflating: data/dataset/audios_train/audio_624.wav  \n",
            "  inflating: data/dataset/audios_train/audio_627.wav  \n",
            "  inflating: data/dataset/audios_train/audio_63.wav  \n",
            "  inflating: data/dataset/audios_train/audio_630.wav  \n",
            "  inflating: data/dataset/audios_train/audio_636.wav  \n",
            "  inflating: data/dataset/audios_train/audio_64.wav  \n",
            "  inflating: data/dataset/audios_train/audio_640.wav  \n",
            "  inflating: data/dataset/audios_train/audio_642.wav  \n",
            "  inflating: data/dataset/audios_train/audio_643.wav  \n",
            "  inflating: data/dataset/audios_train/audio_647.wav  \n",
            "  inflating: data/dataset/audios_train/audio_649.wav  \n",
            "  inflating: data/dataset/audios_train/audio_652.wav  \n",
            "  inflating: data/dataset/audios_train/audio_653.wav  \n",
            "  inflating: data/dataset/audios_train/audio_654.wav  \n",
            "  inflating: data/dataset/audios_train/audio_657.wav  \n",
            "  inflating: data/dataset/audios_train/audio_658.wav  \n",
            "  inflating: data/dataset/audios_train/audio_661.wav  \n",
            "  inflating: data/dataset/audios_train/audio_668.wav  \n",
            "  inflating: data/dataset/audios_train/audio_67.wav  \n",
            "  inflating: data/dataset/audios_train/audio_674.wav  \n",
            "  inflating: data/dataset/audios_train/audio_675.wav  \n",
            "  inflating: data/dataset/audios_train/audio_677.wav  \n",
            "  inflating: data/dataset/audios_train/audio_678.wav  \n",
            "  inflating: data/dataset/audios_train/audio_680.wav  \n",
            "  inflating: data/dataset/audios_train/audio_681.wav  \n",
            "  inflating: data/dataset/audios_train/audio_685.wav  \n",
            "  inflating: data/dataset/audios_train/audio_686.wav  \n",
            "  inflating: data/dataset/audios_train/audio_687.wav  \n",
            "  inflating: data/dataset/audios_train/audio_688.wav  \n",
            "  inflating: data/dataset/audios_train/audio_69.wav  \n",
            "  inflating: data/dataset/audios_train/audio_693.wav  \n",
            "  inflating: data/dataset/audios_train/audio_694.wav  \n",
            "  inflating: data/dataset/audios_train/audio_695.wav  \n",
            "  inflating: data/dataset/audios_train/audio_696.wav  \n",
            "  inflating: data/dataset/audios_train/audio_697.wav  \n",
            "  inflating: data/dataset/audios_train/audio_699.wav  \n",
            "  inflating: data/dataset/audios_train/audio_7.wav  \n",
            "  inflating: data/dataset/audios_train/audio_700.wav  \n",
            "  inflating: data/dataset/audios_train/audio_701.wav  \n",
            "  inflating: data/dataset/audios_train/audio_703.wav  \n",
            "  inflating: data/dataset/audios_train/audio_704.wav  \n",
            "  inflating: data/dataset/audios_train/audio_705.wav  \n",
            "  inflating: data/dataset/audios_train/audio_707.wav  \n",
            "  inflating: data/dataset/audios_train/audio_708.wav  \n",
            "  inflating: data/dataset/audios_train/audio_71.wav  \n",
            "  inflating: data/dataset/audios_train/audio_711.wav  \n",
            "  inflating: data/dataset/audios_train/audio_716.wav  \n",
            "  inflating: data/dataset/audios_train/audio_721.wav  \n",
            "  inflating: data/dataset/audios_train/audio_722.wav  \n",
            "  inflating: data/dataset/audios_train/audio_724.wav  \n",
            "  inflating: data/dataset/audios_train/audio_725.wav  \n",
            "  inflating: data/dataset/audios_train/audio_727.wav  \n",
            "  inflating: data/dataset/audios_train/audio_730.wav  \n",
            "  inflating: data/dataset/audios_train/audio_731.wav  \n",
            "  inflating: data/dataset/audios_train/audio_736.wav  \n",
            "  inflating: data/dataset/audios_train/audio_74.wav  \n",
            "  inflating: data/dataset/audios_train/audio_743.wav  \n",
            "  inflating: data/dataset/audios_train/audio_744.wav  \n",
            "  inflating: data/dataset/audios_train/audio_745.wav  \n",
            "  inflating: data/dataset/audios_train/audio_748.wav  \n",
            "  inflating: data/dataset/audios_train/audio_753.wav  \n",
            "  inflating: data/dataset/audios_train/audio_755.wav  \n",
            "  inflating: data/dataset/audios_train/audio_758.wav  \n",
            "  inflating: data/dataset/audios_train/audio_76.wav  \n",
            "  inflating: data/dataset/audios_train/audio_760.wav  \n",
            "  inflating: data/dataset/audios_train/audio_763.wav  \n",
            "  inflating: data/dataset/audios_train/audio_765.wav  \n",
            "  inflating: data/dataset/audios_train/audio_766.wav  \n",
            "  inflating: data/dataset/audios_train/audio_77.wav  \n",
            "  inflating: data/dataset/audios_train/audio_771.wav  \n",
            "  inflating: data/dataset/audios_train/audio_773.wav  \n",
            "  inflating: data/dataset/audios_train/audio_776.wav  \n",
            "  inflating: data/dataset/audios_train/audio_778.wav  \n",
            "  inflating: data/dataset/audios_train/audio_779.wav  \n",
            "  inflating: data/dataset/audios_train/audio_783.wav  \n",
            "  inflating: data/dataset/audios_train/audio_787.wav  \n",
            "  inflating: data/dataset/audios_train/audio_788.wav  \n",
            "  inflating: data/dataset/audios_train/audio_790.wav  \n",
            "  inflating: data/dataset/audios_train/audio_794.wav  \n",
            "  inflating: data/dataset/audios_train/audio_796.wav  \n",
            "  inflating: data/dataset/audios_train/audio_8.wav  \n",
            "  inflating: data/dataset/audios_train/audio_80.wav  \n",
            "  inflating: data/dataset/audios_train/audio_802.wav  \n",
            "  inflating: data/dataset/audios_train/audio_807.wav  \n",
            "  inflating: data/dataset/audios_train/audio_808.wav  \n",
            "  inflating: data/dataset/audios_train/audio_809.wav  \n",
            "  inflating: data/dataset/audios_train/audio_812.wav  \n",
            "  inflating: data/dataset/audios_train/audio_813.wav  \n",
            "  inflating: data/dataset/audios_train/audio_817.wav  \n",
            "  inflating: data/dataset/audios_train/audio_82.wav  \n",
            "  inflating: data/dataset/audios_train/audio_826.wav  \n",
            "  inflating: data/dataset/audios_train/audio_827.wav  \n",
            "  inflating: data/dataset/audios_train/audio_832.wav  \n",
            "  inflating: data/dataset/audios_train/audio_834.wav  \n",
            "  inflating: data/dataset/audios_train/audio_836.wav  \n",
            "  inflating: data/dataset/audios_train/audio_842.wav  \n",
            "  inflating: data/dataset/audios_train/audio_848.wav  \n",
            "  inflating: data/dataset/audios_train/audio_85.wav  \n",
            "  inflating: data/dataset/audios_train/audio_853.wav  \n",
            "  inflating: data/dataset/audios_train/audio_854.wav  \n",
            "  inflating: data/dataset/audios_train/audio_859.wav  \n",
            "  inflating: data/dataset/audios_train/audio_860.wav  \n",
            "  inflating: data/dataset/audios_train/audio_865.wav  \n",
            "  inflating: data/dataset/audios_train/audio_867.wav  \n",
            "  inflating: data/dataset/audios_train/audio_868.wav  \n",
            "  inflating: data/dataset/audios_train/audio_869.wav  \n",
            "  inflating: data/dataset/audios_train/audio_870.wav  \n",
            "  inflating: data/dataset/audios_train/audio_873.wav  \n",
            "  inflating: data/dataset/audios_train/audio_874.wav  \n",
            "  inflating: data/dataset/audios_train/audio_875.wav  \n",
            "  inflating: data/dataset/audios_train/audio_876.wav  \n",
            "  inflating: data/dataset/audios_train/audio_886.wav  \n",
            "  inflating: data/dataset/audios_train/audio_887.wav  \n",
            "  inflating: data/dataset/audios_train/audio_889.wav  \n",
            "  inflating: data/dataset/audios_train/audio_890.wav  \n",
            "  inflating: data/dataset/audios_train/audio_896.wav  \n",
            "  inflating: data/dataset/audios_train/audio_899.wav  \n",
            "  inflating: data/dataset/audios_train/audio_9.wav  \n",
            "  inflating: data/dataset/audios_train/audio_90.wav  \n",
            "  inflating: data/dataset/audios_train/audio_902.wav  \n",
            "  inflating: data/dataset/audios_train/audio_903.wav  \n",
            "  inflating: data/dataset/audios_train/audio_904.wav  \n",
            "  inflating: data/dataset/audios_train/audio_905.wav  \n",
            "  inflating: data/dataset/audios_train/audio_909.wav  \n",
            "  inflating: data/dataset/audios_train/audio_913.wav  \n",
            "  inflating: data/dataset/audios_train/audio_916.wav  \n",
            "  inflating: data/dataset/audios_train/audio_917.wav  \n",
            "  inflating: data/dataset/audios_train/audio_918.wav  \n",
            "  inflating: data/dataset/audios_train/audio_919.wav  \n",
            "  inflating: data/dataset/audios_train/audio_921.wav  \n",
            "  inflating: data/dataset/audios_train/audio_925.wav  \n",
            "  inflating: data/dataset/audios_train/audio_926.wav  \n",
            "  inflating: data/dataset/audios_train/audio_93.wav  \n",
            "  inflating: data/dataset/audios_train/audio_930.wav  \n",
            "  inflating: data/dataset/audios_train/audio_931.wav  \n",
            "  inflating: data/dataset/audios_train/audio_934.wav  \n",
            "  inflating: data/dataset/audios_train/audio_937.wav  \n",
            "  inflating: data/dataset/audios_train/audio_939.wav  \n",
            "  inflating: data/dataset/audios_train/audio_940.wav  \n",
            "  inflating: data/dataset/audios_train/audio_942.wav  \n",
            "  inflating: data/dataset/audios_train/audio_944.wav  \n",
            "  inflating: data/dataset/audios_train/audio_946.wav  \n",
            "  inflating: data/dataset/audios_train/audio_947.wav  \n",
            "  inflating: data/dataset/audios_train/audio_948.wav  \n",
            "  inflating: data/dataset/audios_train/audio_950.wav  \n",
            "  inflating: data/dataset/audios_train/audio_952.wav  \n",
            "  inflating: data/dataset/audios_train/audio_954.wav  \n",
            "  inflating: data/dataset/audios_train/audio_955.wav  \n",
            "  inflating: data/dataset/audios_train/audio_956.wav  \n",
            "  inflating: data/dataset/audios_train/audio_957.wav  \n",
            "  inflating: data/dataset/audios_train/audio_961.wav  \n",
            "  inflating: data/dataset/audios_train/audio_963.wav  \n",
            "  inflating: data/dataset/audios_train/audio_964.wav  \n",
            "  inflating: data/dataset/audios_train/audio_965.wav  \n",
            "  inflating: data/dataset/audios_train/audio_970.wav  \n",
            "  inflating: data/dataset/audios_train/audio_978.wav  \n",
            "  inflating: data/dataset/audios_train/audio_980.wav  \n",
            "  inflating: data/dataset/audios_train/audio_983.wav  \n",
            "  inflating: data/dataset/audios_train/audio_988.wav  \n",
            "  inflating: data/dataset/audios_train/audio_989.wav  \n",
            "  inflating: data/dataset/audios_train/audio_990.wav  \n",
            "  inflating: data/dataset/audios_train/audio_993.wav  \n",
            "  inflating: data/dataset/audios_train/audio_994.wav  \n",
            "  inflating: data/dataset/sample_submission.csv  \n",
            "  inflating: data/dataset/test.csv   \n",
            "  inflating: data/dataset/train.csv  \n"
          ]
        }
      ]
    },
    {
      "cell_type": "code",
      "source": [
        "!ls data/dataset\n",
        "\n"
      ],
      "metadata": {
        "colab": {
          "base_uri": "https://localhost:8080/"
        },
        "id": "u3GHomLEd2RC",
        "outputId": "dd55214d-2db8-4763-a634-a647e0f81452"
      },
      "execution_count": 7,
      "outputs": [
        {
          "output_type": "stream",
          "name": "stdout",
          "text": [
            "audios_test  audios_train  sample_submission.csv  test.csv  train.csv\n"
          ]
        }
      ]
    },
    {
      "cell_type": "markdown",
      "source": [
        "### 📤 Upload Transcribed & Labeled Training Data (`train_Transcript.csv`)\n",
        "\n",
        "This block handles the upload of the preprocessed training file that includes:\n",
        "- ✅ Transcribed audio (from Whisper or similar ASR system)\n",
        "- 🎯 Ground truth grammar scores (labels)\n",
        "- 🧽 Cleaned and standardized text for reliable few-shot prompt generation\n",
        "\n",
        "---\n",
        "\n",
        "#### 📄 File Details:\n",
        "- **Filename**: `train_Transcript.csv`\n",
        "- **Columns Expected**:\n",
        "  - `text`: Cleaned transcriptions from audio\n",
        "  - `label`: Grammar quality scores (float between 1.0–5.0)\n",
        "\n",
        "---\n",
        "\n",
        "#### 📌 Purpose:\n",
        "This file is crucial for **few-shot prompting**. It helps provide diverse, labeled examples across score ranges to guide the LLM’s grammar evaluation.\n",
        "\n",
        "Uploading this file enables:\n",
        "- Dynamic example selection from different score buckets (e.g., 1.0–2.0, 2.0–3.0, etc.)\n",
        "- More accurate and consistent scoring when evaluating unseen test audio\n",
        "\n",
        "> ⚠️ Make sure the file is already preprocessed with accurate transcriptions and score alignment. If not, ensure to run the preprocessing pipeline first before uploading.\n"
      ],
      "metadata": {
        "id": "Yq3O_GGPtUuW"
      }
    },
    {
      "cell_type": "code",
      "source": [
        "from google.colab import files\n",
        "import pandas as pd\n",
        "\n",
        "# Step 1: Upload CSV file\n",
        "uploaded = files.upload()  ##UPLOAD train_Trasncript.csv for better prompting"
      ],
      "metadata": {
        "colab": {
          "base_uri": "https://localhost:8080/",
          "height": 73
        },
        "id": "NKh6F57BY5tU",
        "outputId": "da0aac18-c534-4b17-f362-438074807b15",
        "collapsed": true
      },
      "execution_count": 8,
      "outputs": [
        {
          "output_type": "display_data",
          "data": {
            "text/plain": [
              "<IPython.core.display.HTML object>"
            ],
            "text/html": [
              "\n",
              "     <input type=\"file\" id=\"files-c0ed453a-f13d-4887-bd1a-ff1da1979984\" name=\"files[]\" multiple disabled\n",
              "        style=\"border:none\" />\n",
              "     <output id=\"result-c0ed453a-f13d-4887-bd1a-ff1da1979984\">\n",
              "      Upload widget is only available when the cell has been executed in the\n",
              "      current browser session. Please rerun this cell to enable.\n",
              "      </output>\n",
              "      <script>// Copyright 2017 Google LLC\n",
              "//\n",
              "// Licensed under the Apache License, Version 2.0 (the \"License\");\n",
              "// you may not use this file except in compliance with the License.\n",
              "// You may obtain a copy of the License at\n",
              "//\n",
              "//      http://www.apache.org/licenses/LICENSE-2.0\n",
              "//\n",
              "// Unless required by applicable law or agreed to in writing, software\n",
              "// distributed under the License is distributed on an \"AS IS\" BASIS,\n",
              "// WITHOUT WARRANTIES OR CONDITIONS OF ANY KIND, either express or implied.\n",
              "// See the License for the specific language governing permissions and\n",
              "// limitations under the License.\n",
              "\n",
              "/**\n",
              " * @fileoverview Helpers for google.colab Python module.\n",
              " */\n",
              "(function(scope) {\n",
              "function span(text, styleAttributes = {}) {\n",
              "  const element = document.createElement('span');\n",
              "  element.textContent = text;\n",
              "  for (const key of Object.keys(styleAttributes)) {\n",
              "    element.style[key] = styleAttributes[key];\n",
              "  }\n",
              "  return element;\n",
              "}\n",
              "\n",
              "// Max number of bytes which will be uploaded at a time.\n",
              "const MAX_PAYLOAD_SIZE = 100 * 1024;\n",
              "\n",
              "function _uploadFiles(inputId, outputId) {\n",
              "  const steps = uploadFilesStep(inputId, outputId);\n",
              "  const outputElement = document.getElementById(outputId);\n",
              "  // Cache steps on the outputElement to make it available for the next call\n",
              "  // to uploadFilesContinue from Python.\n",
              "  outputElement.steps = steps;\n",
              "\n",
              "  return _uploadFilesContinue(outputId);\n",
              "}\n",
              "\n",
              "// This is roughly an async generator (not supported in the browser yet),\n",
              "// where there are multiple asynchronous steps and the Python side is going\n",
              "// to poll for completion of each step.\n",
              "// This uses a Promise to block the python side on completion of each step,\n",
              "// then passes the result of the previous step as the input to the next step.\n",
              "function _uploadFilesContinue(outputId) {\n",
              "  const outputElement = document.getElementById(outputId);\n",
              "  const steps = outputElement.steps;\n",
              "\n",
              "  const next = steps.next(outputElement.lastPromiseValue);\n",
              "  return Promise.resolve(next.value.promise).then((value) => {\n",
              "    // Cache the last promise value to make it available to the next\n",
              "    // step of the generator.\n",
              "    outputElement.lastPromiseValue = value;\n",
              "    return next.value.response;\n",
              "  });\n",
              "}\n",
              "\n",
              "/**\n",
              " * Generator function which is called between each async step of the upload\n",
              " * process.\n",
              " * @param {string} inputId Element ID of the input file picker element.\n",
              " * @param {string} outputId Element ID of the output display.\n",
              " * @return {!Iterable<!Object>} Iterable of next steps.\n",
              " */\n",
              "function* uploadFilesStep(inputId, outputId) {\n",
              "  const inputElement = document.getElementById(inputId);\n",
              "  inputElement.disabled = false;\n",
              "\n",
              "  const outputElement = document.getElementById(outputId);\n",
              "  outputElement.innerHTML = '';\n",
              "\n",
              "  const pickedPromise = new Promise((resolve) => {\n",
              "    inputElement.addEventListener('change', (e) => {\n",
              "      resolve(e.target.files);\n",
              "    });\n",
              "  });\n",
              "\n",
              "  const cancel = document.createElement('button');\n",
              "  inputElement.parentElement.appendChild(cancel);\n",
              "  cancel.textContent = 'Cancel upload';\n",
              "  const cancelPromise = new Promise((resolve) => {\n",
              "    cancel.onclick = () => {\n",
              "      resolve(null);\n",
              "    };\n",
              "  });\n",
              "\n",
              "  // Wait for the user to pick the files.\n",
              "  const files = yield {\n",
              "    promise: Promise.race([pickedPromise, cancelPromise]),\n",
              "    response: {\n",
              "      action: 'starting',\n",
              "    }\n",
              "  };\n",
              "\n",
              "  cancel.remove();\n",
              "\n",
              "  // Disable the input element since further picks are not allowed.\n",
              "  inputElement.disabled = true;\n",
              "\n",
              "  if (!files) {\n",
              "    return {\n",
              "      response: {\n",
              "        action: 'complete',\n",
              "      }\n",
              "    };\n",
              "  }\n",
              "\n",
              "  for (const file of files) {\n",
              "    const li = document.createElement('li');\n",
              "    li.append(span(file.name, {fontWeight: 'bold'}));\n",
              "    li.append(span(\n",
              "        `(${file.type || 'n/a'}) - ${file.size} bytes, ` +\n",
              "        `last modified: ${\n",
              "            file.lastModifiedDate ? file.lastModifiedDate.toLocaleDateString() :\n",
              "                                    'n/a'} - `));\n",
              "    const percent = span('0% done');\n",
              "    li.appendChild(percent);\n",
              "\n",
              "    outputElement.appendChild(li);\n",
              "\n",
              "    const fileDataPromise = new Promise((resolve) => {\n",
              "      const reader = new FileReader();\n",
              "      reader.onload = (e) => {\n",
              "        resolve(e.target.result);\n",
              "      };\n",
              "      reader.readAsArrayBuffer(file);\n",
              "    });\n",
              "    // Wait for the data to be ready.\n",
              "    let fileData = yield {\n",
              "      promise: fileDataPromise,\n",
              "      response: {\n",
              "        action: 'continue',\n",
              "      }\n",
              "    };\n",
              "\n",
              "    // Use a chunked sending to avoid message size limits. See b/62115660.\n",
              "    let position = 0;\n",
              "    do {\n",
              "      const length = Math.min(fileData.byteLength - position, MAX_PAYLOAD_SIZE);\n",
              "      const chunk = new Uint8Array(fileData, position, length);\n",
              "      position += length;\n",
              "\n",
              "      const base64 = btoa(String.fromCharCode.apply(null, chunk));\n",
              "      yield {\n",
              "        response: {\n",
              "          action: 'append',\n",
              "          file: file.name,\n",
              "          data: base64,\n",
              "        },\n",
              "      };\n",
              "\n",
              "      let percentDone = fileData.byteLength === 0 ?\n",
              "          100 :\n",
              "          Math.round((position / fileData.byteLength) * 100);\n",
              "      percent.textContent = `${percentDone}% done`;\n",
              "\n",
              "    } while (position < fileData.byteLength);\n",
              "  }\n",
              "\n",
              "  // All done.\n",
              "  yield {\n",
              "    response: {\n",
              "      action: 'complete',\n",
              "    }\n",
              "  };\n",
              "}\n",
              "\n",
              "scope.google = scope.google || {};\n",
              "scope.google.colab = scope.google.colab || {};\n",
              "scope.google.colab._files = {\n",
              "  _uploadFiles,\n",
              "  _uploadFilesContinue,\n",
              "};\n",
              "})(self);\n",
              "</script> "
            ]
          },
          "metadata": {}
        },
        {
          "output_type": "stream",
          "name": "stdout",
          "text": [
            "Saving train_transcripts (1).csv to train_transcripts (1).csv\n"
          ]
        }
      ]
    },
    {
      "cell_type": "code",
      "source": [
        "# === CONFIG ===\n",
        "GROQ_API_KEY = \"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\"\n",
        "client = Groq(api_key=GROQ_API_KEY)"
      ],
      "metadata": {
        "id": "X-goUMyRYImJ"
      },
      "execution_count": 9,
      "outputs": []
    },
    {
      "cell_type": "code",
      "source": [
        "# === LOAD TRAIN DATA FOR FEW-SHOT ===\n",
        "df = pd.read_csv(\"train_transcripts (1).csv\")\n",
        "few_shot_examples = []\n"
      ],
      "metadata": {
        "id": "VwjF4iotYKTQ"
      },
      "execution_count": 10,
      "outputs": []
    },
    {
      "cell_type": "code",
      "source": [
        "print(\"CSV Columns:\", df.columns.tolist())\n"
      ],
      "metadata": {
        "colab": {
          "base_uri": "https://localhost:8080/"
        },
        "id": "sd09y514ZbXS",
        "outputId": "d1d1d097-78e1-4337-eb69-1b8e63ab0f79"
      },
      "execution_count": 11,
      "outputs": [
        {
          "output_type": "stream",
          "name": "stdout",
          "text": [
            "CSV Columns: ['text', 'label']\n"
          ]
        }
      ]
    },
    {
      "cell_type": "markdown",
      "source": [
        "### 🎯 Few-Shot Example Selection for Prompt Engineering\n",
        "\n",
        "To improve the LLM's grammar evaluation consistency, we construct a balanced few-shot context by selecting representative examples across different score ranges. This helps the model understand the nuances between different quality levels of grammar.\n",
        "\n",
        "#### ✅ What This Code Does:\n",
        "- **Cleans the column names** by stripping whitespace and converting to lowercase.\n",
        "- **Defines 4 score bands**:\n",
        "  - 1.0–2.0 (Poor),\n",
        "  - 2.0–3.0 (Below Average),\n",
        "  - 3.0–4.0 (Good),\n",
        "  - 4.0–5.0 (Excellent).\n",
        "- **Samples one sentence from each band** using stratified sampling to ensure diversity in prompt examples.\n",
        "- Appends each selected sample to a `few_shot_examples` list, which can then be embedded in prompts to guide the LLM scoring behavior.\n",
        "\n",
        "This step is critical to help the model learn how grammar quality varies across scores and calibrate predictions accordingly.\n"
      ],
      "metadata": {
        "id": "sKWLskWnrfl1"
      }
    },
    {
      "cell_type": "code",
      "source": [
        "# Sanitize and lowercase column names to be safe\n",
        "df.columns = df.columns.str.strip().str.lower()\n",
        "\n",
        "# Clear previous examples if any\n",
        "few_shot_examples = []\n",
        "\n",
        "# Define score ranges for better few-shot diversity\n",
        "score_ranges = [(1.0, 2.0), (2.0, 3.0), (3.0, 4.0), (4.0, 5.1)]  # Note: 5.1 to include score = 5.0\n",
        "\n",
        "for low, high in score_ranges:\n",
        "    filtered = df[(df['label'] >= low) & (df['label'] < high)]\n",
        "    if not filtered.empty:\n",
        "        sample = filtered.sample(1).iloc[0]\n",
        "        few_shot_examples.append({\n",
        "            \"sentence\": sample[\"text\"],\n",
        "            \"score\": round(float(sample[\"label\"]), 2)\n",
        "        })\n"
      ],
      "metadata": {
        "id": "IiA00hzaZCnC"
      },
      "execution_count": 12,
      "outputs": []
    },
    {
      "cell_type": "code",
      "source": [
        "def transcribe_audio_whisper(audio_path):\n",
        "    with open(audio_path, \"rb\") as audio_file:\n",
        "        response = client.audio.transcriptions.create(\n",
        "            file=audio_file,  # <== FILE OBJECT, not bytes\n",
        "            model=\"whisper-large-v3\",\n",
        "            response_format=\"text\"\n",
        "        )\n",
        "    return response\n"
      ],
      "metadata": {
        "id": "Tnr52_JJZ1Ap"
      },
      "execution_count": 13,
      "outputs": []
    },
    {
      "cell_type": "markdown",
      "source": [
        "### 🧠 Prompt Construction for LLM Grammar Evaluation\n",
        "\n",
        "The `build_prompt()` function is designed to guide the language model in scoring a given sentence based on grammar. This function leverages few-shot learning by embedding diverse labeled examples, improving the model's calibration and reliability.\n",
        "\n",
        "#### 🔍 Structure of the Prompt:\n",
        "1. **Introduction & Guidelines**  \n",
        "   - Explains the task: grammar evaluation on a 1.0 to 5.0 scale.\n",
        "   - Defines clear criteria for each score range.\n",
        "   - Specifies the required output format:  \n",
        "     ```\n",
        "     Score: <float>\n",
        "     Suggestions: <tips>\n",
        "     Mistakes: <grammar issue tags>\n",
        "     ```\n",
        "\n",
        "2. **Few-Shot Examples**  \n",
        "   - Dynamically inserts 1 sentence per score range (1–5), with its corresponding score.\n",
        "   - These help the model infer how different grammar qualities should be rated.\n",
        "\n",
        "3. **Final Sentence to Evaluate**  \n",
        "   - Appends the test sentence that the model needs to score.\n",
        "\n",
        "#### ✨ Example Output Prompt Structure:\n"
      ],
      "metadata": {
        "id": "YFyYUkuqr2cq"
      }
    },
    {
      "cell_type": "code",
      "source": [
        "# === PROMPT BUILDING FUNCTION ===\n",
        "def build_prompt(test_sentence):\n",
        "    intro = (\n",
        "        \"You're a grammar evaluation model. You will analyze the grammar of English sentences and assign a score from 1.0 to 5.0, where:\\n\"\n",
        "        \"- 1.0–2.0 → Poor grammar with multiple errors affecting clarity.\\n\"\n",
        "        \"- 2.0–3.0 → Fair grammar, with several noticeable errors but understandable.\\n\"\n",
        "        \"- 3.0–4.0 → Good grammar, minor errors, mostly clear and correct.\\n\"\n",
        "        \"- 4.0–5.0 → Excellent grammar, very few or no mistakes.\\n\\n\"\n",
        "        \"Respond in this format:\\n\"\n",
        "        \"Score: <float score>\\n\"\n",
        "        \"Suggestions: <grammar improvement tips>\\n\"\n",
        "        \"Mistakes: <grammar tags like tense, article, punctuation, etc.>\\n\\n\"\n",
        "        \"Here are examples:\\n\\n\"\n",
        "    )\n",
        "    examples = \"\"\n",
        "    for ex in few_shot_examples:\n",
        "        examples += (\n",
        "            f\"Sentence: \\\"{ex['sentence']}\\\"\\n\"\n",
        "            f\"Score: {ex['score']}\\n\"\n",
        "            f\"Suggestions: <example suggestion>\\n\"\n",
        "            f\"Mistakes: <example tags>\\n\\n\"\n",
        "        )\n",
        "\n",
        "    final_input = f\"Now evaluate:\\nSentence: \\\"{test_sentence}\\\"\\n\"\n",
        "    return intro + examples + final_input\n"
      ],
      "metadata": {
        "id": "wa-uRLSvZ8aD"
      },
      "execution_count": 14,
      "outputs": []
    },
    {
      "cell_type": "code",
      "source": [
        "# === SCORE EXTRACTOR FROM LLM RESPONSE ===\n",
        "def extract_response_parts(response_text):\n",
        "    score_match = re.search(r\"Score:\\s*([0-5](?:\\.\\d+)?)\", response_text)\n",
        "    suggestions_match = re.search(r\"Suggestions:\\s*(.*)\", response_text)\n",
        "    mistakes_match = re.search(r\"Mistakes:\\s*(.*)\", response_text)\n",
        "\n",
        "    score = float(score_match.group(1)) if score_match else None\n",
        "    suggestions = suggestions_match.group(1).strip() if suggestions_match else \"N/A\"\n",
        "    mistakes = mistakes_match.group(1).strip() if mistakes_match else \"N/A\"\n",
        "\n",
        "    return score, suggestions, mistakes"
      ],
      "metadata": {
        "id": "kUnyejM-aANR"
      },
      "execution_count": 15,
      "outputs": []
    },
    {
      "cell_type": "code",
      "source": [
        "import os\n",
        "import pandas as pd\n",
        "from tqdm import tqdm\n",
        "import time\n",
        "import random"
      ],
      "metadata": {
        "id": "RX0C2DoUaC80"
      },
      "execution_count": 16,
      "outputs": []
    },
    {
      "cell_type": "markdown",
      "source": [
        "### 🔁 Audio Evaluation Pipeline (`evaluate_audio_file`)\n",
        "\n",
        "This function takes a **WAV audio file** as input and performs the full pipeline of:\n",
        "1. **Transcription** (via Whisper ASR)\n",
        "2. **Grammar Scoring** (via LLaMA3 LLM)\n",
        "3. **Parsing Model Output** into structured components\n",
        "\n",
        "---\n",
        "\n",
        "#### 🔨 Step-by-Step Breakdown:\n",
        "\n",
        "1. **Transcription using Whisper**  \n",
        "   - The raw audio is passed to the Whisper ASR engine (`transcribe_audio_whisper()`).\n",
        "   - This step extracts the spoken sentence into text.\n",
        "\n",
        "2. **Prompt Construction**  \n",
        "   - The transcribed text is embedded in a prompt using the `build_prompt()` function.\n",
        "   - The prompt includes grading criteria and few-shot examples to help the LLM understand how to score grammar.\n",
        "\n",
        "3. **Evaluation with LLaMA3**  \n",
        "   - The constructed prompt is sent to the `llama3-8b-8192` model via Groq's API.\n",
        "   - Temperature is set to 0.3 to maintain deterministic and stable outputs.\n",
        "\n",
        "4. **Response Parsing**  \n",
        "   - The raw output from the model is parsed using `extract_response_parts()`.\n",
        "   - Extracted fields:  \n",
        "     - `score`: A float between 1.0 and 5.0  \n",
        "     - `suggestions`: Grammar improvements  \n",
        "     - `mistakes`: Tags of grammar issues (e.g., tense, punctuation)\n",
        "\n",
        "5. **Rate Limiting**  \n",
        "   - A `time.sleep(1.2)` delay ensures the API isn't overwhelmed (especially useful when running in batch mode).\n",
        "\n",
        "---\n",
        "\n",
        "#### 🧾 Return Value:\n",
        "A Python dictionary with:\n",
        "```python\n",
        "{\n",
        "  \"transcription\": \"The transcribed sentence\",\n",
        "  \"score\": float,\n",
        "  \"suggestions\": \"Improvement tips\",\n",
        "  \"mistakes\": \"Grammar issue tags\"\n",
        "}\n"
      ],
      "metadata": {
        "id": "6L91zvKTsGj0"
      }
    },
    {
      "cell_type": "code",
      "source": [
        "def evaluate_audio_file(audio_path):\n",
        "    print(f\"[+] Transcribing {audio_path} ...\")\n",
        "    transcribed_text = transcribe_audio_whisper(audio_path)\n",
        "    print(f\"[✓] Transcribed: {transcribed_text}\")\n",
        "\n",
        "    prompt = build_prompt(transcribed_text)\n",
        "    print(\"[+] Sending to LLM for evaluation...\")\n",
        "\n",
        "    chat_response = client.chat.completions.create(\n",
        "        model=\"llama3-8b-8192\",\n",
        "        messages=[{\"role\": \"user\", \"content\": prompt}],\n",
        "        temperature=0.3,\n",
        "    )\n",
        "    llm_output = chat_response.choices[0].message.content\n",
        "    print(f\"[✓] LLM Output:\\n{llm_output}\")\n",
        "\n",
        "    score, suggestions, mistakes = extract_response_parts(llm_output)\n",
        "    time.sleep(1.2)  # Add this just before the end of evaluate_audio_file\n",
        "\n",
        "    return {\n",
        "        \"transcription\": transcribed_text,\n",
        "        \"score\": score,\n",
        "        \"suggestions\": suggestions,\n",
        "        \"mistakes\": mistakes\n",
        "    }\n"
      ],
      "metadata": {
        "id": "Up6jKSMkdM_w"
      },
      "execution_count": 17,
      "outputs": []
    },
    {
      "cell_type": "markdown",
      "source": [
        "### 🔄 Robust Audio Evaluation with Retry Mechanism (`robust_evaluate_audio`)\n",
        "\n",
        "This wrapper function ensures **resilience** when interacting with external services (like Whisper or LLM APIs) that are prone to **rate limits**, **timeouts**, or other transient errors.\n",
        "\n",
        "---\n",
        "\n",
        "#### 🔐 Purpose:\n",
        "To handle occasional failures gracefully (especially rate-limiting errors) by **retrying** the audio evaluation a few times before completely giving up.\n",
        "\n",
        "---\n",
        "\n",
        "#### 🔧 How It Works:\n",
        "\n",
        "1. **Retry Logic**  \n",
        "   - The function will try to call `evaluate_audio_file(audio_path)` up to `MAX_RETRIES` times.\n",
        "   - By default, `MAX_RETRIES = 5`.\n",
        "\n",
        "2. **Rate Limit Detection & Exponential Backoff**  \n",
        "   - If the caught error contains `\"429\"` or mentions `\"rate\"` in any form (case-insensitive), it's assumed to be a rate limit.\n",
        "   - The retry then waits using **exponential backoff** + some jitter:\n",
        "     ```\n",
        "     wait_time = 2^attempt + random(0, 2)\n",
        "     ```\n",
        "\n",
        "3. **Immediate Exception Propagation**  \n",
        "   - If the error is **not a rate limit**, it's immediately raised, preserving original stack trace and debugging info.\n",
        "\n",
        "4. **Final Failure Handling**  \n",
        "   - After all retries fail, a `RuntimeError` is raised with the failed audio path.\n",
        "\n",
        "---\n",
        "\n",
        "#### ✅ Benefits:\n",
        "- **Avoids losing data** due to transient issues.\n",
        "- **Prevents API ban** by spacing requests intelligently.\n",
        "- Makes batch processing **more robust and stable**.\n",
        "\n",
        "---\n",
        "\n",
        "#### ⚠️ Important:\n",
        "Ensure this function wraps **all calls to `evaluate_audio_file()`** in bulk processing loops.\n",
        "\n"
      ],
      "metadata": {
        "id": "YP0C7qjMsW6F"
      }
    },
    {
      "cell_type": "code",
      "source": [
        "MAX_RETRIES = 5\n",
        "\n",
        "def robust_evaluate_audio(audio_path):\n",
        "    for attempt in range(MAX_RETRIES):\n",
        "        try:\n",
        "            return evaluate_audio_file(audio_path)\n",
        "        except Exception as e:\n",
        "            if \"429\" in str(e) or \"rate\" in str(e).lower():\n",
        "                wait_time = 2 ** attempt + random.uniform(0, 2)\n",
        "                print(f\"[!] Rate limit hit. Retrying in {wait_time:.1f}s... (Attempt {attempt+1}/{MAX_RETRIES})\")\n",
        "                time.sleep(wait_time)\n",
        "            else:\n",
        "                raise e\n",
        "    raise RuntimeError(f\"Exceeded retries for {audio_path}\")"
      ],
      "metadata": {
        "id": "632dbMa_bvC5"
      },
      "execution_count": 18,
      "outputs": []
    },
    {
      "cell_type": "markdown",
      "source": [
        "### 🧪 Batch Evaluation of Test Audio Files (`evaluate_all_test_audios`)\n",
        "\n",
        "This function processes all `.wav` files in a specified test directory using the previously defined `robust_evaluate_audio()` function. It builds the final test submission DataFrame by transcribing, evaluating grammar, and capturing any issues during inference.\n",
        "\n",
        "---\n",
        "\n",
        "#### 📦 Input:\n",
        "- `test_audio_dir` (str): Path to the folder containing test `.wav` audio files.\n",
        "\n",
        "---\n",
        "\n",
        "#### ⚙️ Workflow:\n",
        "1. **Discovery**  \n",
        "   - Uses `os.listdir()` to find all `.wav` files and sort them for consistent order.\n",
        "\n",
        "2. **Batch Inference with Progress**  \n",
        "   - Iterates through each test audio file using `tqdm` to show live progress.\n",
        "   - Calls `robust_evaluate_audio()` to:\n",
        "     - Transcribe the audio\n",
        "     - Send the transcript to LLM\n",
        "     - Extract score, suggestions, and grammar mistakes\n",
        "\n",
        "3. **Error Handling**  \n",
        "   - If evaluation fails even after retrying, it logs the error and fills the row with:\n",
        "     - Empty transcription\n",
        "     - `None` for score\n",
        "     - Error message in `suggestions`\n",
        "     - Empty `mistakes`\n",
        "\n",
        "4. **Result Collection**  \n",
        "   - Stores results in a list of dictionaries.\n",
        "   - Converts the list into a `pandas.DataFrame` for downstream saving or submission.\n",
        "\n",
        "---\n",
        "\n",
        "#### 📤 Output:\n",
        "- A DataFrame with the following columns:\n",
        "  - `audio_file`: filename of the input audio\n",
        "  - `transcription`: Whisper transcription output\n",
        "  - `score`: predicted grammar score (float or `None`)\n",
        "  - `suggestions`: improvement suggestions or error message\n",
        "  - `mistakes`: grammar categories identified by the model\n",
        "\n",
        "---\n",
        "\n",
        "#### ✅ Why It’s Useful:\n",
        "- Automates evaluation for all test samples.\n",
        "- Ensures fault tolerance so a few failing files don’t break the entire pipeline.\n",
        "- Organizes model outputs in a structured format ready for Kaggle submission.\n",
        "\n",
        "---\n",
        "\n",
        "#### 📌 Tip:\n",
        "Always verify that your final DataFrame:\n",
        "- Matches the expected schema.\n",
        "- Has `score` values in `float` type.\n",
        "- Handles all errors gracefully.\n"
      ],
      "metadata": {
        "id": "8VWwhAm5sjfb"
      }
    },
    {
      "cell_type": "code",
      "source": [
        "\n",
        "\n",
        "def evaluate_all_test_audios(test_audio_dir):\n",
        "    results = []\n",
        "    audio_files = sorted([f for f in os.listdir(test_audio_dir) if f.endswith(\".wav\")])\n",
        "    print(f\"[+] Found {len(audio_files)} test audio files.\")\n",
        "\n",
        "    for audio_file in tqdm(audio_files, desc=\"Evaluating Test Set\"):\n",
        "        audio_path = os.path.join(test_audio_dir, audio_file)\n",
        "\n",
        "        try:\n",
        "            result = robust_evaluate_audio(audio_path)\n",
        "            result['audio_file'] = audio_file\n",
        "            results.append(result)\n",
        "\n",
        "        except Exception as e:\n",
        "            print(f\"[X] Error on {audio_file}: {e}\")\n",
        "            results.append({\n",
        "                \"audio_file\": audio_file,\n",
        "                \"transcription\": \"\",\n",
        "                \"score\": None,\n",
        "                \"suggestions\": f\"Error: {str(e)}\",\n",
        "                \"mistakes\": \"\"\n",
        "            })\n",
        "\n",
        "    return pd.DataFrame(results)\n"
      ],
      "metadata": {
        "id": "X1wjppALb0qh"
      },
      "execution_count": 19,
      "outputs": []
    },
    {
      "cell_type": "code",
      "source": [
        "df_results = evaluate_all_test_audios(\"data/dataset/audios_test/\")\n",
        "\n",
        "# Save for leaderboard or review\n",
        "df_results[[\"audio_file\", \"score\"]].to_csv(\"submission.csv\", index=False)\n",
        "print(\"[✓] Saved as submission.csv\")\n",
        "\n",
        "# Save full results with suggestions\n",
        "df_results.to_csv(\"full_output.csv\", index=False)\n",
        "print(\"[✓] Full output saved as full_output.csv\")\n"
      ],
      "metadata": {
        "colab": {
          "base_uri": "https://localhost:8080/"
        },
        "collapsed": true,
        "id": "aILKqtTqcMSC",
        "outputId": "fb3de835-886f-4241-fd26-477ba03467b4"
      },
      "execution_count": 20,
      "outputs": [
        {
          "output_type": "stream",
          "name": "stdout",
          "text": [
            "[+] Found 195 test audio files.\n"
          ]
        },
        {
          "output_type": "stream",
          "name": "stderr",
          "text": [
            "\rEvaluating Test Set:   0%|          | 0/195 [00:00<?, ?it/s]"
          ]
        },
        {
          "output_type": "stream",
          "name": "stdout",
          "text": [
            "[+] Transcribing data/dataset/audios_test/audio_10.wav ...\n",
            "[✓] Transcribed:  The scene of the playground was filled with children. They were laughing and screaming and running around with lots of energy. There was a big open field, although some of it was tarmac and some of it had greenery. There was lots of games to play. I seen some kids playing hopscotch. I seen some kids playing with skipping ropes. There was even slides and swings. It looked as if it was in full force. There were some parents on the side watching the kids play in the playground. And there were some people walking past as they looked in at the children having lots of fun in the playground. Amen.\n",
            "[+] Sending to LLM for evaluation...\n",
            "[✓] LLM Output:\n",
            "Score: 3.2\n",
            "Suggestions: Consider using more precise vocabulary, such as \"numerous\" instead of \"lots of\" to describe the games and activities. Also, try to vary sentence structure and length to improve overall flow and clarity.\n",
            "\n",
            "Mistakes:\n",
            "\n",
            "* Tense inconsistency: The sentence switches between past and present tense (\"was filled\" vs. \"were laughing\", \"was\" vs. \"I seen\")\n",
            "* Lack of articles: Several instances of missing articles (\"a big open field\", \"some kids playing hopscotch\")\n",
            "* Repetition: The sentence \"There was lots of games to play\" is repeated in a similar form later in the sentence\n",
            "* Informal language: The use of \"I seen\" instead of \"I saw\" is informal and may not be suitable for all audiences\n",
            "* Unnecessary phrase: The phrase \"It looked as if it was in full force\" is not necessary and can be removed for better clarity.\n"
          ]
        },
        {
          "output_type": "stream",
          "name": "stderr",
          "text": [
            "\rEvaluating Test Set:   1%|          | 1/195 [00:05<17:16,  5.34s/it]"
          ]
        },
        {
          "output_type": "stream",
          "name": "stdout",
          "text": [
            "[+] Transcribing data/dataset/audios_test/audio_1012.wav ...\n",
            "[✓] Transcribed:  The playground looks like beautiful in that we will enjoy and we are ready to play and our stresses decreases in playground. Full joy and enjoyment will be there in that playground and we will play several games like outdoor games like cricket and badminton and etc in that playground and there is no rules and regulations in the playground whatever you like to do in a good manner in a particular doing is good for health and playing games is also good for health.\n",
            "[+] Sending to LLM for evaluation...\n",
            "[✓] LLM Output:\n",
            "Score: 2.0\n",
            "Suggestions: Break up long sentences into shorter ones, and consider rephrasing some of the sentences to improve clarity and coherence.\n",
            "\n",
            "Mistakes:\n",
            "\n",
            "* Lack of subject-verb agreement (e.g., \"we will enjoy and we are ready to play\")\n",
            "* Inconsistent verb tense (e.g., \"will enjoy\" vs. \"are ready\")\n",
            "* Use of vague pronouns (e.g., \"that\" instead of specifying which playground)\n",
            "* Lack of clear transitions between ideas\n",
            "* Overuse of vague phrases (e.g., \"and etc\")\n",
            "* Inconsistent use of articles (e.g., \"the playground\" vs. \"playground\")\n",
            "* Unclear meaning due to lack of specific details (e.g., \"whatever you like to do in a good manner in a particular doing is good for health\")\n",
            "* Run-on sentences (e.g., \"Full joy and enjoyment will be there in that playground and we will play several games...\")\n"
          ]
        },
        {
          "output_type": "stream",
          "name": "stderr",
          "text": [
            "\rEvaluating Test Set:   1%|          | 2/195 [00:09<14:54,  4.64s/it]"
          ]
        },
        {
          "output_type": "stream",
          "name": "stdout",
          "text": [
            "[+] Transcribing data/dataset/audios_test/audio_1013.wav ...\n",
            "[✓] Transcribed:  In the school playground, children's laughter fills the air, echoing against the backdrop of playful shouts and jiggles. Groups of kids scatter across the vibrant space, each engaged with their unique games and activities. Swings sway gently, carrying delighted youngsters back and forth through the crypt's sides. Nearby, a game of tag ensues, with energetic participants flirting around a frenzy of excitement. The basketball court echoed with a rhythmic sound of doubling balls and an occasional triumphant cheer of a successful shot. Over by the jungle gym, adventurous souls climb and explore their imaginations turning their mental structure into a towerhouse fortress or a distant castle. At the heart of the scene, the vibrant energy of his childhood paints a picture of the enderman and a timeless table of youthful memories. Thank you.\n",
            "[+] Sending to LLM for evaluation...\n",
            "[✓] LLM Output:\n",
            "Score: 4.8\n",
            "Suggestions: None, the sentence is well-structured and grammatically correct. However, some phrases could be rephrased for better clarity and concision.\n",
            "\n",
            "Mistakes: None, the sentence is free of grammatical errors.\n"
          ]
        },
        {
          "output_type": "stream",
          "name": "stderr",
          "text": [
            "\rEvaluating Test Set:   2%|▏         | 3/195 [00:14<15:05,  4.72s/it]"
          ]
        },
        {
          "output_type": "stream",
          "name": "stdout",
          "text": [
            "[+] Transcribing data/dataset/audios_test/audio_1019.wav ...\n",
            "[✓] Transcribed:  School Playground is an essential part of school's environment, providing students with opportunities for physical activity, social interaction, and creative play. Here are some detailed accepts of typical school playground. It has play structure, open space, safety features, shade and seating, inclusive features, environmental considerations, supervision, maintenance. These are the main parts of the school playground. School playground plays a vital role in promoting physical activity, social development and overall well-being amongst students.\n",
            "[+] Sending to LLM for evaluation...\n",
            "[✓] LLM Output:\n",
            "Score: 4.2\n",
            "Suggestions: Consider rephrasing some of the sentences for better clarity and concision. For example, the sentence \"Here are some detailed accepts of typical school playground\" could be rephrased to \"Some typical features of a school playground include...\" to improve grammar and flow.\n",
            "\n",
            "Mistakes:\n",
            "\n",
            "* \"accepts\" should be \"features\" (article error)\n",
            "* \"It has play structure, open space, safety features, shade and seating, inclusive features, environmental considerations, supervision, maintenance\" is a long and awkward sentence; consider breaking it up into simpler sentences for better clarity.\n"
          ]
        },
        {
          "output_type": "stream",
          "name": "stderr",
          "text": [
            "\rEvaluating Test Set:   2%|▏         | 4/195 [00:18<14:49,  4.66s/it]"
          ]
        },
        {
          "output_type": "stream",
          "name": "stdout",
          "text": [
            "[+] Transcribing data/dataset/audios_test/audio_1022.wav ...\n",
            "[✓] Transcribed:  My school playground is small in size because it's similar to government school. Moreover, in that small place we used to play a lot. We used to play dodge ball and you know like everything, everything. All my morning prayers are done in the same ground and we used to play weekly once for 15 minutes in that playground and which we feel very happy and most of the students are very interested to play games there. and I think you're one of the most of them\n",
            "[+] Sending to LLM for evaluation...\n",
            "[✓] LLM Output:\n",
            "Score: 2.5\n",
            "Suggestions: Consider rephrasing some of the sentences to improve clarity and concision. For example, the sentence \"My school playground is small in size because it's similar to government school\" could be rephrased to \"My school playground is small, similar to those found in government schools.\"\n",
            "Mistakes: article (indefinite article \"a\" is missing in \"a lot\", \"everything\", \"one\"), pronoun (ambiguous use of \"you\" in the last sentence), punctuation (missing periods and commas throughout the text), verb tense (mix of past and present tense), and sentence structure (some sentences are quite long and convoluted).\n"
          ]
        },
        {
          "output_type": "stream",
          "name": "stderr",
          "text": [
            "\rEvaluating Test Set:   3%|▎         | 5/195 [00:22<14:06,  4.46s/it]"
          ]
        },
        {
          "output_type": "stream",
          "name": "stdout",
          "text": [
            "[+] Transcribing data/dataset/audios_test/audio_1026.wav ...\n",
            "[✓] Transcribed:  My favorite place to visit is Rajasthan. It's a vibrant culture. There are different types of landscapes there. You can explore the places of Jaipur witnessing the beautiful forts, different types of forts there. You also have a desert to visit there in the Rajasthan. In India, we can find only the desert in Rajasthan.\n",
            "[+] Sending to LLM for evaluation...\n",
            "[✓] LLM Output:\n",
            "Score: 3.5\n",
            "Suggestions: Consider rephrasing some of the sentences to improve clarity and concision. For example, the sentence \"You can explore the places of Jaipur witnessing the beautiful forts, different types of forts there\" could be simplified to \"You can explore Jaipur's beautiful forts and different types of forts.\"\n",
            "\n",
            "Mistakes:\n",
            "\n",
            "* Lack of articles (\"a\" or \"the\") in some places (e.g., \"different types of forts there\")\n",
            "* Repetition of \"there\" in some sentences (e.g., \"There are different types of landscapes there\")\n",
            "* Use of the phrase \"You can explore the places of Jaipur\" instead of a more concise phrase like \"You can explore Jaipur\"\n",
            "* Some sentences are a bit wordy and could be simplified for better clarity\n"
          ]
        },
        {
          "output_type": "stream",
          "name": "stderr",
          "text": [
            "\rEvaluating Test Set:   3%|▎         | 6/195 [00:28<15:16,  4.85s/it]"
          ]
        },
        {
          "output_type": "stream",
          "name": "stdout",
          "text": [
            "[+] Transcribing data/dataset/audios_test/audio_103.wav ...\n",
            "[✓] Transcribed:  Supercalifragilisticexpialidocious. Happy December 16th. Fuck Fuckers Yes Tasam ogniwos Een withos pam Lettuce, girgonde, recapsi. by and em mhelus nullius ausetia meatatius 4 et about mles Deasur deus, erdius etias rain, eti refrescant la crais ifôipius ca. Amin. Ahoi! Ola! Ola! Ola! Ola! Ola! Ola! Ola!\n",
            "[+] Sending to LLM for evaluation...\n",
            "[✓] LLM Output:\n",
            "Score: 1.0\n",
            "Suggestions: The sentence appears to be a collection of random words and phrases, with no coherent meaning or structure. Consider breaking the sentence down into smaller, more manageable parts and reorganizing them to convey a clear message.\n",
            "Mistakes: Ungrammatical, lack of punctuation, incorrect capitalization, and nonsensical vocabulary.\n"
          ]
        },
        {
          "output_type": "stream",
          "name": "stderr",
          "text": [
            "\rEvaluating Test Set:   4%|▎         | 7/195 [00:39<21:12,  6.77s/it]"
          ]
        },
        {
          "output_type": "stream",
          "name": "stdout",
          "text": [
            "[+] Transcribing data/dataset/audios_test/audio_1033.wav ...\n",
            "[✓] Transcribed:  I don't have a particular place to visit and my favorite places to visit Ooty are mostly beach places and I like to travel through bikes or trains and I like to travel through night rides. It really gives me a pleasant kind of feeling that makes me feel very happy. The dishes I love most during journey is biryani and very light food and I don't take much food during journeys. the particular season are to visit places is mostly summer or winter seasons and on those days the weather is support the visitors to the places so i like to most those kind of seasons\n",
            "[+] Sending to LLM for evaluation...\n",
            "[✓] LLM Output:\n",
            "Score: 2.0\n",
            "Suggestions: Break up long sentences into shorter ones, use a more consistent verb tense, and proofread for minor errors in punctuation and capitalization.\n",
            "\n",
            "Mistakes:\n",
            "\n",
            "* Lack of subject-verb agreement (e.g., \"The dishes I love most during journey is biryani...\")\n",
            "* Inconsistent verb tense (e.g., \"I don't have a particular place to visit\" vs. \"I like to travel through night rides\")\n",
            "* Run-on sentences (e.g., \"I like to travel through bikes or trains and I like to travel through night rides\")\n",
            "* Lack of articles (\"the\" and \"a\") in some places\n",
            "* Incorrect use of commas (e.g., \"the particular season are to visit places is mostly summer or winter seasons...\")\n",
            "* Capitalization errors (e.g., \"the particular season are\" should be \"the particular seasons are\")\n"
          ]
        },
        {
          "output_type": "stream",
          "name": "stderr",
          "text": [
            "\rEvaluating Test Set:   4%|▍         | 8/195 [00:44<19:31,  6.26s/it]"
          ]
        },
        {
          "output_type": "stream",
          "name": "stdout",
          "text": [
            "[+] Transcribing data/dataset/audios_test/audio_1035.wav ...\n",
            "[✓] Transcribed:  My favorite place to visit is the beach. I love the sound of the waves crashing against the shore, the feeling of the sand between my toes and the smell of the salt water. I love the fact that there is always something to do at the beach. I can swim, sunbath, build sand castles or just relax and listen to the waves. One of our favorite things to do at the beach is to collect sea shells. I love the different size and colors of sea shells. I also like to try to find sea shells that have been washed on the shore by the waves. Another favorite thing to do at the beach is to watch the sunset. I love the way the sky turns different colors as the sun goes. It is a very peaceful and relaxing experience. also enjoying walks on the beach\n",
            "[+] Sending to LLM for evaluation...\n",
            "[✓] LLM Output:\n",
            "Score: 4.2\n",
            "Suggestions: Consider varying sentence structure and length to improve flow and clarity. Additionally, some sentences could be combined to reduce repetition and improve overall coherence.\n",
            "Mistakes: None notable, but some sentences could be rephrased for greater variety and interest.\n"
          ]
        },
        {
          "output_type": "stream",
          "name": "stderr",
          "text": [
            "\rEvaluating Test Set:   5%|▍         | 9/195 [00:48<17:20,  5.60s/it]"
          ]
        },
        {
          "output_type": "stream",
          "name": "stdout",
          "text": [
            "[+] Transcribing data/dataset/audios_test/audio_1048.wav ...\n",
            "[✓] Transcribed:  Recently I visited a semi-city with one of my friends. They are going to meet the car and the four members from our native place to Chennai with my friends. and then there was the famous food was a table somewhere and some coffee or some beach foods like fish and etc. We particularly spent more time in Gneitz and then there was a magical and beautiful moment the sunrise in summer around 6 am 7 am that was very good at that time we spent more time at the beach that was good experience\n",
            "[+] Sending to LLM for evaluation...\n",
            "[✓] LLM Output:\n",
            "Score: 2.8\n",
            "Suggestions: Break up long sentences into shorter ones, and consider using more precise vocabulary. For example, instead of \"semi-city\", you could use \"small town\" or \"suburban area\".\n",
            "Mistakes: tense (mix of past and present), article (lack of definite articles), punctuation (missing commas and periods), pronoun (ambiguous reference), preposition (inconsistent use of \"to\" and \"with\"), adjective (overuse of \"good\" and \"beautiful\"), conjunction (inconsistent use of \"and\" and \"then\").\n"
          ]
        },
        {
          "output_type": "stream",
          "name": "stderr",
          "text": [
            "\rEvaluating Test Set:   5%|▌         | 10/195 [00:53<16:25,  5.33s/it]"
          ]
        },
        {
          "output_type": "stream",
          "name": "stdout",
          "text": [
            "[+] Transcribing data/dataset/audios_test/audio_1054.wav ...\n",
            "[✓] Transcribed:  My favourite place to visit is Palm Springs, California. I first travelled there in 2010 and it was after a work conference in Las Vegas that was really hectic and it felt really magical because I got on a really small plane and the flight was really short and the airport, as soon as we landed at the airport was stunning, beautiful architecture, all open-air, absolutely magical. My favourite restaurant there is Melvyn's, it was a hangout, favourite hangout of the Rat Pack and especially Frank Sinatra. He had his wedding there and stayed, had his this honeymoon in Nextdoor as well. I actually really liked being there in the middle of summer. It was absolutely stunning.\n",
            "[+] Sending to LLM for evaluation...\n",
            "[✓] LLM Output:\n",
            "Score: 4.2\n",
            "Suggestions: Consider breaking up long sentences into shorter ones for better clarity and flow. Additionally, some sentences could be rephrased for more concise language.\n",
            "Mistakes: \n",
            "\n",
            "* Tense inconsistency (switching between past and present tense)\n",
            "* Run-on sentences (e.g., \"it was after a work conference in Las Vegas that was really hectic and it felt really magical...\")\n",
            "* Missing articles (\"the\" before \"airport\", \"the\" before \"Rat Pack\")\n",
            "* Unclear pronoun reference (\"He\" referring to Frank Sinatra, but no clear connection to the previous sentence)\n",
            "* Minor punctuation errors (e.g., missing commas in a list)\n"
          ]
        },
        {
          "output_type": "stream",
          "name": "stderr",
          "text": [
            "\rEvaluating Test Set:   6%|▌         | 11/195 [00:58<15:58,  5.21s/it]"
          ]
        },
        {
          "output_type": "stream",
          "name": "stdout",
          "text": [
            "[+] Transcribing data/dataset/audios_test/audio_1058.wav ...\n",
            "[✓] Transcribed:  One of my favorite places to visit is a quiet beach at sunset. The beach is secluded with soft white sand stretching out for miles. As the sun begins to set, the sky is painted in woos of orange, pink, and purple, casting a warm glow over the water. I love walking along the shore, feeling the cool water laugh at my feet and the gentle breeze tussle my hair. The sound of the waves crashing against the shore is soothing, creating a peaceful atmosphere as the sun dips below the horizon. The sky transforms into a canvas of vibrant colors, reflecting off the calm water. I often find a spot to sit and watch the sunset, feeling a sense of calm and contentment wash over me. After the sun has set, the sky darkens and the stars begin to emerge.\n",
            "[+] Sending to LLM for evaluation...\n",
            "[✓] LLM Output:\n",
            "Score: 4.5\n",
            "Suggestions: Consider varying sentence structure and length to maintain a consistent pace and flow. Additionally, a few words (\"woos\", \"tussle\") could be replaced with more precise and common alternatives.\n",
            "Mistakes: None notable, good use of verb tenses, articles, and punctuation.\n"
          ]
        },
        {
          "output_type": "stream",
          "name": "stderr",
          "text": [
            "\rEvaluating Test Set:   6%|▌         | 12/195 [01:02<14:41,  4.82s/it]"
          ]
        },
        {
          "output_type": "stream",
          "name": "stdout",
          "text": [
            "[+] Transcribing data/dataset/audios_test/audio_1061.wav ...\n",
            "[✓] Transcribed:  Las Vegas in marker Achoo! Precitatio нагstur Creep OM ESTUR Instagram prozAD Sailor z vendbat sphincter de de de de de de de de de de de de de de Endora glace skirpede. Giddige cos voce mor svejve Captarene Rod w ficticios col deum Les surplussi ac Fewi s est Asturias te in ca Veni, da me asturias te asturias te asturias te asturias te asturias te SILENT PRACTICES FORCE THEATERS AND LES ORIGINALISTS LES TESSERES TESSERES� z m x d y v s g h r x u V\n",
            "[+] Sending to LLM for evaluation...\n",
            "[✓] LLM Output:\n",
            "Score: 1.0\n",
            "Suggestions: Break down the sentence into smaller, more manageable parts, and focus on creating coherent and grammatically correct sentences. Use a dictionary to look up unfamiliar words and phrases, and consider using a thesaurus to find alternative words with more precise meanings.\n",
            "Mistakes: Unusual word choice and structure, lack of punctuation, incorrect capitalization, and unclear meaning. The sentence appears to be a jumbled collection of words and phrases, with no apparent logical connection between them.\n"
          ]
        },
        {
          "output_type": "stream",
          "name": "stderr",
          "text": [
            "\rEvaluating Test Set:   7%|▋         | 13/195 [01:14<21:41,  7.15s/it]"
          ]
        },
        {
          "output_type": "stream",
          "name": "stdout",
          "text": [
            "[+] Transcribing data/dataset/audios_test/audio_1068.wav ...\n",
            "[✓] Transcribed:  Redouloir-a- partir, cons 건데 Liv, et moui, wallsou sur la terre. Mostort å sur The Great Funeral and this one is our show The Plastical Turtle Turtle présent ! Ne rhin Asiato asiato ad Ita, ita, Asiato, asiato, a a a a a a\n",
            "[+] Sending to LLM for evaluation...\n",
            "[✓] LLM Output:\n",
            "Score: 1.2\n",
            "Suggestions: Break down the sentence into smaller, more manageable parts, and focus on using correct grammar and spelling. Consider using a translation tool or a native speaker to help with sentence structure and vocabulary.\n",
            "Mistakes: Unusual sentence structure, lack of punctuation, incorrect capitalization, and non-English words and phrases (e.g. \"Redouloir-a- partir\", \"Liv\", \"moui\", \"wallsou\", \"Mostort\", \"å\", \"Asiato\", \"ita\", etc.).\n"
          ]
        },
        {
          "output_type": "stream",
          "name": "stderr",
          "text": [
            "\rEvaluating Test Set:   7%|▋         | 14/195 [01:23<22:42,  7.53s/it]"
          ]
        },
        {
          "output_type": "stream",
          "name": "stdout",
          "text": [
            "[+] Transcribing data/dataset/audios_test/audio_107.wav ...\n",
            "[✓] Transcribed:  In the bustling scene of a crowded market, vendors line the narrow streets, their stalls overflowing with a credioscope of goods. People weave through the throngs, their arms laden with bags and baskets, eager to secure the freshest produce and the best deals. The air is live with a symphony of sounds, the rhythmic chants of merchants hocking their waves, the clinking of coins as transactions are made, and the lively chatter of buyers bargaining for prizes. Fragrant spices waft through the air, mingling with the aroma of freshly baked bread and sleazy street food. Every corner offers a new sensory experience. Fruit vendors display pyramids of ripe mangoes and juicy oranges while vegetable sellers arrange colorful stacks of tomatoes, peppers, and leafy greens.\n",
            "[+] Sending to LLM for evaluation...\n",
            "[✓] LLM Output:\n",
            "Score: 4.5\n",
            "Suggestions: Consider varying sentence structure and length to create a more dynamic rhythm. Additionally, some sentences could be combined for better flow.\n",
            "Mistakes: None notable. The sentence is well-structured, with proper use of articles, verb tenses, and punctuation. The vocabulary is rich and descriptive, with effective use of metaphors (e.g., \"credioscope of goods\") and sensory details.\n"
          ]
        },
        {
          "output_type": "stream",
          "name": "stderr",
          "text": [
            "\rEvaluating Test Set:   8%|▊         | 15/195 [01:28<20:26,  6.81s/it]"
          ]
        },
        {
          "output_type": "stream",
          "name": "stdout",
          "text": [
            "[+] Transcribing data/dataset/audios_test/audio_1081.wav ...\n",
            "[✓] Transcribed:  I love to go to the cinemas with my friends, my wife, my children. I travel there most times to a particular cinema I love to attend, which I love their food, their dishes there, the environment, their hospitality. I love everything about the place. It's fun to be there. I go usually in the evening so I could see lots of beautiful views and environments. It's a beautiful place. It's magical. It's beautiful. It's great. It's very, very awesome to be in. Yeah, it's a nice place to be in. It has lots of... The TV is a big one. They have popcorn, different dishes, different dishes available. you\n",
            "[+] Sending to LLM for evaluation...\n",
            "[✓] LLM Output:\n",
            "Score: 2.5\n",
            "Suggestions: Break up long sentences into shorter ones to improve clarity. Use more precise language to describe the cinema's amenities. Consider using a more varied vocabulary to avoid repetition.\n",
            "Mistakes: Fragmented sentence structure, repetitive language, lack of precise vocabulary, and informal tone.\n"
          ]
        },
        {
          "output_type": "stream",
          "name": "stderr",
          "text": [
            "\rEvaluating Test Set:   8%|▊         | 16/195 [01:32<17:50,  5.98s/it]"
          ]
        },
        {
          "output_type": "stream",
          "name": "stdout",
          "text": [
            "[+] Transcribing data/dataset/audios_test/audio_1089.wav ...\n",
            "[✓] Transcribed:  My favorite place to visit is Bali in Indonesia. I have been there a couple of times and why I love it is apart from the scenery which is really really beautiful, I also love the food there. I love, there are lots of rice, noodles that are prepared in so many different ways. I love the smell of the place, like how it just smells, like it smells, it has this my grandma cooking in the kitchen smell. I love it for the food and the scenery. It's so beautiful, it's one of the most beautiful places I've been to. lots of natural greens and just water areas and temples and I don't know\n",
            "[+] Sending to LLM for evaluation...\n",
            "[✓] LLM Output:\n",
            "Score: 3.5\n",
            "Suggestions: Consider rephrasing some of the sentences to improve clarity and concision. For example, the sentence \"I love, there are lots of rice, noodles that are prepared in so many different ways\" could be rephrased to \"I love the variety of rice and noodle dishes prepared in different ways\".\n",
            "Mistakes: Tense inconsistency (switching between past and present tense), repeated use of \"I love\" (consider varying sentence structure), lack of punctuation (e.g. missing commas and periods), and some grammatical errors (e.g. \"it has this my grandma cooking in the kitchen smell\" could be rephrased to \"it has a smell reminiscent of my grandma's cooking\").\n"
          ]
        },
        {
          "output_type": "stream",
          "name": "stderr",
          "text": [
            "\rEvaluating Test Set:   9%|▊         | 17/195 [01:37<17:03,  5.75s/it]"
          ]
        },
        {
          "output_type": "stream",
          "name": "stdout",
          "text": [
            "[+] Transcribing data/dataset/audios_test/audio_109.wav ...\n",
            "[✓] Transcribed:  In the crowded market, the scene is vibrant and bustling with activity. Vendors like the street, selling a variety of goods and ranging from fresh produce like fruits, vegetables and spices to clothing, accessories and household items. Customer weave through the narrow aisle, bargaining and inspecting the merchandise. The market is filled with the sound of vendors calling out their prices and goods, mingling with the chatters of buyers and sellers negotiating deals. The clinking of coins and the rustle of bags add to the lively atmosphere. As the day progresses, the market scene changes. In the morning, it starts slowly as vendors set up their stall and early shoppers begin to arrive. By midday, the market is at its peak with crowds bustling around, making purchases and enjoying the lively ambience. Towards the evening, the pace begins to slow down as the vendors start to pack up their stalls.\n",
            "[+] Sending to LLM for evaluation...\n",
            "[✓] LLM Output:\n",
            "Score: 4.0\n",
            "Suggestions: Consider breaking up long sentences into shorter ones for better clarity and flow. Additionally, some sentences could be rephrased for more concise language.\n",
            "Mistakes: None notable, but some sentences could be improved for clarity and concision.\n"
          ]
        },
        {
          "output_type": "stream",
          "name": "stderr",
          "text": [
            "\rEvaluating Test Set:   9%|▉         | 18/195 [01:42<16:12,  5.50s/it]"
          ]
        },
        {
          "output_type": "stream",
          "name": "stdout",
          "text": [
            "[+] Transcribing data/dataset/audios_test/audio_1091.wav ...\n",
            "[✓] Transcribed:  My favorite travel destination is probably Miami just because a lot of my friends live in Florida and live in the Miami area. Usually I end up flying down, flying to Miami. Local foods or dishes? That's a good question. I feel like I don't really, really care about that type of stuff. In terms of their particular time of day, oh, I love the night. I love it at night. What else?\n",
            "[+] Sending to LLM for evaluation...\n",
            "[✓] LLM Output:\n",
            "Score: 4.2\n",
            "Suggestions: Consider using more precise language and varying sentence structure to improve clarity and flow.\n",
            "\n",
            "Mistakes: None notable. The sentence has a conversational tone and uses informal language, which is suitable for the context. However, some sentences could be rephrased for better clarity and grammar. For example, \"I feel like I don't really, really care about that type of stuff\" could be rephrased as \"I'm not particularly interested in local foods or dishes.\"\n"
          ]
        },
        {
          "output_type": "stream",
          "name": "stderr",
          "text": [
            "\rEvaluating Test Set:  10%|▉         | 19/195 [01:47<15:29,  5.28s/it]"
          ]
        },
        {
          "output_type": "stream",
          "name": "stdout",
          "text": [
            "[+] Transcribing data/dataset/audios_test/audio_1101.wav ...\n",
            "[✓] Transcribed:  All my friends are eagerly waiting to visit Lakshadweep. It is a beautiful place which are coming under the region of India. It is very convenient to go and recently Prime Minister also visited this place and all social media is very exposed to this place. That's why we are interested to visit Lakshadweep and explore the places which are mainly highlighted in those areas and experience the food too.\n",
            "[+] Sending to LLM for evaluation...\n",
            "[✓] LLM Output:\n",
            "Score: 3.5\n",
            "Suggestions: Consider using a more precise phrase instead of \"which are coming under the region of India\" to describe Lakshadweep's location. Additionally, some sentences could be rephrased for better clarity and flow.\n",
            "Mistakes: Article (indefinite article \"a\" is missing in \"a beautiful place\"), pronoun (ambiguous use of \"those areas\"), punctuation (missing commas to separate clauses).\n"
          ]
        },
        {
          "output_type": "stream",
          "name": "stderr",
          "text": [
            "\rEvaluating Test Set:  10%|█         | 20/195 [01:52<15:19,  5.25s/it]"
          ]
        },
        {
          "output_type": "stream",
          "name": "stdout",
          "text": [
            "[+] Transcribing data/dataset/audios_test/audio_1115.wav ...\n",
            "[✓] Transcribed:  That's an existing goal. Becoming a software developer offers numerous opportunities for creativity, problem solving and making a meaningful impact in various industries. To achieve these goals, it has some following steps. First, we have to learn the basics after the practice regularity, build projects, gain special knowledge, network and collaborate, continuously learn and adapt, seek internships or entry-level positions, work on soft skills. By following these steps and staying dedicated to your goal, you will be well on your way to becoming a successful software developer.\n",
            "[+] Sending to LLM for evaluation...\n",
            "[✓] LLM Output:\n",
            "Score: 4.2\n",
            "Suggestions: Consider breaking up long sentences into shorter ones for better clarity and flow. Also, some sentences could be rephrased for more concise language.\n",
            "Mistakes: \n",
            "\n",
            "* Tense consistency: The sentence switches between present and future tense (e.g., \"Becoming a software developer offers...\" vs. \"To achieve these goals...\").\n"
          ]
        },
        {
          "output_type": "stream",
          "name": "stderr",
          "text": [
            "\rEvaluating Test Set:  11%|█         | 21/195 [02:00<17:37,  6.08s/it]"
          ]
        },
        {
          "output_type": "stream",
          "name": "stdout",
          "text": [
            "[+] Transcribing data/dataset/audios_test/audio_1116.wav ...\n",
            "[✓] Transcribed:  My goal and importance is to become an IT sector. To become an IT sector, and MNC recruited companies is long term goal. Short term goal is to get in a job in IT sector. And it makes proud to me, my parents. and any challenges we can face to achieve this goal. My parents to motivate to stay focused on this path to achieve your goal to get a job in IT sector under MNC companies. like mostly my parents and friends also to motivate to get a job in IT sector\n",
            "[+] Sending to LLM for evaluation...\n",
            "[✓] LLM Output:\n",
            "Score: 2.0\n",
            "Suggestions: Break down the long sentence into shorter, simpler sentences to improve clarity. Use a more formal tone and avoid using \"and\" as a conjunction to start a sentence. Consider rephrasing the sentence to focus on a specific idea or goal.\n",
            "\n",
            "Mistakes:\n",
            "\n",
            "* Lack of clear sentence structure and punctuation\n",
            "* Overuse of conjunctions (\"and\") to start sentences\n",
            "* Informal tone and language\n",
            "* Lack of specific details and examples to support the goal\n",
            "* Unclear transition between short-term and long-term goals\n",
            "* Use of vague phrases (\"any challenges we can face\") instead of specific examples or strategies\n"
          ]
        },
        {
          "output_type": "stream",
          "name": "stderr",
          "text": [
            "\rEvaluating Test Set:  11%|█▏        | 22/195 [02:07<18:28,  6.40s/it]"
          ]
        },
        {
          "output_type": "stream",
          "name": "stdout",
          "text": [
            "[+] Transcribing data/dataset/audios_test/audio_1122.wav ...\n",
            "[✓] Transcribed:  My goal is very important for me. My goal is to become an IAS officer. I would be facing many challenges that lack of support from my parents' side too. And this is the main challenge which faced from my side. And what motivates me is my self-confidence and my determination which is driving me towards my goal and moreover I'm very determined towards my goal. Being a passionate girl it is very important for me to serve this nation to serve my country so I have selected IS as my goal this is more than a goal like this is life to me. I always believe in myself at is which motivates me to push\n",
            "[+] Sending to LLM for evaluation...\n",
            "[✓] LLM Output:\n",
            "Score: 2.8\n",
            "Suggestions: Consider breaking up long sentences into shorter ones for better clarity. Also, use a more formal tone in your writing, as it is more suitable for a personal goal statement.\n",
            "\n",
            "Mistakes:\n",
            "\n",
            "* Lack of subject-verb agreement in some sentences (e.g., \"My goal is very important for me. My goal is to become an IAS officer.\")\n",
            "* Overuse of first-person pronouns (\"I\" and \"my\")\n",
            "* Repetition of ideas and phrases throughout the sentence\n",
            "* Informal language and tone\n",
            "* Lack of coherence and clarity in some sentences\n"
          ]
        },
        {
          "output_type": "stream",
          "name": "stderr",
          "text": [
            "\rEvaluating Test Set:  12%|█▏        | 23/195 [02:16<20:27,  7.14s/it]"
          ]
        },
        {
          "output_type": "stream",
          "name": "stdout",
          "text": [
            "[+] Transcribing data/dataset/audios_test/audio_1123.wav ...\n",
            "[✓] Transcribed:  My goal is to bring my parents to live with me. And this is the only goal I have in my life. And it's long term goal or short term goal, whatever you want to say. My parents send me to study far from home because of my future. So that's my responsibility for their happiness I will bring to them with me. Because every parent loves their child no matter how they want to live also with you. and the challenges I faced during this is competition there is very high competition in the market but I still but this things motivates me to focus and determine on the part to achieving my goal.\n",
            "[+] Sending to LLM for evaluation...\n",
            "[✓] LLM Output:\n",
            "Score: 2.8\n",
            "Suggestions: Break up long sentences into shorter ones, use more precise vocabulary, and consider rephrasing some sentences for better clarity.\n",
            "\n",
            "Mistakes: \n",
            "\n",
            "* Lack of subject-verb agreement (e.g., \"And this is the only goal I have in my life\" should be \"This is the only goal I have in my life\")\n",
            "* Run-on sentences (e.g., \"My parents send me to study far from home because of my future. So that's my responsibility for their happiness I will bring to them with me.\")\n",
            "* Unclear sentence structure (e.g., \"Because every parent loves their child no matter how they want to live also with you.\")\n",
            "* Inconsistent verb tense (e.g., switching between past and present tense)\n",
            "* Lack of punctuation (e.g., missing commas and periods)\n",
            "* Informal language and colloquialisms (e.g., \"whatever you want to say\")\n",
            "* Word order issues (e.g., \"and the challenges I faced during this is competition\")\n"
          ]
        },
        {
          "output_type": "stream",
          "name": "stderr",
          "text": [
            "\rEvaluating Test Set:  12%|█▏        | 24/195 [02:24<21:07,  7.41s/it]"
          ]
        },
        {
          "output_type": "stream",
          "name": "stdout",
          "text": [
            "[+] Transcribing data/dataset/audios_test/audio_1124.wav ...\n",
            "[✓] Transcribed:  My goal is to become an entrepreneur. It revolves around creating and growing a successful business venture. This can include objectives such as developing innovative products or services, building a strong brand, expanding market reach, increasing profitability and making a positive impact. This goal is important to all the citizens as it is a developing objectives. Entrepreneurs often strive for financial independence, creative fulfillment and the ability to make a difference in the world through their ventures. it is important because they make a difference in the world they may also aim to inspire others, mentor aspiring entrepreneurs and contribute\n",
            "[+] Sending to LLM for evaluation...\n",
            "[✓] LLM Output:\n",
            "Score: 4.0\n",
            "Suggestions: Consider rephrasing the sentence \"This goal is important to all the citizens as it is a developing objectives\" to make it clearer and more concise. For example, \"This goal is important as it contributes to the development of the community.\"\n",
            "Mistakes: tense (subject-verb agreement), article (missing definite article \"the\"), punctuation (missing commas to separate clauses).\n"
          ]
        },
        {
          "output_type": "stream",
          "name": "stderr",
          "text": [
            "\rEvaluating Test Set:  13%|█▎        | 25/195 [02:34<23:16,  8.21s/it]"
          ]
        },
        {
          "output_type": "stream",
          "name": "stdout",
          "text": [
            "[+] Transcribing data/dataset/audios_test/audio_113.wav ...\n",
            "[✓] Transcribed:  It's a sunny morning. Most of the people that are buying are all women because their descendants are working because the economy is so hard that no one can allow him to not work even if the work is really hard. They are selling fresh vegetables and the people are searching for bargains because they don't have enough money to buy whatever they want. The salesmen are screaming their prices in loud because they want to sell as much as they can this hard economy time.\n",
            "[+] Sending to LLM for evaluation...\n",
            "[✓] LLM Output:\n",
            "Score: 3.2\n",
            "Suggestions: Consider rephrasing some of the sentences to improve clarity and concision. For example, the sentence \"because their descendants are working because the economy is so hard that no one can allow him to not work even if the work is really hard\" is a bit convoluted and could be broken up into simpler sentences.\n",
            "\n",
            "Mistakes: tense (subject-verb agreement), article (indefinite article \"a\" missing), punctuation (comma splices), pronoun reference (ambiguous reference to \"they\"), modifier placement (adverb \"really\" could be placed more clearly).\n"
          ]
        },
        {
          "output_type": "stream",
          "name": "stderr",
          "text": [
            "\rEvaluating Test Set:  13%|█▎        | 26/195 [02:42<23:16,  8.26s/it]"
          ]
        },
        {
          "output_type": "stream",
          "name": "stdout",
          "text": [
            "[+] Transcribing data/dataset/audios_test/audio_1138.wav ...\n",
            "[✓] Transcribed:  What makes this goal important? My goal is to be successful, especially in my career path. Because my goal gives me a purpose and prioritize all my hard work and efforts. And that is very important to me. But also, I do my best in everything to achieve this goal. the challenges that I would face to achieve this goal is just like the competition, I think that would be my challenges, competition in the job\n",
            "[+] Sending to LLM for evaluation...\n",
            "[✓] LLM Output:\n",
            "Score: 2.8\n",
            "Suggestions: Break up long sentences into shorter ones, and consider rephrasing some of the sentences for better clarity and flow.\n",
            "\n",
            "Mistakes:\n",
            "\n",
            "* Lack of punctuation (e.g., missing periods, commas, and semicolons)\n",
            "* Run-on sentences (e.g., \"What makes this goal important? My goal is to be successful, especially in my career path.\")\n",
            "* Unclear sentence structure (e.g., \"Because my goal gives me a purpose and prioritize all my hard work and efforts.\")\n",
            "* Missing articles (e.g., \"the challenges that I would face to achieve this goal is just like the competition\")\n",
            "* Incorrect use of verb tenses (e.g., \"I do my best in everything to achieve this goal\" - consider using the present continuous or simple future tense instead)\n",
            "* Lack of cohesion between sentences (e.g., the transition between the first and second paragraph is abrupt)\n"
          ]
        },
        {
          "output_type": "stream",
          "name": "stderr",
          "text": [
            "\rEvaluating Test Set:  14%|█▍        | 27/195 [02:49<21:58,  7.85s/it]"
          ]
        },
        {
          "output_type": "stream",
          "name": "stdout",
          "text": [
            "[+] Transcribing data/dataset/audios_test/audio_1159.wav ...\n",
            "[✓] Transcribed:  So my goal in life is to be an entrepreneur where I will have to add value to people and impact lives positively. But how do I do that? I have to equip myself, crossing all the hurdles and the challenges required. I need to have the know-how to become a leader in such a way that i can add value and what drives me is to continuously improve and be the best i can be and my my my my target is to to positively change people's life for good so i think all in all my passion is to see that you know customers are satisfied people lives are changed for the better and that's what keeps me going. Thank you.\n",
            "[+] Sending to LLM for evaluation...\n",
            "[✓] LLM Output:\n",
            "Score: 3.2\n",
            "Suggestions: Consider breaking up long sentences into shorter, more manageable ones to improve clarity. Additionally, vary sentence structures to create a more dynamic tone.\n",
            "Mistakes: \n",
            "\n",
            "* Lack of punctuation (e.g., missing commas, periods)\n",
            "* Run-on sentences (e.g., \"So my goal in life is to be an entrepreneur where I will have to add value to people and impact lives positively. But how do I do that?\")\n",
            "* Repetitive use of \"I\" and \"my\" (e.g., \"I need to have the know-how to become a leader... my my my my target is to to positively change people's life...\")\n",
            "* Unclear sentence structure (e.g., \"I have to equip myself, crossing all the hurdles and the challenges required.\")\n",
            "* Informal tone (e.g., \"what drives me is to continuously improve and be the best i can be\")\n",
            "* Missing articles (e.g., \"to see that you know customers are satisfied people lives are changed for the better\")\n"
          ]
        },
        {
          "output_type": "stream",
          "name": "stderr",
          "text": [
            "\rEvaluating Test Set:  14%|█▍        | 28/195 [02:58<22:36,  8.12s/it]"
          ]
        },
        {
          "output_type": "stream",
          "name": "stdout",
          "text": [
            "[+] Transcribing data/dataset/audios_test/audio_1166.wav ...\n",
            "[✓] Transcribed:  Describe your goal in life. For me, goals are the road maps that guide you to your destination. For me personally, I want to be successful in life to help my family of course, but to be honest, I want to help myself. From there, once I'm already successful, that's the time that I will help my family, whatever they need, whatever help they needed in the future. at least from there I can provide whatever they\n",
            "[+] Sending to LLM for evaluation...\n",
            "[✓] LLM Output:\n",
            "Score: 3.2\n",
            "Suggestions: Consider rephrasing some of the sentence structures to improve clarity and coherence. Additionally, proofread for minor errors in punctuation and grammar.\n",
            "\n",
            "Mistakes:\n",
            "\n",
            "* Lack of article usage (\"For me, goals are the road maps that guide you to your destination.\" -> \"For me, goals are the road maps that guide you to your destination.\" - missing article \"the\")\n",
            "* Run-on sentence (\"From there, once I'm already successful, that's the time that I will help my family, whatever they need, whatever help they needed in the future.\") - consider breaking it into two separate sentences\n",
            "* Incorrect use of \"at least\" (\"at least from there I can provide whatever they\") - consider rephrasing to improve clarity\n",
            "* Minor errors in punctuation (e.g., missing commas, incorrect use of commas)\n"
          ]
        },
        {
          "output_type": "stream",
          "name": "stderr",
          "text": [
            "\rEvaluating Test Set:  15%|█▍        | 29/195 [03:07<23:19,  8.43s/it]"
          ]
        },
        {
          "output_type": "stream",
          "name": "stdout",
          "text": [
            "[+] Transcribing data/dataset/audios_test/audio_1169.wav ...\n",
            "[✓] Transcribed:  This might sound very cheesy, but I think my goal in life is to have a beautiful family. Because I've already really gotten into my career that I love, and that was a goal. But now, even though I'm young, it's something I want in my future. To me, this is important because I love family values. and I think they're one of my top priorities. Raising, having a family, challenges I would face, oh, I guess finding somebody who's fit to have children with. It has to be one person, you have to really make that person count and I don't really need any motivation because I'm pretty determined.\n",
            "[+] Sending to LLM for evaluation...\n",
            "[✓] LLM Output:\n",
            "Score: 4.0\n",
            "Suggestions: Consider breaking up long sentences into shorter ones for better clarity and flow. Additionally, some phrases could be rephrased for more precise language (e.g., \"I think my goal in life is to have a beautiful family\" could become \"My goal is to have a beautiful family\").\n",
            "Mistakes: None notable, but some minor suggestions for improvement.\n"
          ]
        },
        {
          "output_type": "stream",
          "name": "stderr",
          "text": [
            "\rEvaluating Test Set:  15%|█▌        | 30/195 [03:17<24:08,  8.78s/it]"
          ]
        },
        {
          "output_type": "stream",
          "name": "stdout",
          "text": [
            "[+] Transcribing data/dataset/audios_test/audio_1173.wav ...\n",
            "[✓] Transcribed:  My goal in life is to join a human rights association that is local to my area. It's important to me because, while human rights are important to me, it's going to be somewhat challenging because I know it's not the most profitable career path, at least around these parts. But what motivates me to really get on this path and achieve my goal is the fact that, you know, I've, I faced discrimination in the past, I faced poverty, and I faced a bunch of things that I don't want other people to face. So I really just want to be in a place where I can focus on helping people and bettering the world in general.\n",
            "[+] Sending to LLM for evaluation...\n",
            "[✓] LLM Output:\n",
            "Score: 4.2\n",
            "Suggestions: Consider breaking up long sentences into shorter ones for better clarity. Also, some phrases like \"you know\" can be removed for a more professional tone.\n",
            "Mistakes: tense (present and future), article (inconsistent use), punctuation (missing commas), and sentence structure (long and complex sentences).\n"
          ]
        },
        {
          "output_type": "stream",
          "name": "stderr",
          "text": [
            "\rEvaluating Test Set:  16%|█▌        | 31/195 [03:25<23:20,  8.54s/it]"
          ]
        },
        {
          "output_type": "stream",
          "name": "stdout",
          "text": [
            "[+] Transcribing data/dataset/audios_test/audio_1176.wav ...\n",
            "[✓] Transcribed:  I don't know. Thank you.\n",
            "[+] Sending to LLM for evaluation...\n",
            "[✓] LLM Output:\n",
            "Score: 4.0\n",
            "Suggestions: None needed, the sentence is already grammatically correct and clear.\n",
            "Mistakes: None\n"
          ]
        },
        {
          "output_type": "stream",
          "name": "stderr",
          "text": [
            "\rEvaluating Test Set:  16%|█▋        | 32/195 [03:31<21:26,  7.89s/it]"
          ]
        },
        {
          "output_type": "stream",
          "name": "stdout",
          "text": [
            "[+] Transcribing data/dataset/audios_test/audio_1178.wav ...\n",
            "[✓] Transcribed:  You may start your ideal life as close to the test and as true to it in your craft and your profession. I am one boy and I can't show hope without an action. I want to hit the end and I want to spoil it back to you. So, I found a muscle cube that I can put in the muscle cube. I found a contract of this, a contract of this. uit ahebe se apid multia eterpi evcerbit. Pren обязigit neologentem posto ora mem нормantis , portant locus i precurcentat regulam ra textile Was on our shirt and our cars and our shoulders, as well as our tails and ourيةes million hour geography. Promenade prach�mām . 6. AFTER ENTIMOLA PRESIVUS SEBERT, TAKE BAD FULLSMANCE AND BOOATということes, believer's guide for understanding, if there is a problem.\n",
            "[+] Sending to LLM for evaluation...\n",
            "[✓] LLM Output:\n",
            "Score: 1.2\n",
            "Suggestions: Break down the sentence into smaller, simpler sentences to improve clarity and readability. Use proper grammar and punctuation to ensure the message is conveyed effectively.\n",
            "Mistakes: numerous errors in grammar, punctuation, and spelling, including:\n",
            "\n",
            "* Lack of verb tense consistency\n",
            "* Inconsistent use of articles and prepositions\n",
            "* Incorrect use of commas and periods\n",
            "* Unusual word order and sentence structure\n",
            "* Presence of non-English words and phrases\n",
            "* Lack of capitalization and punctuation errors\n",
            "* Unusual use of punctuation marks (e.g., uit ahebe se apid multia eterpi evcerbit)\n",
            "* Inconsistent use of verb tenses and subject-verb agreement\n",
            "* Presence of typos and spelling errors (e.g., \"uit\", \"apid\", \"multia\", \"eterpi\", \"evcerbit\", \"Pren\", \"neologentem\", \"posto\", \"ora\", \"mem\", \"нормantis\", \"portant\", \"locus\", \"precurcentat\", \"regulam\", \"ra\", \"textile\", \"Was\", \"our\", \"cars\", \"shoulders\", \"tails\", \"Million\", \"hour\", \"geography\", \"Promenade\", \"prachmām\", \"6\", \"AFTER\", \"ENTIMOLA\", \"PRESIVUS\", \"SEBERT\", \"TAKE\", \"BAD\", \"FULLSMANCE\", \"BOOAT\", \"believer's\", \"guide\", \"for\", \"understanding\", \"if\", \"there\", \"is\", \"a\", \"problem\")\n"
          ]
        },
        {
          "output_type": "stream",
          "name": "stderr",
          "text": [
            "\rEvaluating Test Set:  17%|█▋        | 33/195 [03:40<21:43,  8.05s/it]"
          ]
        },
        {
          "output_type": "stream",
          "name": "stdout",
          "text": [
            "[+] Transcribing data/dataset/audios_test/audio_1179.wav ...\n",
            "[✓] Transcribed:  Sultans, Hrach, Hatshanks, Supreks, Hrach, Hrach, Hrach, Vesu Abba vastus abba Non le ble daco sestaSpidusces Fumme rre. Et fuer amule nodor daco spedusces. Et fuer al Divinum Papyrus\n",
            "[+] Sending to LLM for evaluation...\n",
            "[✓] LLM Output:\n",
            "Score: 1.0\n",
            "Suggestions: Break the sentence into smaller, simpler sentences to improve clarity and readability. Consider using a more formal tone and avoiding excessive use of punctuation.\n",
            "Mistakes: Unusual word order, lack of verb conjugation, incorrect use of punctuation, and unknown vocabulary (e.g., \"Sultans\", \"Hrach\", \"Hatshanks\", \"Supreks\", \"Vesu Abba\", \"Non le ble\", \"daco sestaSpidusces\", \"Fumme rre\", \"amule nodor\", \"Divinum Papyrus\").\n"
          ]
        },
        {
          "output_type": "stream",
          "name": "stderr",
          "text": [
            "\rEvaluating Test Set:  17%|█▋        | 34/195 [03:49<22:36,  8.43s/it]"
          ]
        },
        {
          "output_type": "stream",
          "name": "stdout",
          "text": [
            "[+] Transcribing data/dataset/audios_test/audio_1183.wav ...\n",
            "[✓] Transcribed:  Mercurian death is to have been your quest to lead to the Lord and have established thee As me as we are used to spending some yuck, I would love to be there for myself, It's shown that I miss my Write kasolias! And externally in the sometimes walking away. My education is as divisionally common as the I exuberantia un Tages de ser gratis� Thrives now, when I cast butp. I Always Was The proceed or pass on an even iris i ca esse an�� cat Parenti d vrij erit annou spa ae\n",
            "[+] Sending to LLM for evaluation...\n",
            "[✓] LLM Output:\n",
            "Score: 1.2\n",
            "Suggestions: Break down the sentence into smaller, simpler sentences to improve clarity and readability. Use proper grammar and punctuation to avoid confusion.\n",
            "Mistakes: numerous errors in verb tense, subject-verb agreement, article usage, punctuation, and capitalization.\n"
          ]
        },
        {
          "output_type": "stream",
          "name": "stderr",
          "text": [
            "\rEvaluating Test Set:  18%|█▊        | 35/195 [03:59<24:00,  9.00s/it]"
          ]
        },
        {
          "output_type": "stream",
          "name": "stdout",
          "text": [
            "[+] Transcribing data/dataset/audios_test/audio_1190.wav ...\n",
            "[✓] Transcribed:  My goal is to become a software engineer. It involves pursuing education in computer science software engineering or a related field. Here is a general outline of steps you can take to become a software engineer. education, gain programming skills, gain experience, specialize, continuing education, build a portfolio, networking, apply for jobs, continuous growth. Remember that the path to becoming a software engineer may vary for individuals based on their background, interests and goals. It is important to stay persistent, keep learning and remain up to new opportunities along the\n",
            "[+] Sending to LLM for evaluation...\n",
            "[✓] LLM Output:\n",
            "Score: 4.2\n",
            "Suggestions: Consider breaking up long sentences into shorter ones for better clarity and readability. Additionally, some sentences could be rephrased for more concise and natural language.\n",
            "Mistakes: tense consistency, article usage, sentence structure, and minor punctuation errors.\n"
          ]
        },
        {
          "output_type": "stream",
          "name": "stderr",
          "text": [
            "\rEvaluating Test Set:  18%|█▊        | 36/195 [04:05<21:32,  8.13s/it]"
          ]
        },
        {
          "output_type": "stream",
          "name": "stdout",
          "text": [
            "[+] Transcribing data/dataset/audios_test/audio_1193.wav ...\n",
            "[✓] Transcribed:  My goals in life are ultimately to achieve success in my life. My goals are to also have happiness, prosperity in every area in my life, and the freedom and the peace within to be able to among my career goals. My goals are also heavily influenced on the hardships my parents have had to endure such as facing ridicule for the simple fact of being immigrants. The extremely difficult time they endured due to unemployment and living in poverty and the low degree of education they received from their countries. My goals are so important to me because I view it as way out of, badly getting my out of harder life.\n",
            "[+] Sending to LLM for evaluation...\n",
            "[✓] LLM Output:\n",
            "Score: 3.2\n",
            "Suggestions: Consider rephrasing some of the sentences to improve clarity and concision. For example, the sentence \"My goals are also heavily influenced on the hardships my parents have had to endure...\" could be rephrased to \"My goals are also influenced by the hardships my parents faced, including...\".\n",
            "Mistakes: tense (present and future), pronoun agreement, punctuation (missing articles, commas), and sentence structure (some sentences are quite long and could be broken up for better clarity).\n"
          ]
        },
        {
          "output_type": "stream",
          "name": "stderr",
          "text": [
            "\rEvaluating Test Set:  19%|█▉        | 37/195 [04:13<21:13,  8.06s/it]"
          ]
        },
        {
          "output_type": "stream",
          "name": "stdout",
          "text": [
            "[+] Transcribing data/dataset/audios_test/audio_1195.wav ...\n",
            "[✓] Transcribed:  The school playground is bustling with energy as children run around laughing and playing games. Swings way back and forth while groups of kids gather on the jungle gym climbing and chatting. Soccer balls fly through the air as a game unfolds on the field. and nearby children take turns on the slides, their joyful shots filling in the air. Teachers watch over the scene, ensuring everyone's safety while allowing the students to enjoy their break. The playground is a vibrant hub activity, alive with the sounds of children.\n",
            "[+] Sending to LLM for evaluation...\n",
            "[✓] LLM Output:\n",
            "Score: 4.2\n",
            "Suggestions: Consider varying sentence structure to maintain a consistent rhythm, and use more precise language to describe the scene.\n",
            "Mistakes: None notable, good use of verb tenses, articles, and punctuation.\n"
          ]
        },
        {
          "output_type": "stream",
          "name": "stderr",
          "text": [
            "\rEvaluating Test Set:  19%|█▉        | 38/195 [04:21<20:53,  7.98s/it]"
          ]
        },
        {
          "output_type": "stream",
          "name": "stdout",
          "text": [
            "[+] Transcribing data/dataset/audios_test/audio_1205.wav ...\n",
            "[✓] Transcribed:  I recently visited the market which is generally a grocery market in which they sell vegetables over there and it is a very crowded place where a group of members will be gathered and where the selling and buying of the vegetables takes place and it is very noisy in the mornings and it will be very rush in the morning it will be very difficult to buy since there will be a very crowd and generally it will be a busy in the morning and it will be decreasing it will be decreases in the evening\n",
            "[+] Sending to LLM for evaluation...\n",
            "[✓] LLM Output:\n",
            "Score: 3.2\n",
            "Suggestions: Consider breaking up long sentences into shorter ones to improve clarity. Also, use more precise vocabulary instead of repetitive phrases like \"it is a very crowded place\" and \"it will be very difficult to buy\".\n",
            "Mistakes: article (indefinite article \"a\" is missing in some places), verb tense inconsistency (switching between present and past perfect tense), redundant phrases, and excessive use of \"it\" pronoun.\n"
          ]
        },
        {
          "output_type": "stream",
          "name": "stderr",
          "text": [
            "\rEvaluating Test Set:  20%|██        | 39/195 [04:29<20:46,  7.99s/it]"
          ]
        },
        {
          "output_type": "stream",
          "name": "stdout",
          "text": [
            "[+] Transcribing data/dataset/audios_test/audio_1214.wav ...\n",
            "[✓] Transcribed:  The playground looks like very beautifully. In playground we can play many games like cricket, kabaddi, koko, volleyball etc. and for cricket we have we want 11 students 11 total 11 members with 11 members we can play very nicely in playground we can do in playground we can do exercises and we can walk we can do daily exercises also and and playground is a very active playground. In playground we can play many games. In playground we can hear whistle sounds and bird sounds etc.\n",
            "[+] Sending to LLM for evaluation...\n",
            "[✓] LLM Output:\n",
            "Score: 2.0\n",
            "Suggestions: Consider rephrasing some of the sentences to improve clarity and concision. For example, instead of saying \"In playground we can play many games like cricket, kabaddi, koko, volleyball etc. and for cricket we have we want 11 students 11 total 11 members with 11 members we can play very nicely\", you could say \"In the playground, we can play many games, including cricket, kabaddi, koko, and volleyball. We need 11 students to play cricket nicely\".\n",
            "Mistakes: \n",
            "\n",
            "* Lack of subject-verb agreement (\"The playground looks like very beautifully\" should be \"The playground looks very beautiful\")\n",
            "* Repetitive language (\"In playground we can play many games\", \"In playground we can do in playground we can do exercises\")\n",
            "* Unclear sentence structure (\"we can do daily exercises also and and playground is a very active playground\")\n",
            "* Missing articles (\"we can hear whistle sounds and bird sounds etc\" should be \"we can hear the whistle sounds and bird sounds etc\")\n",
            "* Unnecessary repetition of \"In playground\"\n"
          ]
        },
        {
          "output_type": "stream",
          "name": "stderr",
          "text": [
            "\rEvaluating Test Set:  21%|██        | 40/195 [04:37<20:36,  7.98s/it]"
          ]
        },
        {
          "output_type": "stream",
          "name": "stdout",
          "text": [
            "[+] Transcribing data/dataset/audios_test/audio_1215.wav ...\n",
            "[✓] Transcribed:  Trying to grow in a crowded market is not easy. The days of building a website, sitting back, and counting the profits are long gone. Now, the new tech-savvy kids on the block are using innovative strategies to connect with their target audiences. And if you continue using traditional techniques that don't differentiate you from your competition, you will quickly become yesterday's brand. To stand out and shine in a crowded marketplace that's selling similar products with similar features and solutions, you have to create compelling, authentic brand stories that show your customer you genuinely care and can solve their problems. Some brands already know this. It's why they are thriving regardless of how crowded they are.\n",
            "[+] Sending to LLM for evaluation...\n",
            "[✓] LLM Output:\n",
            "Score: 4.2\n",
            "Suggestions: Consider breaking up long sentences into shorter ones for better clarity and flow. Additionally, some phrases could be rephrased for more concise and natural language.\n",
            "Mistakes: None notable, but some sentences could be improved for better readability.\n"
          ]
        },
        {
          "output_type": "stream",
          "name": "stderr",
          "text": [
            "\rEvaluating Test Set:  21%|██        | 41/195 [04:46<21:32,  8.40s/it]"
          ]
        },
        {
          "output_type": "stream",
          "name": "stdout",
          "text": [
            "[+] Transcribing data/dataset/audios_test/audio_1217.wav ...\n",
            "[✓] Transcribed:  so market is the place where the seller sells a goods to the buyer and buyer spends some money on the thing what the sellers is selling in Korean market every person want to sell their object or a thing very the seller or the seller talk or speak lovely about the product which was they selling and also they provide the price in the market when the people hear the price of the product that can go and\n",
            "[+] Sending to LLM for evaluation...\n",
            "[✓] LLM Output:\n",
            "Score: 2.0\n",
            "Suggestions: Break up long sentences into shorter ones, and consider rephrasing some of the sentences for better clarity. Additionally, consider using more precise vocabulary, such as \"merchandise\" instead of \"goods\".\n",
            "Mistakes: tense (mix of present and past tense), article (inconsistent use of \"the\"), punctuation (lack of commas and periods), pronoun (inconsistent use of \"they\" and \"the seller\"), and sentence structure (long, complex sentences).\n"
          ]
        },
        {
          "output_type": "stream",
          "name": "stderr",
          "text": [
            "\rEvaluating Test Set:  22%|██▏       | 42/195 [04:53<20:25,  8.01s/it]"
          ]
        },
        {
          "output_type": "stream",
          "name": "stdout",
          "text": [
            "[+] Transcribing data/dataset/audios_test/audio_1240.wav ...\n",
            "[✓] Transcribed:  My favourite hobby is playing chess. I would like to play chess. I am very happy when I am playing chess. The most important thing in chess is that I would be very happy when playing with an opponent. opponent and when I win the game I will gain so much of confidence and I also the most important thing also about this kind of hobbies it will help my increasing my cognition ability and thinking ability increases my IQ level and it will improve the brain performance for about thinking and about and think in different ways so it just will help that kind of an ability\n",
            "[+] Sending to LLM for evaluation...\n",
            "[✓] LLM Output:\n",
            "Score: 2.5\n",
            "Suggestions: Break up long sentences into shorter ones, and consider rephrasing some of the sentences to improve clarity and flow. Additionally, consider using more precise language to describe the benefits of playing chess, such as \"improve problem-solving skills\" instead of \"increasing my cognition ability and thinking ability increases my IQ level\".\n",
            "Mistakes: tense inconsistency, article errors, punctuation errors (e.g. missing articles, incorrect use of commas), and some wordiness.\n"
          ]
        },
        {
          "output_type": "stream",
          "name": "stderr",
          "text": [
            "\rEvaluating Test Set:  22%|██▏       | 43/195 [05:02<20:21,  8.04s/it]"
          ]
        },
        {
          "output_type": "stream",
          "name": "stdout",
          "text": [
            "[+] Transcribing data/dataset/audios_test/audio_1242.wav ...\n",
            "[✓] Transcribed:  My hobby is playing badminton, playing chess and solving Rubik's cube. And whenever I feel sad and it's being my leisure time, I usually used to play badminton with my friends. And actually, it's a good time with my family also whenever I play chess with my family members or solve a Rubik's cube in my leisure time. time. It's very awesome, I think. Thank you.\n",
            "[+] Sending to LLM for evaluation...\n",
            "[✓] LLM Output:\n",
            "Score: 3.5\n",
            "Suggestions: Consider rephrasing some of the sentences to improve clarity and concision. For example, the first sentence could be broken up into three separate sentences, one for each hobby. Additionally, some of the phrases, such as \"whenever I feel sad and it's being my leisure time\" could be simplified.\n",
            "Mistakes: tense (e.g. \"And whenever I feel sad and it's being my leisure time\" should be \"And whenever I feel sad, it's my leisure time\"), punctuation (e.g. extra \"time\" at the end of the sentence), and sentence structure (e.g. some sentences are quite long and could be broken up for better clarity).\n"
          ]
        },
        {
          "output_type": "stream",
          "name": "stderr",
          "text": [
            "\rEvaluating Test Set:  23%|██▎       | 44/195 [05:10<20:16,  8.06s/it]"
          ]
        },
        {
          "output_type": "stream",
          "name": "stdout",
          "text": [
            "[+] Transcribing data/dataset/audios_test/audio_1243.wav ...\n",
            "[✓] Transcribed:  ముడ్డాయా వేస్టు దనికి సక్సింగీ ఏస్యా దండాయా I like cars and crafts. I am a creative, practical person and like doing things with my hands. I am an outgoing person and like socializing, hanging out with friends. I enjoy being physically active and spend a lot of time playing sports on team. హడి ఏలి తోషికా �pr పుయాన్సిమి సిభిసారవార పಈస్టి పాన్టర పుయింట ఇత్ కఴిం� gap కాఖ�ız ఫరి సిచ్చిమ కాఫు� మానకుతు bl dentist చయ కోశ్ కువ్ గల తమె సృతేనిక కితంగటే నిషపుం హూడ్డఓ పోన్రది అ�усов్క anything వార్తి కండిక్కాలి పాలు వార్తి కినికాలి పాలు కన్నికాలు చిసిందిదు.\n",
            "[+] Sending to LLM for evaluation...\n",
            "[✓] LLM Output:\n",
            "Score: 1.0\n",
            "Suggestions: The sentence appears to be a mix of English and Telugu languages. It's recommended to rewrite the sentence in a single language, preferably English, to improve clarity and grammar.\n",
            "Mistakes: Language mixing, lack of punctuation, and unclear sentence structure. The sentence seems to be a collection of unrelated phrases and words, making it difficult to understand the intended meaning.\n"
          ]
        },
        {
          "output_type": "stream",
          "name": "stderr",
          "text": [
            "\rEvaluating Test Set:  23%|██▎       | 45/195 [05:23<24:00,  9.60s/it]"
          ]
        },
        {
          "output_type": "stream",
          "name": "stdout",
          "text": [
            "[+] Transcribing data/dataset/audios_test/audio_1256.wav ...\n",
            "[✓] Transcribed:  my topic is to describe about my favorite hobby my favorite hobby is listening music it increases my positivity so i every every day i listen to the music melodious songs more songs classical songs and even sometimes item songs based on my mood it chills me a lot daily i go to the college by bus while going and while coming to my home i listen to the music i keep my ear set and listen to the music it fills me with good positivity energy and may and i feel very happy while listening to the music whenever i felt bored sad and when i get upset it then I try to listen the music it chills my mood and keeps\n",
            "[+] Sending to LLM for evaluation...\n",
            "[✓] LLM Output:\n",
            "Score: 2.0\n",
            "Suggestions: Break up long sentences into shorter ones, and consider rephrasing some sentences for better clarity. Additionally, use more precise vocabulary and avoid repetitive language.\n",
            "\n",
            "Mistakes: \n",
            "\n",
            "* Lack of subject-verb agreement (\"my topic is to describe about my favorite hobby\" should be \"my topic is to describe my favorite hobby\")\n",
            "* Inconsistent verb tense (switching between past and present tense)\n",
            "* Overuse of pronouns (\"it\" and \"i\" are used excessively)\n",
            "* Lack of punctuation (multiple sentences are run together without proper punctuation)\n",
            "* Repetitive language (\"it\" is used multiple times to refer to music)\n",
            "* Inconsistent capitalization (some proper nouns are capitalized, while others are not)\n",
            "* Lack of clarity in sentence structure (some sentences are wordy and hard to follow)\n"
          ]
        },
        {
          "output_type": "stream",
          "name": "stderr",
          "text": [
            "\rEvaluating Test Set:  24%|██▎       | 46/195 [05:30<21:48,  8.78s/it]"
          ]
        },
        {
          "output_type": "stream",
          "name": "stdout",
          "text": [
            "[+] Transcribing data/dataset/audios_test/audio_1267.wav ...\n",
            "[✓] Transcribed:  My goal is I become an interpreter, entrepreneur because I'm not work under anyone. I think to provide work to everyone because my education is not to work from under anyone. I try to provide work to everyone and develop myself. Providing work is very good in the world because giving work is good help to everyone. This is my long term goal to become an entrepreneur. Thank you.\n",
            "[+] Sending to LLM for evaluation...\n",
            "[✓] LLM Output:\n",
            "Score: 2.0\n",
            "Suggestions: Break the sentence into shorter, simpler sentences to improve clarity and readability. Consider using more precise language to convey your ideas.\n",
            "\n",
            "Mistakes:\n",
            "\n",
            "* Lack of subject-verb agreement (\"My goal is I become\" instead of \"My goal is to become\")\n",
            "* Run-on sentences and lack of punctuation (\"I think to provide work to everyone because my education is not to work from under anyone.\")\n",
            "* Unclear sentence structure and word order (\"I try to provide work to everyone and develop myself.\")\n",
            "* Inconsistent verb tenses (\"I become\" vs. \"I try to provide\")\n",
            "* Overuse of vague phrases (\"very good in the world\" instead of a more specific description)\n",
            "* Lack of cohesion between sentences (\"This is my long term goal\" feels disconnected from the rest of the sentence)\n"
          ]
        },
        {
          "output_type": "stream",
          "name": "stderr",
          "text": [
            "\rEvaluating Test Set:  24%|██▍       | 47/195 [05:38<21:15,  8.61s/it]"
          ]
        },
        {
          "output_type": "stream",
          "name": "stdout",
          "text": [
            "[+] Transcribing data/dataset/audios_test/audio_1275.wav ...\n",
            "[✓] Transcribed:  Everyone has a goal in life. In my life I have two goals. One is long term goal and one is short term goal. Firstly, my short term goal is to achieve my bucket list by getting a job with my own money. And my long term goal is to build a house and to travel around the world. My goal is very important to me because the desires which I have since from our childhood. They have so many challenges to achieve my goal that is insecurity, priorities, money. My best motivation to stay focused is my aunt. Since the childhood we have seen so many struggles in our life. By overcoming the struggles we can achieve the goals. This was told by my aunt.\n",
            "[+] Sending to LLM for evaluation...\n",
            "[✓] LLM Output:\n",
            "Score: 3.5\n",
            "Suggestions: Consider breaking the sentence into shorter, simpler sentences to improve clarity and flow. Additionally, some phrases could be rephrased for better grammar and sentence structure.\n",
            "Mistakes:\n",
            "\n",
            "* Lack of subject-verb agreement in some sentences (e.g., \"Everyone has a goal in life\" vs. \"In my life I have two goals\")\n",
            "* Overuse of simple sentences, leading to a somewhat monotonous tone\n",
            "* Some sentences are quite long and convoluted, making them difficult to follow (e.g., \"My goal is very important to me because the desires which I have since from our childhood\")\n",
            "* Minor errors in punctuation and capitalization (e.g., missing articles, inconsistent use of commas)\n",
            "* Some phrases could be rephrased for better grammar and sentence structure (e.g., \"Since the childhood we have seen so many struggles in our life\" could become \"From childhood, we have seen many struggles in our life\")\n"
          ]
        },
        {
          "output_type": "stream",
          "name": "stderr",
          "text": [
            "\rEvaluating Test Set:  25%|██▍       | 48/195 [05:48<21:46,  8.89s/it]"
          ]
        },
        {
          "output_type": "stream",
          "name": "stdout",
          "text": [
            "[+] Transcribing data/dataset/audios_test/audio_1278.wav ...\n",
            "[✓] Transcribed:  The best day of my life was when I graduated from the college at Madhya Pradesh. The culmination of years of hard work and dedication. If I hadn't experienced this day, my life would have been very different. I miss my friends those days. What makes that special is overall feeling of achievement and knowledge I have completed in my master degree. So, because the day is filled with joy and celebration and sense of some emotional attachment with that place. I think about that day I feel a deep sense of satisfaction and gratitude like a reminder of what I am capable of achieving when set up mind up to something or work hard for it\n",
            "[+] Sending to LLM for evaluation...\n",
            "[✓] LLM Output:\n",
            "Score: 4.0\n",
            "Suggestions: Consider breaking up long sentences into shorter ones for better clarity and flow. Additionally, some phrases could be rephrased for more concise and natural language.\n",
            "Mistakes: None notable, but some sentences are quite long and could be improved for better readability.\n"
          ]
        },
        {
          "output_type": "stream",
          "name": "stderr",
          "text": [
            "\rEvaluating Test Set:  25%|██▌       | 49/195 [05:57<22:00,  9.05s/it]"
          ]
        },
        {
          "output_type": "stream",
          "name": "stdout",
          "text": [
            "[+] Transcribing data/dataset/audios_test/audio_1280.wav ...\n",
            "[✓] Transcribed:  That day my test results were out. My life filled with joy. I was doing poorly in my studies scoring average marks. However, my father taught me to never give up. So I kept studying trying to improve and finally got what I aimed for. The moment my teacher announced that I scored the highest marks in my class, everyone applauded. My friends were smiling with pride. My teacher was happy and my classmates were surprised. When I told my parents about my results, they were bursting with joy and love. The day after the happiest day of my life was full of hope and positive energy. Everyone at school had a favorable opinion of mine. Everyone was very supportive and they also acknowledged my knowledge. This This is my happiest day in the up to now.\n",
            "[+] Sending to LLM for evaluation...\n",
            "[✓] LLM Output:\n",
            "Score: 3.5\n",
            "Suggestions: Consider breaking up long sentences into shorter ones for better clarity and flow. Also, some phrases can be rephrased for more concise and natural language.\n",
            "Mistakes:\n",
            "\n",
            "* Tense inconsistency: The sentence switches between past and present tense throughout the passage.\n",
            "* Article errors: \"My life filled with joy\" should be \"My life was filled with joy\" to maintain consistency in verb tense.\n",
            "* Repetitive language: Phrases like \"My [family/teacher/clasmmates] were [happy/surprised]\" can be condensed for better flow.\n",
            "* Run-on sentences: Some sentences, like the last one, are quite long and could be broken up for easier reading.\n",
            "* Pronoun ambiguity: The pronoun \"this\" is used twice without clear antecedents, making it unclear what is being referred to.\n"
          ]
        },
        {
          "output_type": "stream",
          "name": "stderr",
          "text": [
            "\rEvaluating Test Set:  26%|██▌       | 50/195 [06:05<21:04,  8.72s/it]"
          ]
        },
        {
          "output_type": "stream",
          "name": "stdout",
          "text": [
            "[+] Transcribing data/dataset/audios_test/audio_1286.wav ...\n",
            "[✓] Transcribed:  My goal is to become a bank employer. The goal is important to deserve the life. We must maintain one of the goals. I face many challenges while coming to this goal in my life. To become a bank employer, we have to face many problems. many problems and we have to so we have to do paid the challenge we have to pay the problems also I am ready to pay the challenges whatever comes I really struggle hard to work I really struggle hard for successfully completing my life my goal to become bank employer to become a bank employer my mother motive\n",
            "[+] Sending to LLM for evaluation...\n",
            "[✓] LLM Output:\n",
            "Score: 2.0\n",
            "Suggestions: Break up long sentences into shorter ones, use a more formal tone, and consider rephrasing some sentences for better clarity.\n",
            "\n",
            "Mistakes:\n",
            "\n",
            "* Tense inconsistency (present and future tense used together)\n",
            "* Lack of articles (\"a\", \"the\") and prepositions\n",
            "* Run-on sentences and sentence fragments\n",
            "* Repetitive phrases (\"to become a bank employer\")\n",
            "* Unclear or ambiguous sentence structure\n",
            "* Informal tone and language\n",
            "* Missing or incorrect punctuation (e.g., commas, periods)\n"
          ]
        },
        {
          "output_type": "stream",
          "name": "stderr",
          "text": [
            "\rEvaluating Test Set:  26%|██▌       | 51/195 [06:14<21:17,  8.87s/it]"
          ]
        },
        {
          "output_type": "stream",
          "name": "stdout",
          "text": [
            "[+] Transcribing data/dataset/audios_test/audio_1289.wav ...\n",
            "[✓] Transcribed:  So the best day of my life is I participated in running competition in my college and in the last week they conducted the running race branch race in each branch the first person will be selected after all the branches all the branches uh com participated in the competition the first person is taken and the on the all the first persons again run the 100 meters from starting position to the ending position in that uh i am from chc and i am first in the running competition and in largely I participated with all the person we are the first and I stood in a fold\n",
            "[+] Sending to LLM for evaluation...\n",
            "[✓] LLM Output:\n",
            "Score: 1.8\n",
            "Suggestions: Break down the sentence into smaller, simpler sentences to improve clarity and coherence. Use transitional phrases to connect ideas between sentences.\n",
            "Mistakes: tense (switching between past and present), article (inconsistent use), punctuation (lack of commas and periods), pronoun reference ( unclear), sentence structure (long and convoluted).\n"
          ]
        },
        {
          "output_type": "stream",
          "name": "stderr",
          "text": [
            "\rEvaluating Test Set:  27%|██▋       | 52/195 [06:22<20:24,  8.56s/it]"
          ]
        },
        {
          "output_type": "stream",
          "name": "stdout",
          "text": [
            "[+] Transcribing data/dataset/audios_test/audio_1291.wav ...\n",
            "[✓] Transcribed:  Good evening I am Kavita today's my topic is describe your goal in life my goal is to became an independent and goals can be big or small short term or long term they give you a sense of purpose and motivates you to work towards something meaningful whether it's pursuing a career learning a new skill traveling to specific places\n",
            "[+] Sending to LLM for evaluation...\n",
            "[✓] LLM Output:\n",
            "Score: 3.5\n",
            "Suggestions: Consider rephrasing the sentence to improve clarity and coherence. For example, you could start with a more formal greeting and introduction, and then transition smoothly into your topic sentence.\n",
            "\n",
            "Mistakes:\n",
            "\n",
            "* Lack of formal greeting and introduction (e.g., \"Good evening, ladies and gentlemen, my name is Kavita...\")\n",
            "* Inconsistent verb tense (switching between \"is\" and \"became\")\n",
            "* Run-on sentence structure (multiple independent clauses without proper punctuation)\n",
            "* Missing articles (\"my goal is to became\" should be \"my goal is to become\")\n",
            "* Informal language (\"describe your goal in life\" could be rephrased as \"I would like to discuss my goals in life\")\n",
            "* Lack of transitional phrases or connectors to link ideas together\n"
          ]
        },
        {
          "output_type": "stream",
          "name": "stderr",
          "text": [
            "\rEvaluating Test Set:  27%|██▋       | 53/195 [06:29<19:07,  8.08s/it]"
          ]
        },
        {
          "output_type": "stream",
          "name": "stdout",
          "text": [
            "[+] Transcribing data/dataset/audios_test/audio_1292.wav ...\n",
            "[✓] Transcribed:  Embarking on the journey of life, my paramount goal is to foster positive change in the world through education and innovation. This aspiration is rooted in a deep-seated belief in the power of knowledge to transform lives and societies for the better. However, the path towards realizing this goal is fraught with challenges and obstacles. The realm of education is vast and multifaceted, requiring not only dedication and experience, but also resilience in the face of adversity. Yes, it is precisely these challenges that serve as catalysts for growth and innovation. What truly sustains me on this journey is the unwavering belief in the transformative power\n",
            "[+] Sending to LLM for evaluation...\n",
            "[✓] LLM Output:\n",
            "Score: 4.8\n",
            "Suggestions: Consider breaking up long sentences into shorter ones for improved clarity and flow. Additionally, some phrases could be rephrased for more concise expression.\n",
            "\n",
            "Mistakes: None notable. The sentence is well-structured, and the grammar is mostly correct. However, there are a few instances of complex sentence structures and long phrases that may make it slightly difficult to follow.\n"
          ]
        },
        {
          "output_type": "stream",
          "name": "stderr",
          "text": [
            "\rEvaluating Test Set:  28%|██▊       | 54/195 [06:38<19:50,  8.44s/it]"
          ]
        },
        {
          "output_type": "stream",
          "name": "stdout",
          "text": [
            "[+] Transcribing data/dataset/audios_test/audio_1293.wav ...\n",
            "[✓] Transcribed:  My topic is to describe the best day of my life. I thought that I felt very happy and very enthusiastic the year before because I am very poor at cooking. But I know how to cook tiffins and maggi like that, only the fast food items. I don't know how to cook the dal and the rasam. But on the day my mother felt sick, I need to cook on that day to my mother and to prepare for myself. I watched a youtube video then I started cooking the dal. Initially I felt very nervous whether it tastes good or not. But once I watched the video I started cooking, it resulted very in good way. Everyone likes the dal and asked me to cook daily. that was my best\n",
            "[+] Sending to LLM for evaluation...\n",
            "[✓] LLM Output:\n",
            "Score: 3.0\n",
            "Suggestions: Consider breaking up long sentences into shorter ones for better clarity. Also, use more precise vocabulary to convey your thoughts.\n",
            "Mistakes: tense (switching between past and present), article (missing articles in some places), punctuation (inconsistent use of commas), pronoun (using \"I\" and \"my\" interchangeably), verb (using \"felt\" and \"need\" in a sentence).\n"
          ]
        },
        {
          "output_type": "stream",
          "name": "stderr",
          "text": [
            "\rEvaluating Test Set:  28%|██▊       | 55/195 [06:46<19:28,  8.35s/it]"
          ]
        },
        {
          "output_type": "stream",
          "name": "stdout",
          "text": [
            "[+] Transcribing data/dataset/audios_test/audio_1297.wav ...\n",
            "[✓] Transcribed:  My goal is to become a better version of myself because making a best version of ourselves is most important at the goal of my life and there are many challenges that we face as we go in different paths and it may deviate ourselves from the goal but there are a lot of motivation things that may help me to determine to my goal as I want to achieve a lot of things and the main goal is to become a better version of myself and I like to motivate myself by listening music watching podcast or watching a lot of dramas and also improve myself a lot day by day basically that's it\n",
            "[+] Sending to LLM for evaluation...\n",
            "[✓] LLM Output:\n",
            "Score: 2.8\n",
            "Suggestions: Break up long sentences into shorter ones, and consider rephrasing some of the sentences for better clarity and concision. Additionally, consider using more precise language, such as \"self-improvement\" instead of \"making a best version of ourselves\".\n",
            "Mistakes: \n",
            "- Tense inconsistency (e.g., \"is\" and \"become\" in the same sentence)\n",
            "- Lack of articles (\"a\" and \"the\" are missing in several places)\n",
            "- Run-on sentences (e.g., \"making a best version of ourselves is most important at the goal of my life and there are many challenges...\")\n",
            "- Unnecessary phrases (\"and it may deviate ourselves from the goal\" can be removed)\n",
            "- Lack of punctuation (e.g., no commas to separate items in a list)\n"
          ]
        },
        {
          "output_type": "stream",
          "name": "stderr",
          "text": [
            "\rEvaluating Test Set:  29%|██▊       | 56/195 [06:54<19:07,  8.25s/it]"
          ]
        },
        {
          "output_type": "stream",
          "name": "stdout",
          "text": [
            "[+] Transcribing data/dataset/audios_test/audio_1311.wav ...\n",
            "[✓] Transcribed:  So playground usually looks like there are a lot of playgrounds. There are a lot of swings, seesaw, slide in the middle of green grass. Usually the children, you will see them running, chasing each other. You will also see them playing on the slide, on the seesaw, on the swing. You can also see them dancing in the middle of the green grass. You can also see them playing any, you can also see them doing some, you know, exercising or some, and for this,\n",
            "[+] Sending to LLM for evaluation...\n",
            "[✓] LLM Output:\n",
            "Score: 3.5\n",
            "Suggestions: Consider breaking up long sentences into shorter ones to improve clarity and flow. Additionally, some phrases can be rephrased for better grammar and sentence structure.\n",
            "Mistakes: \n",
            "\n",
            "* Lack of subject-verb agreement in some sentences (e.g., \"There are a lot of playgrounds\" vs. \"There are a lot of playground\")\n",
            "* Overuse of \"you will see them\" and \"you can also see them\" - consider varying sentence structure\n",
            "* Some sentences are run-on or lack clear connections (e.g., \"You can also see them dancing in the middle of the green grass. You can also see them playing any...\")\n",
            "* Some phrases are wordy or unclear (e.g., \"some, you know, exercising or some, and for this\")\n"
          ]
        },
        {
          "output_type": "stream",
          "name": "stderr",
          "text": [
            "\rEvaluating Test Set:  29%|██▉       | 57/195 [07:03<19:07,  8.32s/it]"
          ]
        },
        {
          "output_type": "stream",
          "name": "stdout",
          "text": [
            "[+] Transcribing data/dataset/audios_test/audio_1315.wav ...\n",
            "[✓] Transcribed:  Can you describe the journey of travel experience getting destination? Well, I tried to go to a province in Latvia where I tried to do a vacation. Well, at first, I'm hesitant if I will go to a land travel or I should go on an airplane travel. Well, the experience was great. The destination was beautiful. and all the experiences is great because I see new people, new destination and I think that's really great. Are there any local food or dishes from that place that you love? I love the fruits. The fruits there are easily to\n",
            "[+] Sending to LLM for evaluation...\n",
            "[✓] LLM Output:\n",
            "Score: 2.0\n",
            "Suggestions: Break up long sentences into shorter ones, use more precise vocabulary, and consider adding transitional phrases to connect ideas more smoothly.\n",
            "\n",
            "Mistakes:\n",
            "\n",
            "* Lack of subject-verb agreement (e.g., \"all the experiences is great\")\n",
            "* Inconsistent verb tense (e.g., switching between past and present tense)\n",
            "* Run-on sentences (e.g., \"Well, I tried to go to a province in Latvia where I tried to do a vacation.\")\n",
            "* Misuse of articles (e.g., \"a land travel\" instead of \"land travel\")\n",
            "* Lack of punctuation (e.g., missing commas and periods)\n",
            "* Informal language and colloquialisms (e.g., \"getting destination\", \"I think that's really great\")\n",
            "* Unclear sentence structure (e.g., \"I love the fruits. The fruits there are easily to\")\n"
          ]
        },
        {
          "output_type": "stream",
          "name": "stderr",
          "text": [
            "\rEvaluating Test Set:  30%|██▉       | 58/195 [07:12<19:36,  8.59s/it]"
          ]
        },
        {
          "output_type": "stream",
          "name": "stdout",
          "text": [
            "[+] Transcribing data/dataset/audios_test/audio_1317.wav ...\n",
            "[✓] Transcribed:  describe your favorite place to visit can you describe the journey or travel experience getting to this destination are there any local foods or dishes from this place that you love it's a particular time of day or season when this place is especially modular beautiful so actually I want to go to the Thailand in Chiang Mai Thailand because there's a lot of food and also the culture is same as in the Philippines the people in there love their traditions and also there's a lot of beautiful places such as the night market where all the foods are all the tourists can find food or traditional food from the Thailand so that's why I love to visit Thailand Thank you.\n",
            "[+] Sending to LLM for evaluation...\n",
            "[✓] LLM Output:\n",
            "Score: 2.8\n",
            "Suggestions: Break the sentence into shorter, simpler sentences to improve clarity and coherence. Consider using transitional phrases to connect ideas between sentences.\n",
            "Mistakes: \n",
            "\n",
            "* Lack of subject-verb agreement (e.g., \"describe your favorite place to visit\" should be \"describe your favorite place to visit, can you...\")\n",
            "* Run-on sentences (e.g., \"are there any local foods or dishes from this place that you love it's a particular time of day or season when this place is especially modular beautiful\")\n",
            "* Inconsistent verb tense (e.g., switching between past and present tense)\n",
            "* Lack of article usage (e.g., \"the Thailand\" instead of \"Thailand\")\n",
            "* Informal language and colloquialisms (e.g., \"so actually\", \"Thank you\")\n",
            "* Unnecessary words and phrases (e.g., \"such as the night market where all the foods are all the tourists can find food or traditional food from the Thailand\")\n",
            "* Lack of punctuation (e.g., missing commas and periods)\n"
          ]
        },
        {
          "output_type": "stream",
          "name": "stderr",
          "text": [
            "\rEvaluating Test Set:  30%|███       | 59/195 [07:21<19:41,  8.69s/it]"
          ]
        },
        {
          "output_type": "stream",
          "name": "stdout",
          "text": [
            "[+] Transcribing data/dataset/audios_test/audio_1321.wav ...\n",
            "[✓] Transcribed:  My favorite place to visit is on Florida. There are many states that I have been in my life. I have made a lot of memories with the places I have been to and the people I have went to. The first time I traveled out of state was when I was three years old. Out of all states, I have been of nothing compares to my favorite state to visit. My favorite place to visit is Florida because of the College Football National Championship Game, Walt Disney World, and the fabulous beaches. One reason that my favorite place to visit is Florida is because of the College Football National Championship Game. This January, the College Football National Championship Game was hosted at Raymond James Stadium in Tampa, Florida. One of my favorite things to do right when I got Florida is to go\n",
            "[+] Sending to LLM for evaluation...\n",
            "[✓] LLM Output:\n",
            "Score: 3.5\n",
            "Suggestions: Consider rephrasing some of the sentences to improve clarity and concision. For example, the sentence \"One reason that my favorite place to visit is Florida is because of the College Football National Championship Game\" could be shortened to \"I love Florida because of the College Football National Championship Game\".\n",
            "\n",
            "Mistakes:\n",
            "\n",
            "* Tense inconsistency (e.g., \"I have been in my life\" vs. \"I have been to and the people I have went to\")\n",
            "* Article errors (e.g., \"on Florida\" instead of \"in Florida\")\n",
            "* Pronoun ambiguity (e.g., \"the places I have been to and the people I have went to\")\n",
            "* Run-on sentence (\"One of my favorite things to do right when I got Florida is to go\")\n",
            "* Lack of parallel structure in the list of reasons why Florida is the favorite place to visit\n"
          ]
        },
        {
          "output_type": "stream",
          "name": "stderr",
          "text": [
            "\rEvaluating Test Set:  31%|███       | 60/195 [07:31<20:29,  9.11s/it]"
          ]
        },
        {
          "output_type": "stream",
          "name": "stdout",
          "text": [
            "[+] Transcribing data/dataset/audios_test/audio_1323.wav ...\n",
            "[✓] Transcribed:  My dream destination is on India. I really recommend the romantic and pink city of Jaipur. It is a dream destination and one that has a lot of beautiful and luxurious hotels.\n",
            "[+] Sending to LLM for evaluation...\n",
            "[✓] LLM Output:\n",
            "Score: 3.5\n",
            "Suggestions: Consider rephrasing the sentence to make it more concise and clear. For example, \"My dream destination is India, specifically the romantic and pink city of Jaipur, which offers many beautiful and luxurious hotels.\"\n",
            "\n",
            "Mistakes:\n",
            "\n",
            "* Lack of article (\"on India\" should be \"in India\" or \"India is my dream destination\")\n",
            "* Repetition of \"dream destination\" (use a synonym or rephrase the sentence)\n",
            "* Minor errors in punctuation (e.g., missing articles, unnecessary commas)\n"
          ]
        },
        {
          "output_type": "stream",
          "name": "stderr",
          "text": [
            "\rEvaluating Test Set:  31%|███▏      | 61/195 [07:39<19:17,  8.64s/it]"
          ]
        },
        {
          "output_type": "stream",
          "name": "stdout",
          "text": [
            "[+] Transcribing data/dataset/audios_test/audio_135.wav ...\n",
            "[✓] Transcribed:  I am going to describe the scene of a crowded market. There is a market nearby where I live and I mostly go to the market for some food or to buy some groceries or some items. And that market is mostly crowded in the evening as most of the people are outside for shopping and stuff. And there are so many shops, some fast food stalls, some restaurants, some medical shops and some vegetable vendors also. And there are so many people rushing in from other directions, from all around the directions with vehicles and honking them which makes a disturbing sound for almost everyone. it's hard to walk in the traffic and more mostly I go there in the daytime because that time\n",
            "[+] Sending to LLM for evaluation...\n",
            "[✓] LLM Output:\n",
            "Score: 3.5\n",
            "Suggestions: Consider breaking up long sentences into shorter ones for better clarity. Also, use more precise vocabulary to describe the scene, such as \"pedestrians\" instead of \"people rushing in from other directions\".\n",
            "Mistakes: article (indefinite article \"a\" is missing in \"a crowded market\"), punctuation (missing commas to separate clauses), verb tense consistency (switching between present and past tense), and sentence structure (long and complex sentences).\n"
          ]
        },
        {
          "output_type": "stream",
          "name": "stderr",
          "text": [
            "\rEvaluating Test Set:  32%|███▏      | 62/195 [07:48<19:22,  8.74s/it]"
          ]
        },
        {
          "output_type": "stream",
          "name": "stdout",
          "text": [
            "[+] Transcribing data/dataset/audios_test/audio_137.wav ...\n",
            "[✓] Transcribed:  Entering into the market was a real chaos. Everyone was selling and buying things. There were fruit markets, there were cloth markets, there were vegetable farms, freshly made baked cookies, everything was there. The sound in the market was horrifying. Someone was shouting at each other and some were happily laughing about today's day. The market was crowded with people from morning to evening. Many old people came to buy groceries for their home. Many children came to buy toys for themselves and clothes for them. Thank you.\n",
            "[+] Sending to LLM for evaluation...\n",
            "[✓] LLM Output:\n",
            "Score: 4.0\n",
            "Suggestions: Consider using more precise vocabulary, such as \"mayhem\" instead of \"chaos\", and \"bustling\" instead of \"crowded\". Also, consider breaking up long sentences into shorter ones for better clarity.\n",
            "Mistakes: None notable, good use of articles, verb tenses, and punctuation.\n"
          ]
        },
        {
          "output_type": "stream",
          "name": "stderr",
          "text": [
            "\rEvaluating Test Set:  32%|███▏      | 63/195 [07:55<18:09,  8.25s/it]"
          ]
        },
        {
          "output_type": "stream",
          "name": "stdout",
          "text": [
            "[+] Transcribing data/dataset/audios_test/audio_138.wav ...\n",
            "[✓] Transcribed:  market so what are market is nothing but so two types stock market and normal offline market in offline market we will see the crowded market so in early morning so people are selling and buying the market like vegetables in normal Kirana art shops store general stores also so maximum the crowd is in Sundays and also the sounds in the market are full of horns and also people trying to down the prices and also some people ask the money to lay down all the sounds are in market and that seen throughout the day from morning to evening is changes in early morning so the crowd is low but after sometime the crowd is increased at the same time evening it will be a reverse in the scene\n",
            "[+] Sending to LLM for evaluation...\n",
            "[✓] LLM Output:\n",
            "Score: 2.0\n",
            "Suggestions: Break up long sentences into shorter ones, use more precise vocabulary, and consider rephrasing some sentences to improve clarity.\n",
            "Mistakes: tense (multiple instances of switching between past and present tense), article (inconsistent use of \"the\" and \"a\"), punctuation (lack of commas and periods), and word order (some sentences are difficult to follow due to word order).\n"
          ]
        },
        {
          "output_type": "stream",
          "name": "stderr",
          "text": [
            "\rEvaluating Test Set:  33%|███▎      | 64/195 [08:03<18:06,  8.29s/it]"
          ]
        },
        {
          "output_type": "stream",
          "name": "stdout",
          "text": [
            "[+] Transcribing data/dataset/audios_test/audio_148.wav ...\n",
            "[✓] Transcribed: łos нас Peter paperate apostate, Ra と erngronik subanguin er Declinash declinash declinash In your head Painting. Is there a. That. You should. Think. Yes. You are. Secret. because it brings out the reality of the seriousness The end.\n",
            "[+] Sending to LLM for evaluation...\n",
            "[✓] LLM Output:\n",
            "Score: 1.2\n",
            "Suggestions: Break down the sentence into smaller, more coherent parts, and use proper grammar and punctuation to connect them. Consider rephrasing sentences to improve clarity and flow.\n",
            "\n",
            "Mistakes:\n",
            "\n",
            "* Lack of proper capitalization and punctuation throughout the sentence\n",
            "* Unusual and incorrect word choices (e.g. \"paperate\", \"apostate\", \"subanguin\", \"Declinash\", \"erngronik\")\n",
            "* Inconsistent verb tense and subject-verb agreement\n",
            "* Lack of clear sentence structure and logical flow\n",
            "* Frequent use of vague and ambiguous words (e.g. \"In your head\", \"That\", \"You should\", \"Yes\", \"because\")\n",
            "* Unusual and unclear sentence construction (e.g. \"Is there a. That. You should. Think. Yes. You are. Secret. because...\")\n",
            "\n",
            "Note: The sentence appears to be a jumbled collection of words and phrases, making it difficult to decipher the intended meaning.\n"
          ]
        },
        {
          "output_type": "stream",
          "name": "stderr",
          "text": [
            "\rEvaluating Test Set:  33%|███▎      | 65/195 [08:16<21:18,  9.83s/it]"
          ]
        },
        {
          "output_type": "stream",
          "name": "stdout",
          "text": [
            "[+] Transcribing data/dataset/audios_test/audio_151.wav ...\n",
            "[✓] Transcribed:  I like to play badminton. It is one of my favourite hobbies. It always teaches me how to take the right steps. It always teaches me how to be focused. Other than that, it always has taught me how to take the perfect decision on time. Which shot I have to play, It always not only helps me to be fit and active, it also teaches me how to take the best decisions. And apart from that, it has maintained my lifestyle into a good routine as it is my favorite hobby. And whenever I play it, then I always end up with a good spirit. I have been passionately pursuing my hobby from the past six years. it involves using various mediums like I can play it indoor outside so that's my\n",
            "[+] Sending to LLM for evaluation...\n",
            "[✓] LLM Output:\n",
            "Score: 3.8\n",
            "Suggestions: Consider rephrasing some of the repetitive phrases (\"It always teaches me...\", \"It always has taught me...\") to improve clarity and concision. Additionally, consider breaking up long sentences into shorter ones to improve readability.\n",
            "Mistakes: tense inconsistency (switching between present and past tense), repetition, lack of punctuation (e.g., missing commas), and unclear sentence structure (e.g., \"Which shot I have to play, It always not only helps...\").\n"
          ]
        },
        {
          "output_type": "stream",
          "name": "stderr",
          "text": [
            "\rEvaluating Test Set:  34%|███▍      | 66/195 [08:21<18:01,  8.38s/it]"
          ]
        },
        {
          "output_type": "stream",
          "name": "stdout",
          "text": [
            "[+] Transcribing data/dataset/audios_test/audio_153.wav ...\n",
            "[✓] Transcribed:  My favorite hobby, since I can remember, is to knit. I love to knit scarves and also coats and sweaters. And I learned to knit with my mother. Since I can remember, she always knits some beautiful sweaters, not just for herself, but also for me since I'm a little girl and also for other members of our family. I love to go to the knit shop and buy some wool and also some accessories and also some magazines or books to inspire us to make different things. It's a very nice hobby and I love it.\n",
            "[+] Sending to LLM for evaluation...\n",
            "[✓] LLM Output:\n",
            "Score: 4.2\n",
            "Suggestions: Consider varying sentence structure and length to improve flow and readability. Additionally, some sentences could be combined for better cohesion.\n",
            "Mistakes: \n",
            "\n",
            "* Tense consistency: The sentence switches between past and present tense, which can be confusing. (e.g., \"since I can remember\" is in the present tense, while \"I learned to knit with my mother\" is in the past tense)\n",
            "* Article usage: Some sentences lack articles (\"a\" or \"the\") before nouns, which can affect clarity. (e.g., \"I love to go to the knit shop\" vs. \"I love to go to knit shop\")\n",
            "* Pronoun usage: Some pronouns (e.g., \"us\") could be replaced with more specific nouns for better clarity.\n",
            "* Sentence structure: Some sentences are simple and could be combined or rephrased for better flow.\n"
          ]
        },
        {
          "output_type": "stream",
          "name": "stderr",
          "text": [
            "\rEvaluating Test Set:  34%|███▍      | 67/195 [08:28<17:00,  7.97s/it]"
          ]
        },
        {
          "output_type": "stream",
          "name": "stdout",
          "text": [
            "[+] Transcribing data/dataset/audios_test/audio_158.wav ...\n",
            "[✓] Transcribed:  We be right back Sampai jumpa Sampai jumpa di video selanjutnya. Terima kasih telah menonton!\n",
            "[+] Sending to LLM for evaluation...\n",
            "[✓] LLM Output:\n",
            "Score: 1.5\n",
            "Suggestions: Break the sentence into two separate sentences, and consider using a more formal greeting or farewell phrase.\n",
            "Mistakes: Non-English words (Sampai jumpa, Terima kasih), incorrect verb tense (should be \"will be\" instead of \"be\"), lack of punctuation.\n"
          ]
        },
        {
          "output_type": "stream",
          "name": "stderr",
          "text": [
            "\rEvaluating Test Set:  35%|███▍      | 68/195 [08:36<16:47,  7.93s/it]"
          ]
        },
        {
          "output_type": "stream",
          "name": "stdout",
          "text": [
            "[+] Transcribing data/dataset/audios_test/audio_159.wav ...\n",
            "[✓] Transcribed:  Lyrical Curtainズ Mutter Neva Cersamo sérgio vivis z Goog rocket? B... Dr.. Papad.. 인.. .. S.... Unfehag armyset to Hairai, Noung Ye. Tore ngaya dih cuales? Sekarang, Tore ngaya dih cuales rumi ang tai? Ilal Akwirat Ki Tą Cil. Kepala Kepala Kepala Kepala Kepala Terima kasih telah menonton!\n",
            "[+] Sending to LLM for evaluation...\n",
            "[✓] LLM Output:\n",
            "Score: 1.0\n",
            "Suggestions: The sentence appears to be a mix of languages, including English, Japanese, and Indonesian. It would be helpful to rewrite the sentence in a single language, focusing on clear and concise communication.\n",
            "Mistakes: Language mixing, lack of punctuation, incorrect capitalization, and unclear sentence structure.\n"
          ]
        },
        {
          "output_type": "stream",
          "name": "stderr",
          "text": [
            "\rEvaluating Test Set:  35%|███▌      | 69/195 [08:46<17:45,  8.46s/it]"
          ]
        },
        {
          "output_type": "stream",
          "name": "stdout",
          "text": [
            "[+] Transcribing data/dataset/audios_test/audio_165.wav ...\n",
            "[✓] Transcribed:  Terima kasih telah menonton. Sampai jumpa Terima kasih telah menonton Terima kasih.\n",
            "[+] Sending to LLM for evaluation...\n",
            "[✓] LLM Output:\n",
            "Score: 1.0\n",
            "Suggestions: The sentence appears to be a mix of English and Indonesian phrases. It would be helpful to rewrite the sentence in a clear and concise English sentence structure.\n",
            "Mistakes: language mixing (English and Indonesian), sentence fragmentation, and repetition.\n"
          ]
        },
        {
          "output_type": "stream",
          "name": "stderr",
          "text": [
            "\rEvaluating Test Set:  36%|███▌      | 70/195 [08:53<16:39,  8.00s/it]"
          ]
        },
        {
          "output_type": "stream",
          "name": "stdout",
          "text": [
            "[+] Transcribing data/dataset/audios_test/audio_172.wav ...\n",
            "[✓] Transcribed:  My favorite hobby is knitting. I enjoy about that hobby because I enjoy the hobby because I can create so many things. It helped me to relax my mind and to create new things. and the tools that I need to use for the hobby is hooks, there are different types of hooks so depending on the points you are going to be using in the knitting process and I enjoy practicing on my own most of the time but I enjoy it also with others, with my friends so we can have a tea party and also be eating while we have some gossips.\n",
            "[+] Sending to LLM for evaluation...\n",
            "[✓] LLM Output:\n",
            "Score: 3.2\n",
            "Suggestions: Consider breaking up long sentences into shorter ones, and use more precise language to convey your thoughts. For example, instead of \"I enjoy about that hobby because I enjoy the hobby because I can create so many things\", you could say \"I enjoy knitting because I can create many things, which brings me joy\".\n",
            "Mistakes: Tense inconsistency (switching between past and present tense), lack of article usage (e.g. \"the tools that I need to use for the hobby is hooks\"), and excessive use of conjunctions (e.g. \"and\", \"but\"). Additionally, there are some minor punctuation errors (e.g. missing commas).\n"
          ]
        },
        {
          "output_type": "stream",
          "name": "stderr",
          "text": [
            "\rEvaluating Test Set:  36%|███▋      | 71/195 [08:58<14:44,  7.14s/it]"
          ]
        },
        {
          "output_type": "stream",
          "name": "stdout",
          "text": [
            "[+] Transcribing data/dataset/audios_test/audio_177.wav ...\n",
            "[✓] Transcribed:  My favorite hobby is driving around with my car. I like driving around because it's relaxing and I can think... I can think... forget about that. Um, yeah, so obviously I get my car to drive around and, um, well, I usually drive alone or sometimes I invite my girlfriend. Yeah, I usually go to the mountain or to the sea, see some sightseeing and then grab some nice dinner before I could get home. yeah that's what I like yeah that's that's my hobby I usually drive around on the weekend on on holidays yeah\n",
            "[+] Sending to LLM for evaluation...\n",
            "[✓] LLM Output:\n",
            "Score: 2.0\n",
            "Suggestions: Try to rephrase the sentence to make it more concise and clear. Consider breaking it up into smaller sentences for better flow and clarity.\n",
            "\n",
            "Mistakes:\n",
            "\n",
            "* Fragmented sentences and incomplete thoughts\n",
            "* Lack of cohesion and transition between ideas\n",
            "* Informal language and filler words (\"um\", \"yeah\", \"so\")\n",
            "* Missing articles and prepositions\n",
            "* Unnecessary repetition of words and phrases\n",
            "* Inconsistent verb tenses (switching between present and past simple)\n"
          ]
        },
        {
          "output_type": "stream",
          "name": "stderr",
          "text": [
            "\rEvaluating Test Set:  37%|███▋      | 72/195 [09:08<16:04,  7.84s/it]"
          ]
        },
        {
          "output_type": "stream",
          "name": "stdout",
          "text": [
            "[+] Transcribing data/dataset/audios_test/audio_179.wav ...\n",
            "[✓] Transcribed:  My hobby is DIY or basically do it yourself. What I enjoy most about my hobby is making something out of raw materials. And of course, to do this, you would have to use a various amount of tools. The mediums I love to work with are metal, wood, I'm just building computers, building bikes, building things out of wood. Basically just DIY, finding the little kinks and how things work and then building upon it. This hobby is done by myself because I don't want to be dragged down or rushed by other people and it gives me a sense of satisfaction to know how things work and building up something from myself and then using it throughout my life.\n",
            "[+] Sending to LLM for evaluation...\n",
            "[✓] LLM Output:\n",
            "Score: 4.0\n",
            "Suggestions: Consider breaking up long sentences into shorter ones for better clarity and flow. Additionally, some phrases, such as \"And of course, to do this, you would have to use a various amount of tools\" could be rephrased for more concise language.\n",
            "Mistakes: tense (mix of present and past tense), article (missing articles in some places), punctuation (some sentences could be separated with commas or periods for better clarity), pronoun reference (some pronouns, such as \"it\" and \"this\", could be replaced with more specific nouns for better clarity).\n"
          ]
        },
        {
          "output_type": "stream",
          "name": "stderr",
          "text": [
            "\rEvaluating Test Set:  37%|███▋      | 73/195 [09:16<16:01,  7.88s/it]"
          ]
        },
        {
          "output_type": "stream",
          "name": "stdout",
          "text": [
            "[+] Transcribing data/dataset/audios_test/audio_180.wav ...\n",
            "[✓] Transcribed:  My favourite hobby is playing basketball. Playing basketball is fun because it is an explosive sport. There's a lot of running, lots of sprinting, lots of jumping. It is very dynamic and I find that it's challenging which is why I like it. There is no really any tools that I need for my hobby. I pretty much just need basketball shoes and a ball. Most of the time someone else brings a ball so I don't really consider even bringing one even though I have one. This is a hobby that's generally better with other people. In the case of basketball, there is a total of five players on each side and I really look forward to playing basketball with me and four of my friends so we can bond over the game and after the game go hang out, have some food, get a drink.\n",
            "[+] Sending to LLM for evaluation...\n",
            "[✓] LLM Output:\n",
            "Score: 4.0\n",
            "Suggestions: Consider breaking up long sentences into shorter ones for better clarity and flow. Also, some sentences could be rephrased for more concise language.\n",
            "Mistakes: None significant, but some sentences are quite long and could be improved for better readability.\n"
          ]
        },
        {
          "output_type": "stream",
          "name": "stderr",
          "text": [
            "\rEvaluating Test Set:  38%|███▊      | 74/195 [09:25<16:44,  8.30s/it]"
          ]
        },
        {
          "output_type": "stream",
          "name": "stdout",
          "text": [
            "[+] Transcribing data/dataset/audios_test/audio_19.wav ...\n",
            "[✓] Transcribed:  My favourite hobby is actually football and entertainment in short. I actually love playing football. I have dedicated time every weekend to exercise and go to fields to actually enjoy what I love to do most. And about the tools available, I've got my boots, my kit and I've got my football as well which I use for my hobby. And about the practice, I actually haven't compared going along today, I mean with my hobby with me makes it more fun and lively. As being a footballer, you can actually enjoy it on you alone. So I enjoy it with others out there.\n",
            "[+] Sending to LLM for evaluation...\n",
            "[✓] LLM Output:\n",
            "Score: 4.0\n",
            "Suggestions: Consider using a more formal tone and avoiding repetitive phrases like \"I actually\" to make the sentence more concise and polished.\n",
            "Mistakes: article (inconsistent use of \"my\" and \"I\"), pronoun (ambiguous reference to \"it\" and \"me\"), punctuation (missing commas and periods), verb tense (switching between present and past tense).\n"
          ]
        },
        {
          "output_type": "stream",
          "name": "stderr",
          "text": [
            "\rEvaluating Test Set:  38%|███▊      | 75/195 [09:32<15:42,  7.85s/it]"
          ]
        },
        {
          "output_type": "stream",
          "name": "stdout",
          "text": [
            "[+] Transcribing data/dataset/audios_test/audio_196.wav ...\n",
            "[✓] Transcribed:  My favorite hobby is decorating the home with handcrafted, with decorative papers like handcrafts, crafted papers and crafted datings like that. I really enjoy by doing that work. I think the tools that I need for my hobby is like craft papers, scissors, gums, etc. And I really enjoy by doing that work. Whenever I have free time, I try to spend my time in crafting. and I also like drawing or drawing the pictures I show interest in drawing this is my hobby I like to spend my time by doing this\n",
            "[+] Sending to LLM for evaluation...\n",
            "[✓] LLM Output:\n",
            "Score: 2.2\n",
            "Suggestions: Break up long sentences into shorter ones, use correct verb tenses consistently, and proofread for punctuation errors.\n",
            "\n",
            "Mistakes:\n",
            "\n",
            "* Lack of subject-verb agreement (e.g., \"I really enjoy by doing that work\" should be \"I really enjoy doing that work\")\n",
            "* Incorrect use of articles (e.g., \"with decorative papers like handcrafts\" should be \"with decorative papers, such as handcrafts\")\n",
            "* Run-on sentences (e.g., \"I think the tools that I need for my hobby is like craft papers, scissors, gums, etc. And I really enjoy by doing that work\")\n",
            "* Inconsistent verb tense (e.g., switching between past and present tense)\n",
            "* Lack of punctuation (e.g., missing commas and periods)\n",
            "* Redundant phrases (e.g., \"I really enjoy by doing that work\" is repeated)\n",
            "* Incorrect use of homophones (e.g., \"datings\" instead of \"dates\")\n",
            "* Lack of clarity in sentence structure (e.g., sentences are hard to follow due to poor word order)\n"
          ]
        },
        {
          "output_type": "stream",
          "name": "stderr",
          "text": [
            "\rEvaluating Test Set:  39%|███▉      | 76/195 [09:40<15:59,  8.06s/it]"
          ]
        },
        {
          "output_type": "stream",
          "name": "stdout",
          "text": [
            "[+] Transcribing data/dataset/audios_test/audio_198.wav ...\n",
            "[✓] Transcribed:  What I enjoy the most about my hobby now is to craft something new because I pick stuff, some materials and then I craft a bag or a necklace or a ring. I even made some earrings and that's the thing I like the most. Then I use some tools to craft. I use a lot of beads. That's one of my favorites, different types of beads. and I also use a lot of other materials. I enjoy doing my hobby with my sister because then we can do stuff together and it's always nice.\n",
            "[+] Sending to LLM for evaluation...\n",
            "[✓] LLM Output:\n",
            "Score: 3.5\n",
            "Suggestions: Consider breaking up long sentences into shorter ones for better clarity. Also, use more precise language to describe the materials and tools used in crafting.\n",
            "Mistakes: article (indefinite article \"a\" is missing in \"a bag or a necklace or a ring\"), punctuation (multiple sentences are run-on), verb tense consistency (switches between present and past tense), pronoun usage (uses \"I\" and \"my\" interchangeably).\n"
          ]
        },
        {
          "output_type": "stream",
          "name": "stderr",
          "text": [
            "\rEvaluating Test Set:  39%|███▉      | 77/195 [09:49<16:21,  8.32s/it]"
          ]
        },
        {
          "output_type": "stream",
          "name": "stdout",
          "text": [
            "[+] Transcribing data/dataset/audios_test/audio_20.wav ...\n",
            "[✓] Transcribed:  My favourite place to visit is Lunar Park. Getting there we sometimes take a ferry which is quite entertaining. They have some fun finger foods which is burgers and chips and curly fries which is really really nice to eat. It's always good to go at night because the lights shine bright and it looks so magical\n",
            "[+] Sending to LLM for evaluation...\n",
            "[✓] LLM Output:\n",
            "Score: 4.2\n",
            "Suggestions: Consider varying sentence structure and using more precise vocabulary to convey your thoughts. Additionally, proofread for minor errors such as repeated words (\"which is\" and \"which\") and consider using more descriptive language to paint a vivid picture.\n",
            "\n",
            "Mistakes: Article (indefinite article \"a\" missing), verb tense consistency (switching between present and past tense), pronoun reference (vague reference to \"they\"), and minor errors in punctuation (repeated use of commas).\n"
          ]
        },
        {
          "output_type": "stream",
          "name": "stderr",
          "text": [
            "\rEvaluating Test Set:  40%|████      | 78/195 [09:57<15:57,  8.19s/it]"
          ]
        },
        {
          "output_type": "stream",
          "name": "stdout",
          "text": [
            "[+] Transcribing data/dataset/audios_test/audio_21.wav ...\n",
            "[✓] Transcribed:  My favourite place to visit is a little place called Malham Cove which is in England. Malham Cove is a very beautiful place to visit because of the cliffs that were formed from the old limestones. It can be a little bit tricky to get there so on your way there's like a little small narrow lane and you can park close to it you have to park a little bit further away by five minutes or so which makes it a little bit tricky to access but oh once you're there it is absolutely stunning it has breathtaking views there's a little waterfall there does be quite a few people there in terms of tourists but if you go around two or three o'clock when everyone else is returning home and you just go up you can have the place to yourself which is quite magical Thank you.\n",
            "[+] Sending to LLM for evaluation...\n",
            "[✓] LLM Output:\n",
            "Score: 4.0\n",
            "Suggestions: Consider breaking up long sentences into shorter ones for better clarity and flow. Also, some phrases could be rephrased for more concise language.\n",
            "Mistakes:\n",
            "\n",
            "* Tense inconsistency (e.g., \"is\" vs. \"were formed\")\n",
            "* Article usage (e.g., \"a little place\" vs. \"the cliffs\")\n",
            "* Punctuation (e.g., missing commas in some places)\n",
            "* Some phrases could be rephrased for more concise language (e.g., \"you have to park a little bit further away by five minutes or so which makes it a little bit tricky to access\" could be simplified)\n",
            "* Minor errors in verb agreement (e.g., \"there's like a little small narrow lane\" could be rephrased to \"there's a small, narrow lane\")\n"
          ]
        },
        {
          "output_type": "stream",
          "name": "stderr",
          "text": [
            "\rEvaluating Test Set:  41%|████      | 79/195 [10:05<15:44,  8.14s/it]"
          ]
        },
        {
          "output_type": "stream",
          "name": "stdout",
          "text": [
            "[+] Transcribing data/dataset/audios_test/audio_217.wav ...\n",
            "[✓] Transcribed:  My favorite hobby is eating. What I enjoy the most of eating is the flavors. I love cooking up something and getting around to play with the flavors with seasoning. I think it's really fulfilling. not only in eating but cooking the food that you're about to eat, tasting new recipes or ordering from new places, tasting food from other countries. I normally practice my hobby by myself but sometimes I'll invite people to a restaurant or to some new place that a lot of people are going. and we eat. We just take pictures of the food too and then we can upload it to social media.\n",
            "[+] Sending to LLM for evaluation...\n",
            "[✓] LLM Output:\n",
            "Score: 4.2\n",
            "Suggestions: Consider breaking up long sentences into shorter ones for better clarity. Also, some sentences could be rephrased for more concise language.\n",
            "\n",
            "Mistakes:\n",
            "\n",
            "* Tense inconsistency (e.g., \"I love cooking up something\" vs. \"I normally practice my hobby\")\n",
            "* Lack of articles (e.g., \"the flavors\" vs. \"flavors\")\n",
            "* Unnecessary words (e.g., \"getting around to play with the flavors with seasoning\")\n",
            "* Informal tone (e.g., \"not only in eating but cooking the food that you're about to eat\")\n",
            "* Minor punctuation errors (e.g., missing commas in some places)\n"
          ]
        },
        {
          "output_type": "stream",
          "name": "stderr",
          "text": [
            "\rEvaluating Test Set:  41%|████      | 80/195 [10:14<16:13,  8.47s/it]"
          ]
        },
        {
          "output_type": "stream",
          "name": "stdout",
          "text": [
            "[+] Transcribing data/dataset/audios_test/audio_218.wav ...\n",
            "[✓] Transcribed:  My favorite hobby is playing video games. I don't have much tools, only my PC, computer, internet and it's all video games for sure. Yes, I can say that I like to enjoy practicing my hobby with others because I like so much, I played video games since as a child when I was young. And nowadays, the video games are always here. And I like to play. Thank you.\n",
            "[+] Sending to LLM for evaluation...\n",
            "[✓] LLM Output:\n",
            "Score: 3.5\n",
            "Suggestions: Consider rephrasing some sentences for better clarity and concision. For example, the sentence \"I don't have much tools, only my PC, computer, internet and it's all video games for sure\" could be simplified to \"I only have a PC, computer, and internet, which is all I need for video games.\"\n",
            "Mistakes: article (indefinite article \"a\" missing), punctuation (inconsistent use of commas), verb tense (mix of past and present tense), pronoun reference (vague reference to \"others\" and \"I\" in the same sentence).\n"
          ]
        },
        {
          "output_type": "stream",
          "name": "stderr",
          "text": [
            "\rEvaluating Test Set:  42%|████▏     | 81/195 [10:22<15:43,  8.28s/it]"
          ]
        },
        {
          "output_type": "stream",
          "name": "stdout",
          "text": [
            "[+] Transcribing data/dataset/audios_test/audio_221.wav ...\n",
            "[✓] Transcribed:  My favorite hobby is playing video games. What I enjoy the most about my hobby is that I can go about it any time of the day. But usually in the evening I like to play video games after I've done my work for the day. So it is like a way to relax for me and it is a fun way to relax. The tools that I need to use for my hobby are just my video game controller or my Xbox One. I enjoy practicing my hobby alone most of the time because I really don't have anybody else to play video games with. So I just play alone online. Or sometimes we can play with a friend here. here, but most of the time I play alone.\n",
            "[+] Sending to LLM for evaluation...\n",
            "[✓] LLM Output:\n",
            "Score: 4.0\n",
            "Suggestions: Consider varying sentence structure and length to improve flow and readability. Additionally, some sentences could be combined for better cohesion.\n",
            "Mistakes: None notable, but some sentences could be rephrased for better clarity and concision.\n"
          ]
        },
        {
          "output_type": "stream",
          "name": "stderr",
          "text": [
            "\rEvaluating Test Set:  42%|████▏     | 82/195 [10:31<15:55,  8.45s/it]"
          ]
        },
        {
          "output_type": "stream",
          "name": "stdout",
          "text": [
            "[+] Transcribing data/dataset/audios_test/audio_225.wav ...\n",
            "[✓] Transcribed:  My favourite hobby is playing sports, mostly soccer. I enjoy playing soccer because it is very fun. I enjoy scoring goals. I love it when I score a goal. The tools I need for soccer is my football boots, socks, pants, shirt and shin guards. I also need water. I enjoy playing soccer with all my friends. Sometimes I like to train by myself. Others, sometimes I like to train with my friend and we practice one-on-one dribbling. We like to do laps around the field as well. Our favorite things to do are practicing shooting at the goals. Soccer is my favorite hobby. you\n",
            "[+] Sending to LLM for evaluation...\n",
            "[✓] LLM Output:\n",
            "Score: 3.5\n",
            "Suggestions: Consider rephrasing some of the sentences to improve clarity and coherence. For example, the sentence \"The tools I need for soccer is my football boots, socks, pants, shirt and shin guards. I also need water.\" could be rephrased to \"The essential tools I need for soccer include my football boots, socks, pants, shirt, and shin guards, as well as water.\"\n",
            "\n",
            "Mistakes:\n",
            "\n",
            "* Lack of subject-verb agreement in some sentences (e.g. \"The tools I need for soccer is...\")\n",
            "* Inconsistent verb tense (e.g. \"I enjoy playing soccer because it is very fun\" vs. \"I enjoy scoring goals\")\n",
            "* Run-on sentences (e.g. \"I enjoy playing soccer with all my friends. Sometimes I like to train by myself.\")\n",
            "* Informal language and lack of cohesion (e.g. \"you\" at the end of the sentence)\n",
            "* Missing articles (e.g. \"my football boots\" instead of \"my football boots, the\")\n",
            "* Lack of parallel structure in some lists (e.g. \"We like to do laps around the field as well. Our favorite things to do are practicing shooting at the goals.\")\n"
          ]
        },
        {
          "output_type": "stream",
          "name": "stderr",
          "text": [
            "\rEvaluating Test Set:  43%|████▎     | 83/195 [10:39<15:49,  8.48s/it]"
          ]
        },
        {
          "output_type": "stream",
          "name": "stdout",
          "text": [
            "[+] Transcribing data/dataset/audios_test/audio_235.wav ...\n",
            "[✓] Transcribed:  My favorite hobby is doing yoga. I enjoy the fact that it's very peaceful and it allows you to meditate for a while. Also that your body feels really good afterwards like you just had a massage. You need a mat to practice this hobby and I enjoy practicing it with other people in outdoor classes or indoor classes. I usually do it in the evenings because it's easier for me and I'm free at that time. It's really good for your health and it's good for when you're older and all your joints hurt. It's trying to prevent your bones and your joints hurting when you're in your 50s or 60s.\n",
            "[+] Sending to LLM for evaluation...\n",
            "[✓] LLM Output:\n",
            "Score: 4.2\n",
            "Suggestions: Consider varying sentence structure and length to improve flow and readability. Additionally, some sentences could be combined for better cohesion.\n",
            "Mistakes: None notable, good use of verb tenses, articles, and punctuation.\n"
          ]
        },
        {
          "output_type": "stream",
          "name": "stderr",
          "text": [
            "\rEvaluating Test Set:  43%|████▎     | 84/195 [10:49<16:16,  8.80s/it]"
          ]
        },
        {
          "output_type": "stream",
          "name": "stdout",
          "text": [
            "[+] Transcribing data/dataset/audios_test/audio_261.wav ...\n",
            "[✓] Transcribed:  Aswendia koi... Classic blocks.... Gae pishem wapastēk egaman.. Aama se 거예요 optho... Terima kasih Jangan lupa like share subscribe dan share video ini Che Jeng Asusian Guwakona I St. Asusian As-salamu alaykum wa rahmatullahi wa barakatuh.\n",
            "[+] Sending to LLM for evaluation...\n",
            "[✓] LLM Output:\n",
            "Score: 1.0\n",
            "Suggestions: This sentence appears to be a mix of languages, including English, Indonesian, and Korean. To improve the grammar, it would be best to rewrite the sentence in a single language, focusing on clear and concise communication.\n",
            "Mistakes: Language mixing, lack of punctuation, unclear sentence structure.\n"
          ]
        },
        {
          "output_type": "stream",
          "name": "stderr",
          "text": [
            "\rEvaluating Test Set:  44%|████▎     | 85/195 [10:58<16:26,  8.97s/it]"
          ]
        },
        {
          "output_type": "stream",
          "name": "stdout",
          "text": [
            "[+] Transcribing data/dataset/audios_test/audio_263.wav ...\n",
            "[✓] Transcribed:  I honestly don't think I've had the best day of my life or anything close to it. So I cannot really give my opinion on this experience or what made it special.\n",
            "[+] Sending to LLM for evaluation...\n",
            "[✓] LLM Output:\n",
            "Score: 4.0\n",
            "Suggestions: Consider rephrasing the sentence to improve clarity and concision, such as \"I haven't had the best day of my life, and I'm not sure what made it special, so I'm hesitant to share my opinion.\"\n",
            "Mistakes: None notable, good use of verb tenses, articles, and punctuation.\n"
          ]
        },
        {
          "output_type": "stream",
          "name": "stderr",
          "text": [
            "\rEvaluating Test Set:  44%|████▍     | 86/195 [11:03<13:51,  7.63s/it]"
          ]
        },
        {
          "output_type": "stream",
          "name": "stdout",
          "text": [
            "[+] Transcribing data/dataset/audios_test/audio_274.wav ...\n",
            "[✓] Transcribed:  The best moment in my life is the time, the day when I met my best friend. It always makes me special because my best friend is another college. So we don't meet regularly. So it will take so much time to meet them. I feel so happy when I meet them. If that won't happen, nothing will happen. but it is a kind of happiness to me whenever I meet my best friend. It is always a special day for me because he is a special person for me because he is there for me in every situation. Whenever I think about that day, I feel so happy and overwhelmed. I feel very overwhelmed there because those memories won't come again. that's why I feel so much happy and thank\n",
            "[+] Sending to LLM for evaluation...\n",
            "[✓] LLM Output:\n",
            "Score: 3.0\n",
            "Suggestions: Consider using more precise language, such as \"the day I met my best friend\" instead of \"the time, the day when I met my best friend\". Also, try to vary sentence structure to improve clarity and flow.\n",
            "Mistakes: Tense inconsistency (switching between past and present tense), pronoun ambiguity (using \"he\" without a clear antecedent), and some minor punctuation errors (e.g., missing articles, incorrect use of commas).\n"
          ]
        },
        {
          "output_type": "stream",
          "name": "stderr",
          "text": [
            "\rEvaluating Test Set:  45%|████▍     | 87/195 [11:10<13:35,  7.55s/it]"
          ]
        },
        {
          "output_type": "stream",
          "name": "stdout",
          "text": [
            "[+] Transcribing data/dataset/audios_test/audio_276.wav ...\n",
            "[✓] Transcribed:  The best day of one's life is a deeply personal topic, at least varies greatly from person to person. For some, it might be a day filled with joyous milestones like wedding, the birth of a child or achieving a long-held dream. For others, it could be a simple day spent in the company or of loved ones enjoying meaningful conversations and shared laughter. The best day of my life involves moments of connection, fulfillment and gratitude with my loved ones and my family. It was a function in my family when all the people of my family gathered together and we had a bunch of a time with laughter, happy foods and enjoying. The best day of life involves it. It could be a day when everything seemed to align perfectly, when worries melted away and when memories were made that could be cherished forever.\n",
            "[+] Sending to LLM for evaluation...\n",
            "[✓] LLM Output:\n",
            "Score: 3.5\n",
            "Suggestions: Consider breaking up long sentences into shorter ones for better clarity. Also, use more precise language to convey your thoughts, such as \"a day filled with joyous milestones like a wedding, the birth of a child, or achieving a long-held dream\" instead of \"a day filled with joyous milestones like wedding, the birth of a child or achieving a long-held dream\".\n",
            "Mistakes: \n",
            "- Tense inconsistency (switching between present and past tense)\n",
            "- Lack of articles (\"a\" or \"the\" before nouns)\n",
            "- Run-on sentences\n",
            "- Informal language and colloquialisms (\"a bunch of a time\", \"happy foods\")\n",
            "- Repetition of the phrase \"The best day of my life\"\n"
          ]
        },
        {
          "output_type": "stream",
          "name": "stderr",
          "text": [
            "\rEvaluating Test Set:  45%|████▌     | 88/195 [11:20<14:34,  8.17s/it]"
          ]
        },
        {
          "output_type": "stream",
          "name": "stdout",
          "text": [
            "[+] Transcribing data/dataset/audios_test/audio_281.wav ...\n",
            "[✓] Transcribed:  The best day of my life was when I was born because if I had not experienced that day, my life would cease to exist. That day is very special to me because it was the day that I came into this earth and was able to start a journey on this earth and start a life. I feel great. I feel nostalgic and I feel overwhelmed with emotion when I think about that day because I am very grateful for that day.\n",
            "[+] Sending to LLM for evaluation...\n",
            "[✓] LLM Output:\n",
            "Score: 4.2\n",
            "Suggestions: Consider varying sentence structure and length to create a more dynamic and engaging narrative. Additionally, some sentences could be combined for better flow and clarity.\n",
            "\n",
            "Mistakes:\n",
            "\n",
            "* Tense inconsistency (switching between past and present tense)\n",
            "* Repetitive use of \"that day\" (consider using synonyms or rephrasing sentences)\n",
            "* Overuse of adverbs (\"very special\", \"very grateful\")\n",
            "* Some sentences are quite long and could be broken up for better readability\n"
          ]
        },
        {
          "output_type": "stream",
          "name": "stderr",
          "text": [
            "\rEvaluating Test Set:  46%|████▌     | 89/195 [11:28<14:21,  8.13s/it]"
          ]
        },
        {
          "output_type": "stream",
          "name": "stdout",
          "text": [
            "[+] Transcribing data/dataset/audios_test/audio_282.wav ...\n",
            "[✓] Transcribed:  I actually think the best day of my life is still to come. My girlfriend, she's currently pregnant. And I think, we don't know the gender of the baby, whether it's going to be a girl or a boy, but I think regardless of what the baby is, whenever they're born, I think that's probably going to be the best day of my life. I mean, apart from that, I think the 45 seconds or however long I had wasn't enough for me to really think about it. There's just so many days that I've had that have been good. But I think I was in, it was probably a day in college, somewhere around when I probably met my girlfriend. That might have been the best.\n",
            "[+] Sending to LLM for evaluation...\n",
            "[✓] LLM Output:\n",
            "Score: 4.0\n",
            "Suggestions: Consider breaking up long sentences into shorter ones for better clarity. Also, some phrases could be rephrased for more concise expression.\n",
            "Mistakes:\n",
            "\n",
            "* Lack of clear sentence structure and punctuation in some areas\n",
            "* Some sentences are quite long and could be broken up for better clarity\n",
            "* A few instances of informal language (e.g., \"I think\" repeated multiple times)\n",
            "* Some phrases could be rephrased for more concise expression (e.g., \"I think regardless of what the baby is\" could be simplified)\n"
          ]
        },
        {
          "output_type": "stream",
          "name": "stderr",
          "text": [
            "\rEvaluating Test Set:  46%|████▌     | 90/195 [11:36<14:17,  8.16s/it]"
          ]
        },
        {
          "output_type": "stream",
          "name": "stdout",
          "text": [
            "[+] Transcribing data/dataset/audios_test/audio_285.wav ...\n",
            "[✓] Transcribed:  The best day of my life is also the worst day of my life. It was one of the early times when I came to Japan and I participated in a thing called Hadaka Matsuri, which means Naked Fighting Festival. My life would never have taken a turn to where it has been now if I had not taken or participated in this event. because it made me realize how much you can learn from just spontaneous events. This day was just crazy. It was drunk. It was sporadic. And the feeling I had was just adrenaline. So it changed my perspective on life. So it was the best day of my life because it changed everything, my perspective. It was the worst day because I was thrown in the fire.\n",
            "[+] Sending to LLM for evaluation...\n",
            "[✓] LLM Output:\n",
            "Score: 4.0\n",
            "Suggestions: Consider varying sentence structure and length to improve flow and clarity. Additionally, some sentences could be combined for better cohesion.\n",
            "Mistakes: tense (switching between past and present), pronoun (ambiguous use of \"you\"), punctuation (missing articles, commas), and word choice (some words may not be the most precise or idiomatic).\n"
          ]
        },
        {
          "output_type": "stream",
          "name": "stderr",
          "text": [
            "\rEvaluating Test Set:  47%|████▋     | 91/195 [11:45<14:40,  8.46s/it]"
          ]
        },
        {
          "output_type": "stream",
          "name": "stdout",
          "text": [
            "[+] Transcribing data/dataset/audios_test/audio_286.wav ...\n",
            "[✓] Transcribed:  The best day of my life was when I graduated from university, which was a struggle because I studied five years through two different universities. At first I didn't think I was going to make it to university because my grades weren't good enough, but I tried very, very hard after this bridging course and stuff we did here, but I made it to the course. If I never finished my degree, I probably would still be working on my previous job, which was not that glorious. And the day is special because I made people around me proud. It was something that I worked for for a long time and just the feeling of fulfillment that you get knowing that you accomplished something through your own time. I always feel proud thinking about this day because I know the hard work that I put into it and the result is I'm moderately successful now.\n",
            "[+] Sending to LLM for evaluation...\n",
            "[✓] LLM Output:\n",
            "Score: 4.2\n",
            "Suggestions: Consider breaking up long sentences into shorter ones for better clarity. Also, some phrases can be rephrased for more concise expression.\n",
            "Mistakes: tense consistency, pronoun reference, sentence structure, and a few minor punctuation errors.\n",
            "\n",
            "The sentence has a good flow and is mostly clear, but there are some areas that could be improved. The use of long sentences and complex sentence structures can make it difficult to follow at times. Additionally, there are a few instances of tense inconsistency, where the verb tense changes within a sentence or paragraph. The pronoun reference is also not always clear, which can make it hard to understand who or what is being referred to. Finally, there are a few minor punctuation errors, such as missing articles and incorrect use of commas. Overall, the sentence is well-written, but could benefit from some revisions to improve clarity and concision.\n"
          ]
        },
        {
          "output_type": "stream",
          "name": "stderr",
          "text": [
            "\rEvaluating Test Set:  47%|████▋     | 92/195 [11:54<14:23,  8.38s/it]"
          ]
        },
        {
          "output_type": "stream",
          "name": "stdout",
          "text": [
            "[+] Transcribing data/dataset/audios_test/audio_287.wav ...\n",
            "[✓] Transcribed:  Sampai jumpa. Kau yung suamimu wakil kusumit. Kui yung kakarikimu kukur. Kui yung kakarikimu kukur. Kui yung kakarikimu kukur. Kui yung kakarikimu kukur Sampai jumpa di video selanjutnya Umberto Inac Terima kasih.\n",
            "[+] Sending to LLM for evaluation...\n",
            "[✓] LLM Output:\n",
            "Score: 1.0\n",
            "Suggestions: This sentence appears to be a mix of Indonesian and English words, but it lacks proper grammar and sentence structure. Consider rewriting the sentence in a clear and concise manner, using proper grammar and sentence structure.\n",
            "Mistakes: Language mix, lack of sentence structure, incorrect word order, and unclear meaning.\n"
          ]
        },
        {
          "output_type": "stream",
          "name": "stderr",
          "text": [
            "\rEvaluating Test Set:  48%|████▊     | 93/195 [12:06<16:05,  9.47s/it]"
          ]
        },
        {
          "output_type": "stream",
          "name": "stdout",
          "text": [
            "[+] Transcribing data/dataset/audios_test/audio_29.wav ...\n",
            "[✓] Transcribed:  The best day of my life, I would simply put that as the day my partner gave birth to my first child, Georgia. And actually it was such a lovely experience which I haven't felt before in my life. life so I makes that experience one of the best experience I've ever witnessed and for having my own kind of person coming into this world I would say make it a special day you know for me and I'll actually feel related I feel happy and I feel energized all throughout that very day and even more days after as well to behold my first\n",
            "[+] Sending to LLM for evaluation...\n",
            "[✓] LLM Output:\n",
            "Score: 3.2\n",
            "Suggestions: Consider breaking up long sentences into shorter ones for better clarity and readability. Also, be mindful of sentence structure and try to maintain a consistent tone throughout the paragraph.\n",
            "\n",
            "Mistakes:\n",
            "\n",
            "* Lack of punctuation: The sentence is a run-on and could be broken up with commas or periods for better clarity.\n",
            "* Verb tense inconsistency: The sentence switches between past and present tense, which can be confusing. Try to maintain a consistent tense throughout the paragraph.\n",
            "* Word choice: Some words, such as \"makes\" and \"I'll\", could be replaced with more precise language to improve clarity and tone.\n",
            "* Sentence structure: Some sentences are quite long and could be broken up for better readability. Consider using shorter sentences or varying sentence structure to create a more dynamic tone.\n"
          ]
        },
        {
          "output_type": "stream",
          "name": "stderr",
          "text": [
            "\rEvaluating Test Set:  48%|████▊     | 94/195 [12:10<13:36,  8.08s/it]"
          ]
        },
        {
          "output_type": "stream",
          "name": "stdout",
          "text": [
            "[+] Transcribing data/dataset/audios_test/audio_290.wav ...\n",
            "[✓] Transcribed:  The best day of my life currently is graduating from college because of a boy coming from Nigeria and the resources that had gone into my studies. It was really a day of joy for me that was finally over. I don't know how it would have been. I think probably I would have still been in Nigeria, still trying to figure out my life, probably. What makes this day special is the fact that a small boy from a small country goes out to a new location, to a new country, Canada, and strives to succeed. And he did. I feel so happy about it. Anytime I think about it, it brings so, so, so, so much joy to me.\n",
            "[+] Sending to LLM for evaluation...\n",
            "[✓] LLM Output:\n",
            "Score: 3.8\n",
            "Suggestions: Consider breaking up long sentences into shorter ones to improve clarity and flow. Additionally, use more precise language to convey your thoughts and emotions.\n",
            "Mistakes: tense (switching between past and present), pronoun (ambiguous reference to \"he\" and \"I\"), punctuation (missing articles, excessive use of commas), sentence structure (long, complex sentences).\n"
          ]
        },
        {
          "output_type": "stream",
          "name": "stderr",
          "text": [
            "\rEvaluating Test Set:  49%|████▊     | 95/195 [12:18<13:24,  8.05s/it]"
          ]
        },
        {
          "output_type": "stream",
          "name": "stdout",
          "text": [
            "[+] Transcribing data/dataset/audios_test/audio_300.wav ...\n",
            "[✓] Transcribed:  The day I visited a magic house and outside the pinnacle of joy and excitement in my life. From the moment I stepped into the vibrant whirl of amusement park, a sense of acceleration filled the air, promising endless adventure and unforgettable moments. As I explored the various themed zooms, each offering a unique array of rides and attractions, I felt like a child again, brimming with anticipation and wonder. Whether it was soaring through the skies on the excreting roller coaster or plunging into the depths of thrilling water slides, every slide offered an ad-libbed fuel thrill that left me breathless and exasperated. But it wasn't just the ride that made the day so special. It was the laughter and the same dream-share with friends and loved ones. Together we conquered our fears to read each other on created memories that will last a lifetime. As the day drew to the close, illuminated, white-winking lights of the park and the radio\n",
            "[+] Sending to LLM for evaluation...\n",
            "[✓] LLM Output:\n",
            "Score: 4.2\n",
            "Suggestions: Consider breaking up long sentences into shorter ones for better clarity and flow. Also, some words or phrases, such as \"vibrant whirl of amusement park\" or \"ad-libbed fuel thrill\", could be rephrased for more precise and concise language.\n",
            "Mistakes: Tense inconsistency (switching between past and present tense), some minor punctuation errors (e.g., missing articles, incorrect use of commas), and a few word choice errors (e.g., \"excreting\" instead of \"exhilarating\", \"exasperated\" instead of \"exhilarated\").\n"
          ]
        },
        {
          "output_type": "stream",
          "name": "stderr",
          "text": [
            "\rEvaluating Test Set:  49%|████▉     | 96/195 [12:27<13:49,  8.38s/it]"
          ]
        },
        {
          "output_type": "stream",
          "name": "stdout",
          "text": [
            "[+] Transcribing data/dataset/audios_test/audio_306.wav ...\n",
            "[✓] Transcribed:  I can say for sure that the best day of my life is the day that my daughter was born. My life would be very different if I didn't have this day because obviously that means that I wouldn't have her. It was the best day and even though it was obviously stressful and very painful, all I can remember is when she was born and she was placed in my arms. obviously is the day that I met her, the day that I became a mother and that's why he is so special. When I think about this day I only remember the positives even though he was also the most painful day of my life. But all I can think is that feeling that you get a feeling of warmth, a feeling of love as you see this small person being placed in your arms. That was definitely the best day of my life so far.\n",
            "[+] Sending to LLM for evaluation...\n",
            "[✓] LLM Output:\n",
            "Score: 4.0\n",
            "Suggestions: Consider breaking up long sentences into shorter ones for better clarity. Also, \"obviously\" is used twice, which can make the text seem repetitive. Consider varying sentence structure and using more precise language to convey meaning.\n",
            "Mistakes: tense consistency (switching between past and present tense), article usage (inconsistent use of \"the\" and \"a\"), pronoun reference (using \"he\" when referring to the daughter), and sentence structure (long, complex sentences that can be difficult to follow).\n"
          ]
        },
        {
          "output_type": "stream",
          "name": "stderr",
          "text": [
            "\rEvaluating Test Set:  50%|████▉     | 97/195 [12:36<13:49,  8.47s/it]"
          ]
        },
        {
          "output_type": "stream",
          "name": "stdout",
          "text": [
            "[+] Transcribing data/dataset/audios_test/audio_308.wav ...\n",
            "[✓] Transcribed:  The best day of my life was July 22nd, 2023. That day was my cousin's wedding and I was overseas in Europe and it truly changed my life. I met someone there who I instantly clicked with and we spent the whole night together dancing and I was laughing it in. Yeah, it was just really fun, such fond memories. And I think back to it, it was truly the happiest I've ever been. And seeing my cousin happy was cute. My whole family, my extended family, they had never met before at the wedding too. And for that one night, I was able to forget about all the worries and stress and just be in the moment and enjoy myself. And yeah, my life would, the past six months would be extremely different if I hadn't\n",
            "[+] Sending to LLM for evaluation...\n",
            "[✓] LLM Output:\n",
            "Score: 4.2\n",
            "Suggestions: Consider using a more formal tone and varying sentence structure to improve clarity and flow. Additionally, some sentences could be combined to reduce repetition and make the text more concise.\n",
            "Mistakes: \n",
            "\n",
            "* Tense inconsistency: The sentence switches between past and present tense, which can make it difficult to follow. For example, \"The best day of my life was July 22nd, 2023\" is in the past tense, but \"I was laughing it in\" is in the present tense.\n",
            "* Run-on sentence: The sentence \"I met someone there who I instantly clicked with and we spent the whole night together dancing and I was laughing it in\" is a run-on sentence and could be broken up for better clarity.\n",
            "* Informal language: The use of colloquial expressions like \"Yeah, it was just really fun\" and \"Yeah, my life would\" can make the text seem informal and less professional.\n",
            "* Lack of transitions: The text jumps abruptly from one idea to another without using transitional phrases or sentences to connect the ideas.\n"
          ]
        },
        {
          "output_type": "stream",
          "name": "stderr",
          "text": [
            "\rEvaluating Test Set:  50%|█████     | 98/195 [12:46<14:07,  8.74s/it]"
          ]
        },
        {
          "output_type": "stream",
          "name": "stdout",
          "text": [
            "[+] Transcribing data/dataset/audios_test/audio_320.wav ...\n",
            "[✓] Transcribed:  The best day of my life is when I met speech word Sadguru of Radha Swamishak Cheng Vyas. By looking at his personality and his loving and caring attitude, I got to understand I have unlocked the new potential of the life. Because the life is not just about greed, not about materialistic thing. It's about love, it's about emotions and it's about helping each other. See, if the human is not helping others, so who will help us? So that day, I unlocked a new potential and I was too happy that day and it was my best experience in my life. And I think that I love it the most and this will only be the best day of my life which I have achieved and I love it so much. Amen.\n",
            "[+] Sending to LLM for evaluation...\n",
            "[✓] LLM Output:\n",
            "Score: 2.5\n",
            "Suggestions: Break up long sentences into shorter ones, and use more precise vocabulary. For example, instead of \"I have unlocked the new potential of the life\", consider \"I discovered a new aspect of myself\".\n",
            "Mistakes: tense inconsistency, run-on sentences, lack of article usage, excessive use of vague phrases (\"it's about love, it's about emotions\", \"it's about helping each other\"), and repetitive language (\"it was my best experience in my life\", \"this will only be the best day of my life\").\n"
          ]
        },
        {
          "output_type": "stream",
          "name": "stderr",
          "text": [
            "\rEvaluating Test Set:  51%|█████     | 99/195 [12:55<14:24,  9.01s/it]"
          ]
        },
        {
          "output_type": "stream",
          "name": "stdout",
          "text": [
            "[+] Transcribing data/dataset/audios_test/audio_321.wav ...\n",
            "[✓] Transcribed:  The best day of my life was when I achieved the long-held goal of mine. It was a day filled with joy, pride and sense of accomplishment. I had worked incredibly hard to reach this milestone and finally achieving it was incredibly fulfilling. If I hadn't experienced this best day, my life would be different in many ways. I might not have gained the confidence and belief in myself that comes from achieving a challenging goal. It also taught me the value of perseverance and hard work which had since influenced many aspects of life. So my best day was when I got an award when I was in fifth class and I got the award in Olympics. It was my first time I received some medal in my school life, school lifetime, and it was an indescribable moment for me. uh it nearly uh was something that i wasn't uh sure expecting but the day was amazing\n",
            "[+] Sending to LLM for evaluation...\n",
            "[✓] LLM Output:\n",
            "Score: 3.8\n",
            "Suggestions: Consider rephrasing some of the sentences to improve clarity and coherence. For example, the sentence \"It was my first time I received some medal in my school life, school lifetime, and it was an indescribable moment for me\" could be rephrased to \"It was my first time receiving a medal in school, and it was an unforgettable moment for me.\"\n",
            "\n",
            "Mistakes:\n",
            "\n",
            "* Tense inconsistency: The sentence \"So my best day was when I got an award when I was in fifth class and I got the award in Olympics\" switches between past and present tense.\n",
            "* Article usage: The sentence \"It was my first time I received some medal in my school life, school lifetime, and it was an indescribable moment for me\" uses the word \"school\" twice, which is unnecessary.\n",
            "* Punctuation: The sentence \"uh it nearly uh was something that i wasn't uh sure expecting but the day was amazing\" lacks proper punctuation and is difficult to understand.\n",
            "* Word choice: The word \"lifetime\" is not necessary in the sentence \"It was my first time I received some medal in my school life, school lifetime, and it was an indescribable moment for me\".\n"
          ]
        },
        {
          "output_type": "stream",
          "name": "stderr",
          "text": [
            "\rEvaluating Test Set:  51%|█████▏    | 100/195 [13:06<15:00,  9.48s/it]"
          ]
        },
        {
          "output_type": "stream",
          "name": "stdout",
          "text": [
            "[+] Transcribing data/dataset/audios_test/audio_322.wav ...\n",
            "[✓] Transcribed:  I haven't experimented my best day so I really don't have any best days and that sort of thing I don't have any best days my life so there is nothing special and I say don't have any best days or I have experienced any best days in my life so I really don't think about things like that every day is a normal day every day is same as yesterday today is the same day as same day as yesterday and so I will move on so there is nothing like yesterday in my life\n",
            "[+] Sending to LLM for evaluation...\n",
            "[✓] LLM Output:\n",
            "Score: 1.8\n",
            "Suggestions: Break down the sentence into smaller, simpler sentences to improve clarity and coherence. Consider using transitional phrases to connect ideas between sentences.\n",
            "\n",
            "Mistakes:\n",
            "\n",
            "* Lack of subject-verb agreement (e.g., \"I haven't experimented my best day\" instead of \"I haven't had my best day\")\n",
            "* Inconsistent verb tense (e.g., switching between past and present tense)\n",
            "* Overuse of vague phrases (\"that sort of thing\", \"nothing special\", \"same day as same day as yesterday\")\n",
            "* Lack of punctuation (e.g., no commas to separate clauses or items in a list)\n",
            "* Repetitive language (\"don't have any best days\", \"every day is same as yesterday\")\n",
            "* Unclear or ambiguous sentence structure (e.g., \"so there is nothing like yesterday in my life\" is unclear in meaning)\n"
          ]
        },
        {
          "output_type": "stream",
          "name": "stderr",
          "text": [
            "\rEvaluating Test Set:  52%|█████▏    | 101/195 [13:13<13:44,  8.77s/it]"
          ]
        },
        {
          "output_type": "stream",
          "name": "stdout",
          "text": [
            "[+] Transcribing data/dataset/audios_test/audio_330.wav ...\n",
            "[✓] Transcribed:  The best day of my life never shies away from a holiday week or couple of days, if I can get it. Now, the one I can recall the most is holidaying in Paris, something I wanted to do from a very young age. It was the greatest day of my life because it was a day that my partner proposed by the Eiffel Tower. It was one of the most romantic times in my life. I reflect on this day with absolute joy and warmth as he was my childhood sweetheart and we've been together for a very long time before then. And I also always anticipated when the big question was going to be popped.\n",
            "[+] Sending to LLM for evaluation...\n",
            "[✓] LLM Output:\n",
            "Score: 4.2\n",
            "Suggestions: Consider varying sentence structures and lengths to improve overall flow and readability. Additionally, some sentences could be combined for better cohesion.\n",
            "\n",
            "Mistakes:\n",
            "\n",
            "* Tense inconsistency (e.g., \"The best day of my life never shies away...\" is in the present tense, while \"It was the greatest day of my life...\" is in the past tense)\n",
            "* Some sentences are quite long and could be broken up for better clarity (e.g., \"It was the greatest day of my life because it was a day that my partner proposed by the Eiffel Tower.\")\n",
            "* A few instances of repetitive language (e.g., \"It was\" and \"I reflect\" are used multiple times)\n"
          ]
        },
        {
          "output_type": "stream",
          "name": "stderr",
          "text": [
            "\rEvaluating Test Set:  52%|█████▏    | 102/195 [13:22<13:56,  9.00s/it]"
          ]
        },
        {
          "output_type": "stream",
          "name": "stdout",
          "text": [
            "[+] Transcribing data/dataset/audios_test/audio_34.wav ...\n",
            "[✓] Transcribed:  My goal in life is to become a certified internal auditor. I want to prove or show young people from the place that I come from that you are allowed to dream big and you can actually achieve your goals if you work hard or smart towards achieving those goals. So the challenges that I'm currently facing in achieving this goal is that I have not passed all of my modules for my honours degree, for my honours. I'm currently busy with my honours in internal auditing. I started it last year and because I'm working and studying at the same time, it's been hectic. but this year I'm determined to pass and eventually get\n",
            "[+] Sending to LLM for evaluation...\n",
            "[✓] LLM Output:\n",
            "Score: 3.8\n",
            "Suggestions: Consider breaking up long sentences into shorter ones for better clarity, and use transitions to connect ideas between sentences. Additionally, proofread for minor errors in punctuation and capitalization.\n",
            "Mistakes: tense (e.g., \"I'm currently facing\" vs. \"I'm currently busy\"), article (e.g., \"the place that I come from\" could be \"my hometown\"), and punctuation (e.g., missing articles and commas).\n"
          ]
        },
        {
          "output_type": "stream",
          "name": "stderr",
          "text": [
            "\rEvaluating Test Set:  53%|█████▎    | 103/195 [13:31<13:25,  8.75s/it]"
          ]
        },
        {
          "output_type": "stream",
          "name": "stdout",
          "text": [
            "[+] Transcribing data/dataset/audios_test/audio_348.wav ...\n",
            "[✓] Transcribed:  I actually believe that the best day of my life is every day and I think that today was also one of my best days because I think I had pav bhaji today that my mother made on my demand and I was able to complete my crap insta test without any problems and I was able to complete it with my own abilities and I I had my friend called over here, Shivam. He also helped me out in the test. He was giving his own test. And I had fun with him actually. And we played lots of games today. And today was my fun day because I actually encountered a very vicious animal that I don't like. That is lizard. But my friend Shivam actually helped me in getting that lizard out of my house. And that was very amazing. we were very amazed by it\n",
            "[+] Sending to LLM for evaluation...\n",
            "[✓] LLM Output:\n",
            "Score: 2.8\n",
            "Suggestions: Break up long sentences into shorter, simpler ones to improve clarity. Consider using transitional phrases to connect ideas between sentences.\n",
            "Mistakes: tense (mix of past and present), article (inconsistent use), punctuation (lack of commas and periods), pronoun (inconsistent use), verb agreement (subject-verb disagreement), sentence structure (long, complex sentences).\n"
          ]
        },
        {
          "output_type": "stream",
          "name": "stderr",
          "text": [
            "\rEvaluating Test Set:  53%|█████▎    | 104/195 [13:40<13:28,  8.89s/it]"
          ]
        },
        {
          "output_type": "stream",
          "name": "stdout",
          "text": [
            "[+] Transcribing data/dataset/audios_test/audio_360.wav ...\n",
            "[✓] Transcribed:  The playground at school is brightly coloured. It's made up of all the primary colours, red, yellow and blue. It's made out of a mixture of wood and metal and plastic. There are lots of different pieces of equipment attached to the playground like a slide, ladders, bridges, rock climbing walls, swings, seesaws. The most popular games or activities to do on the school playground is the swings. Like on the playground I can hear lots of children.\n",
            "[+] Sending to LLM for evaluation...\n",
            "[✓] LLM Output:\n",
            "Score: 4.0\n",
            "Suggestions: Consider using a more formal tone and avoiding contractions (e.g., \"It's\" instead of \"It is\") to improve the sentence's clarity and professionalism.\n",
            "Mistakes: None notable, but minor errors in verb tense consistency (e.g., \"is\" vs. \"made\") and sentence structure (e.g., using a comma after \"like\" in the last sentence).\n"
          ]
        },
        {
          "output_type": "stream",
          "name": "stderr",
          "text": [
            "\rEvaluating Test Set:  54%|█████▍    | 105/195 [13:47<12:29,  8.33s/it]"
          ]
        },
        {
          "output_type": "stream",
          "name": "stdout",
          "text": [
            "[+] Transcribing data/dataset/audios_test/audio_379.wav ...\n",
            "[✓] Transcribed:  Ucce enion cracks as i och os fall.' Alexa, kreis, kreis, kreis. Alexa, kreis, kreis, kreis. Takk for at du var med til å hente. Takk for at du var med til å hente. Takk for at du var med til hente Tis che syngamos a pliantua takespecies cae honne Zweて sal mosquitoesем, bē xāi Exale te meamon āsha A casa a Célidaود Ete, ete etoia, ete, etoia.\n",
            "[+] Sending to LLM for evaluation...\n",
            "[✓] LLM Output:\n",
            "Score: 1.0\n",
            "Suggestions: This sentence appears to be a mix of languages, including English, Norwegian, and possibly other languages. To improve the grammar, it would be best to translate the sentence into a single language and then evaluate its grammar. Additionally, the sentence is quite long and contains many errors, so it would be helpful to break it down into shorter sentences and focus on one language.\n",
            "Mistakes: Language mixing, unclear sentence structure, numerous grammatical errors (e.g. verb tense, subject-verb agreement, punctuation), and unknown vocabulary.\n"
          ]
        },
        {
          "output_type": "stream",
          "name": "stderr",
          "text": [
            "\rEvaluating Test Set:  54%|█████▍    | 106/195 [13:56<12:54,  8.70s/it]"
          ]
        },
        {
          "output_type": "stream",
          "name": "stdout",
          "text": [
            "[+] Transcribing data/dataset/audios_test/audio_386.wav ...\n",
            "[✓] Transcribed:  plis. C. Alus caulis om thisus sa- ruh, cum caulis Honorare Cal dakul Alare. Mar quod pragnum quod orgim. Toricuma bank. Quod virtu, Ansteros. Prima prima prima prima prima Thou shalt implore Theeria Thecerum dius poes im capta ad fug επistasomo. SKA TOI! SKA! MAGIC grandchildren! releases natural ECX lux curious T ل FAO Abyssal, abyssal, abyssal, abyssal.\n",
            "[+] Sending to LLM for evaluation...\n",
            "[✓] LLM Output:\n",
            "Score: 1.2\n",
            "Suggestions: The sentence appears to be written in a fictional language, but if you're trying to convey a message in English, it's essential to use proper grammar and vocabulary. Consider rewriting the sentence in a clear and concise manner.\n",
            "Mistakes: Language, punctuation, capitalization, syntax, and spelling errors are abundant in this sentence, making it difficult to understand.\n"
          ]
        },
        {
          "output_type": "stream",
          "name": "stderr",
          "text": [
            "\rEvaluating Test Set:  55%|█████▍    | 107/195 [14:08<14:09,  9.66s/it]"
          ]
        },
        {
          "output_type": "stream",
          "name": "stdout",
          "text": [
            "[+] Transcribing data/dataset/audios_test/audio_388.wav ...\n",
            "[✓] Transcribed:  Well, the playground can be quite hectic and a crazy place, especially when there's lots and lots of kids, especially in a school playground. Kids running around, kids climbing, sometimes kids are fighting. of noises you hear it's very loud kids are screaming sometimes you can't really hear yourself think um always having to make sure that you have your eyes on the kids especially on a school playground can be sometimes a hazard for students but also a fun place to be.\n",
            "[+] Sending to LLM for evaluation...\n",
            "[✓] LLM Output:\n",
            "Score: 3.8\n",
            "Suggestions: Consider breaking up long sentences into shorter ones for better clarity. Also, use more precise vocabulary to describe the sounds and atmosphere of the playground.\n",
            "\n",
            "Mistakes:\n",
            "\n",
            "* Lack of punctuation: The sentence is a run-on sentence with multiple independent clauses. It would be better to separate them with commas, periods, or conjunctions.\n",
            "* Fragmented sentence structure: Some sentences are incomplete or lack a main verb, making them hard to understand.\n",
            "* Informal tone: The sentence uses colloquial expressions like \"um\" and \"you know,\" which may not be suitable for formal writing.\n",
            "* Lack of cohesion: The sentence jumps between different ideas and descriptions without a clear connection between them.\n",
            "* Tense inconsistency: The sentence switches between past and present tense, which can be confusing.\n"
          ]
        },
        {
          "output_type": "stream",
          "name": "stderr",
          "text": [
            "\rEvaluating Test Set:  55%|█████▌    | 108/195 [14:12<11:36,  8.00s/it]"
          ]
        },
        {
          "output_type": "stream",
          "name": "stdout",
          "text": [
            "[+] Transcribing data/dataset/audios_test/audio_391.wav ...\n",
            "[✓] Transcribed:  Okay, so I'm imagining myself entering the playground from the school that I attended when I was a child. And what I see when I think about it is, first of all, the floor is like synthetic grass. and we have a lot of toys and just like the typical playground things, we have swings and all that sort of stuff and many others. And then I can simply hear the sounds of kids just running around, running after each other, screaming. I think the most the most typical game that I can think of is they're just like chasing each other and trying to catch each other\n",
            "[+] Sending to LLM for evaluation...\n",
            "[✓] LLM Output:\n",
            "Score: 3.5\n",
            "Suggestions: Consider breaking up long sentences into shorter ones, and use transitional phrases to connect ideas. Also, be mindful of sentence structure and vary the length and complexity of sentences to improve overall flow.\n",
            "Mistakes: \n",
            "\n",
            "* Run-on sentences (e.g., \"And what I see when I think about it is, first of all, the floor is like synthetic grass.\")\n",
            "* Lack of punctuation (e.g., \"and we have a lot of toys and just like the typical playground things, we have swings and all that sort of stuff and many others.\")\n",
            "* Informal language and colloquialisms (e.g., \"Okay, so\", \"just like\", \"and all that sort of stuff\")\n",
            "* Missing articles (e.g., \"the most typical game that I can think of is they're just like chasing each other and trying to catch each other\")\n",
            "* Lack of consistency in verb tense (e.g., switching between past and present tense)\n"
          ]
        },
        {
          "output_type": "stream",
          "name": "stderr",
          "text": [
            "\rEvaluating Test Set:  56%|█████▌    | 109/195 [14:20<11:19,  7.91s/it]"
          ]
        },
        {
          "output_type": "stream",
          "name": "stdout",
          "text": [
            "[+] Transcribing data/dataset/audios_test/audio_394.wav ...\n",
            "[✓] Transcribed:  I have a six-year-old nephew, so I relate to this question a lot because I often go pick him up from school. A school playground is chaos everywhere. There is high-pitched sounds everywhere. The kids are running around. It's full of games. Everyone is trying to play hide-and-seek or other games between children, especially. I think the school playground made me realize that I would never be a good kindergarten teacher because I wouldn't have enough patience to deal with the cows that I see every day. I do admire actually more teachers because they have to see that every day as well. The games that I see are ball games, football, or just like I said, hide and seek games. so they don't require any other tools to play. Kids are very intelligent.\n",
            "[+] Sending to LLM for evaluation...\n",
            "[✓] LLM Output:\n",
            "Score: 4.0\n",
            "Suggestions: Consider breaking up long sentences into shorter ones for better clarity. Also, some phrases, such as \"especially\" could be used more effectively to add emphasis.\n",
            "Mistakes: None notable, good use of articles, verb tenses, and sentence structure.\n"
          ]
        },
        {
          "output_type": "stream",
          "name": "stderr",
          "text": [
            "\rEvaluating Test Set:  56%|█████▋    | 110/195 [14:29<11:46,  8.32s/it]"
          ]
        },
        {
          "output_type": "stream",
          "name": "stdout",
          "text": [
            "[+] Transcribing data/dataset/audios_test/audio_4.wav ...\n",
            "[✓] Transcribed:  Today I was at the farmers market in Four Ways and it's basically a market for people who sell fresh produce and homemade goods, organic products and products that they have made with their own hands. You hear a lot of kids, you hear a lot of grown people, young people and you basically hear people having fun having conversations you hear delivery trucks going in and out people passing with cards and excuse me excuse me every few minutes in the morning it's quite crowded and it's a bit of a stampede because everybody wants the fresh food but as the hours pass, people start to become less.\n",
            "[+] Sending to LLM for evaluation...\n",
            "[✓] LLM Output:\n",
            "Score: 4.0\n",
            "Suggestions: Consider breaking up long sentences into shorter ones for better clarity and flow. Additionally, use more precise language to describe the atmosphere and sounds at the market.\n",
            "Mistakes: article (indefinite article \"a\" missing), punctuation (multiple instances of \"you hear\" could be replaced with a single sentence), verb tense consistency (switching between past and present tense).\n"
          ]
        },
        {
          "output_type": "stream",
          "name": "stderr",
          "text": [
            "\rEvaluating Test Set:  57%|█████▋    | 111/195 [14:37<11:28,  8.19s/it]"
          ]
        },
        {
          "output_type": "stream",
          "name": "stdout",
          "text": [
            "[+] Transcribing data/dataset/audios_test/audio_401.wav ...\n",
            "[✓] Transcribed:  The school playground is such a living and energetic place. We can hear the laughter and the chatter of the kids as the playtime, the sound of the basketball bouncing on the court, and the cheers of children playing on the swings and slides, its symphony of joyful, some sounds that create a vibrant atmosphere. Can I imagine that excitement? And our playground looks like a stadium. and there are some activities like particular games and others.\n",
            "[+] Sending to LLM for evaluation...\n",
            "[✓] LLM Output:\n",
            "Score: 2.8\n",
            "Suggestions: Consider rephrasing some of the sentences to improve clarity and coherence. For example, the sentence \"its symphony of joyful, some sounds that create a vibrant atmosphere\" could be rephrased to \"the symphony of joyful sounds creates a vibrant atmosphere.\" Additionally, consider using more precise language to describe the activities and games that take place in the playground.\n",
            "\n",
            "Mistakes:\n",
            "\n",
            "* Lack of article usage (e.g. \"the playtime\" instead of \"playtime\")\n",
            "* Incorrect use of commas (e.g. \"the sound of the basketball bouncing on the court, and the cheers of children playing on the swings and slides\" could be rephrased to \"the sound of the basketball bouncing on the court, and the cheers of children playing on the swings and slides,\")\n",
            "* Run-on sentence (e.g. \"and there are some activities like particular games and others\")\n",
            "* Lack of subject-verb agreement (e.g. \"Can I imagine that excitement?\" is a question, but the subject \"I\" is not explicitly stated)\n",
            "* Use of vague language (e.g. \"some sounds\" instead of \"specific sounds\")\n",
            "* Lack of cohesion between sentences (e.g. the sentence \"And our playground looks like a stadium\" seems disconnected from the rest of the paragraph)\n"
          ]
        },
        {
          "output_type": "stream",
          "name": "stderr",
          "text": [
            "\rEvaluating Test Set:  57%|█████▋    | 112/195 [14:45<11:13,  8.11s/it]"
          ]
        },
        {
          "output_type": "stream",
          "name": "stdout",
          "text": [
            "[+] Transcribing data/dataset/audios_test/audio_408.wav ...\n",
            "[✓] Transcribed:  The school playground is a wide area. It's close to a forest clearing and has various areas where you can play. One of the more popular areas among the students is a small basketball court. However, the students aren't playing a game of basketball. Instead, they are each playing by the hoops. this simplified version where they aim at the hoop and either score one two or three points depending on how far away they are and the first one to score 21 points win um you can also hear other students in the background playing various games as well as some teachers yelling for students to...\n",
            "[+] Sending to LLM for evaluation...\n",
            "[✓] LLM Output:\n",
            "Score: 4.0\n",
            "Suggestions: Consider breaking up long sentences into shorter ones for better clarity, and use a more formal tone in the last part of the sentence.\n",
            "Mistakes: tense (switch from present to past and back to present), punctuation (missing periods and commas), informal tone (use of \"um\" and colloquial language).\n"
          ]
        },
        {
          "output_type": "stream",
          "name": "stderr",
          "text": [
            "\rEvaluating Test Set:  58%|█████▊    | 113/195 [14:55<11:46,  8.62s/it]"
          ]
        },
        {
          "output_type": "stream",
          "name": "stdout",
          "text": [
            "[+] Transcribing data/dataset/audios_test/audio_422.wav ...\n",
            "[✓] Transcribed:  Sampai jumpa. Sampai jumpa A  upcoming I don know\n",
            "[+] Sending to LLM for evaluation...\n",
            "[✓] LLM Output:\n",
            "Score: 1.0\n",
            "Suggestions: Check the sentence structure and grammar rules. It seems like a mix of languages, and the sentence is not grammatically correct in English. Try rephrasing the sentence to make it clear and concise.\n",
            "Mistakes: Language mixing, lack of subject-verb agreement, unclear sentence structure.\n"
          ]
        },
        {
          "output_type": "stream",
          "name": "stderr",
          "text": [
            "\rEvaluating Test Set:  58%|█████▊    | 114/195 [15:06<12:31,  9.28s/it]"
          ]
        },
        {
          "output_type": "stream",
          "name": "stdout",
          "text": [
            "[+] Transcribing data/dataset/audios_test/audio_428.wav ...\n",
            "[✓] Transcribed:  This playground is pretty large because it's in the city and it's a pretty popular and well-known school. It's a private school, so they have a lot of money to work with. And they invested a lot in this playground. They have jungle gyms, a couple swing sets, a sandbox for all the kids to play in. but they also have a baseball field but it's usually played but the games usually played is kickball and t-ball they could also play dodgeball and that's what the kids were playing on that day they were playing with red and blue like dodgeballs and it was like sunny out\n",
            "[+] Sending to LLM for evaluation...\n",
            "[✓] LLM Output:\n",
            "Score: 3.5\n",
            "Suggestions: Consider breaking up long sentences into shorter ones for better clarity. Also, use more precise vocabulary to describe the playground features, such as \"play structures\" instead of \"jungle gyms\".\n",
            "Mistakes: \n",
            "\n",
            "* Tense inconsistency (present simple and present perfect used together)\n",
            "* Lack of articles (\"a\" and \"the\" omitted)\n",
            "* Run-on sentences (e.g., \"They have jungle gyms, a couple swing sets, a sandbox... but they also have a baseball field...\")\n",
            "* Informal language used in a formal context (e.g., \"like\" instead of \"as\")\n",
            "* Lack of punctuation (e.g., missing commas and periods)\n"
          ]
        },
        {
          "output_type": "stream",
          "name": "stderr",
          "text": [
            "\rEvaluating Test Set:  59%|█████▉    | 115/195 [15:13<11:44,  8.80s/it]"
          ]
        },
        {
          "output_type": "stream",
          "name": "stdout",
          "text": [
            "[+] Transcribing data/dataset/audios_test/audio_433.wav ...\n",
            "[✓] Transcribed:  of the swings. The scene of a school playground is just, you know, pretty normal. It has swings, slides, sandboxes, depending of, you know, the monkey bars, the things, the poles where you slide down, I'm not sure what they're called. You know, you hear a lot of noises of kids screaming, or playing and running and, you know, talking to each other.\n",
            "[+] Sending to LLM for evaluation...\n",
            "[✓] LLM Output:\n",
            "Score: 3.5\n",
            "Suggestions: Consider using more precise vocabulary and rephrasing some sentences to improve clarity and coherence. For example, instead of \"you know,\" try using more specific phrases or rephrasing the sentence to avoid filler words.\n",
            "Mistakes: \n",
            "\n",
            "* Lack of precise vocabulary (e.g., \"the things\" instead of \"the jungle gym\" or \"monkey bars\")\n",
            "* Informal tone and filler words (\"you know\")\n",
            "* Unclear sentence structure (e.g., \"It has swings, slides, sandboxes, depending of, you know, the monkey bars...\")\n",
            "* Missing articles (\"a\" or \"the\" before \"school playground\")\n",
            "* Unclear verb tenses (e.g., \"You hear a lot of noises... and, you know, talking to each other\" - is this in the past or present tense?)\n"
          ]
        },
        {
          "output_type": "stream",
          "name": "stderr",
          "text": [
            "\rEvaluating Test Set:  59%|█████▉    | 116/195 [15:19<10:19,  7.85s/it]"
          ]
        },
        {
          "output_type": "stream",
          "name": "stdout",
          "text": [
            "[+] Transcribing data/dataset/audios_test/audio_435.wav ...\n",
            "[✓] Transcribed:  This playground is located in the top of a little mountain. So when you look down, it's pretty green and flowers and you can see the bottom beautiful houses. The playground is painted in green and red. They have a wheel structure where kids are playing in, running around. They have monkey bars where they are jumping and trying to reach out one side to another. They also have a couple slides, one for little kids, one for bigger kids. They have a climb upside where they are for like medium kids where they can reach out to the bigger slide and can go down from there.\n",
            "[+] Sending to LLM for evaluation...\n",
            "[✓] LLM Output:\n",
            "Score: 4.0\n",
            "Suggestions: Consider varying sentence structure and length to improve overall flow and readability. Additionally, some sentences could be combined for better cohesion.\n",
            "Mistakes: \n",
            "\n",
            "* Tense inconsistency (present and past tense used throughout the sentence)\n",
            "* Lack of articles (a, the) in some places\n",
            "* Some sentences could be combined for better cohesion\n",
            "* Minor punctuation errors (e.g., missing commas)\n"
          ]
        },
        {
          "output_type": "stream",
          "name": "stderr",
          "text": [
            "\rEvaluating Test Set:  60%|██████    | 117/195 [15:28<10:45,  8.28s/it]"
          ]
        },
        {
          "output_type": "stream",
          "name": "stdout",
          "text": [
            "[+] Transcribing data/dataset/audios_test/audio_437.wav ...\n",
            "[✓] Transcribed:  my childhood life one of my memories memories playing games school playground is a hot summer wonderful infrastructure playing the cricket the mad pitches well and bowling purpose and batting purpose is a awesome playground totally reason 50 cents playground is suitable for for boys suitable for cricket and a girls for suitable for Coco we enjoyed a lot in our childhood school life we\n",
            "[+] Sending to LLM for evaluation...\n",
            "[✓] LLM Output:\n",
            "Score: 2.0\n",
            "Suggestions: Break the sentence into shorter, simpler sentences to improve clarity and readability. Consider using more precise vocabulary to describe the playground and the activities that took place there.\n",
            "\n",
            "Mistakes:\n",
            "\n",
            "* Lack of subject-verb agreement (e.g., \"playing games school playground\" instead of \"playing games at the school playground\")\n",
            "* Run-on sentences and lack of punctuation (e.g., \"playing the cricket the mad pitches well and bowling purpose and batting purpose\")\n",
            "* Inconsistent verb tense (e.g., switching between past and present tense)\n",
            "* Lack of articles and prepositions (e.g., \"a hot summer\" instead of \"a hot summer day\")\n",
            "* Redundant words and phrases (e.g., \"totally reason 50 cents playground\")\n",
            "* Inconsistent use of commas and conjunctions to separate clauses and phrases\n"
          ]
        },
        {
          "output_type": "stream",
          "name": "stderr",
          "text": [
            "\rEvaluating Test Set:  61%|██████    | 118/195 [15:37<10:46,  8.40s/it]"
          ]
        },
        {
          "output_type": "stream",
          "name": "stdout",
          "text": [
            "[+] Transcribing data/dataset/audios_test/audio_448.wav ...\n",
            "[✓] Transcribed:  The playground is relatively large, it's based on AstroTurf and then it's made of plastic equipment that's built around that and so there's a big slide at one end and then that leads into a platform which has a cargo net coming down it and then that goes across a suspension bridge and when you get to the other side of the suspension bridge there's I don't know what you call it, but a curly, whirly fireman pole that you can go down. You can step up onto another platform. And then there's a little tunnel that you can go through. You go through the tunnel, you come out and on the other side, you go down a step and then there's a smaller enclosed tunnel that goes down to the ground. The exciting thing about that is that there are microphones and they link and connect so that kids can talk about whatever they want, just yelling, general noise. I can hear cicadas, kids playing tip and running around and trying to\n",
            "[+] Sending to LLM for evaluation...\n",
            "[✓] LLM Output:\n",
            "Score: 3.5\n",
            "Suggestions: Consider breaking up the long sentence into shorter, simpler sentences to improve clarity and flow. Additionally, use more precise vocabulary to describe the playground equipment.\n",
            "Mistakes: Tense inconsistency (switching between past and present tense), lack of article usage (e.g., \"a big slide\" instead of \"the big slide\"), and excessive use of filler words (e.g., \"and then\", \"so\").\n"
          ]
        },
        {
          "output_type": "stream",
          "name": "stderr",
          "text": [
            "\rEvaluating Test Set:  61%|██████    | 119/195 [15:47<11:09,  8.81s/it]"
          ]
        },
        {
          "output_type": "stream",
          "name": "stdout",
          "text": [
            "[+] Transcribing data/dataset/audios_test/audio_48.wav ...\n",
            "[✓] Transcribed:  So I'm describing this market that sells flowers. It's a flowers market, always crowded. People from everywhere come to this market because they have very different and very beautiful flowers like tulips and roses and all with vibrant colors. So this market, it's a little bit difficult to walk in because they're always crowded. You hear people talking, laughing, buying, selling, and you sense, you feel the smell of all these beautiful flowers. they are very intense the perfume is very soft and amazing so you really want to buy\n",
            "[+] Sending to LLM for evaluation...\n",
            "[✓] LLM Output:\n",
            "Score: 4.2\n",
            "Suggestions: Consider using a more formal tone and varying sentence structure to improve clarity and readability. Additionally, some sentences could be combined to reduce repetition and improve flow.\n",
            "Mistakes: \n",
            "\n",
            "* Tense inconsistency (switching between present and past tense)\n",
            "* Lack of articles (\"a\" and \"the\") in some places\n",
            "* Run-on sentences (e.g., \"You hear people talking, laughing, buying, selling, and you sense, you feel the smell of all these beautiful flowers.\")\n",
            "* Overuse of adjectives (\"very different\", \"very beautiful\", \"vibrant\", \"soft\", \"amazing\")\n",
            "* Some sentences could be rephrased for better clarity and concision.\n"
          ]
        },
        {
          "output_type": "stream",
          "name": "stderr",
          "text": [
            "\rEvaluating Test Set:  62%|██████▏   | 120/195 [15:52<09:36,  7.69s/it]"
          ]
        },
        {
          "output_type": "stream",
          "name": "stdout",
          "text": [
            "[+] Transcribing data/dataset/audios_test/audio_487.wav ...\n",
            "[✓] Transcribed:  Terima kasih telah menonton Sampai jumpa Terima kasih telah menonton gekidete\n",
            "[+] Sending to LLM for evaluation...\n",
            "[✓] LLM Output:\n",
            "Score: 1.0\n",
            "Suggestions: The sentence appears to be a mix of Indonesian and English words. It would be helpful to choose one language and stick to it. If you want to express gratitude in English, you could say \"Thank you for watching\" instead of \"Terima kasih telah menonton\".\n",
            "Mistakes: Language mixing (Indonesian and English), lack of grammatical structure, incorrect word order.\n"
          ]
        },
        {
          "output_type": "stream",
          "name": "stderr",
          "text": [
            "\rEvaluating Test Set:  62%|██████▏   | 121/195 [16:28<20:02, 16.24s/it]"
          ]
        },
        {
          "output_type": "stream",
          "name": "stdout",
          "text": [
            "[+] Transcribing data/dataset/audios_test/audio_488.wav ...\n",
            "[✓] Transcribed:  Okay, my favorite place to visit so far in my life is Iceland. I've been there on a trip earlier this year and I just very much fell in love with it. It is a dream for everyone, anyone who likes to do outdoor stuff. Luckily I live in the UK so it's just a two hour flight from here so very easy to get there. And while I was there, what we did is I, me and my partner, we just traveled around on a camper van. So just like stayed in camps, slept in our van. And we just visited a lot of outdoor places. And it was just very, very, very beautiful. We did many hikes to volcanoes and thermal waters. We went on a winter and we got to the nautilus. But I've heard that if you go in spring, it's very beautiful. And it is a bit warmer. So I really want to go back to experience a different season.\n",
            "[+] Sending to LLM for evaluation...\n",
            "[✓] LLM Output:\n",
            "Score: 4.2\n",
            "Suggestions: Consider breaking up long sentences into shorter ones for better clarity. Also, some sentences could be rephrased for more concise and natural language.\n",
            "Mistakes: article (indefinite article \"a\" missing in \"a dream for everyone\"), pronoun (subject-verb agreement in \"what we did is I, me and my partner\"), punctuation (multiple commas in \"very, very, very beautiful\"), verb tense consistency (mix of past and present tense throughout the sentence).\n"
          ]
        },
        {
          "output_type": "stream",
          "name": "stderr",
          "text": [
            "\rEvaluating Test Set:  63%|██████▎   | 122/195 [16:54<23:19, 19.17s/it]"
          ]
        },
        {
          "output_type": "stream",
          "name": "stdout",
          "text": [
            "[+] Transcribing data/dataset/audios_test/audio_499.wav ...\n",
            "[✓] Transcribed:  My favourite place to visit is New York City. It's definitely not an easy place to get to. The trip is about 25 hours and customs are very hard to get through. Airport security at New York and especially you have to have a visa and they're very strict about who they let in I love New York pizza the one dollar New York pizza sizes it's just it's so cheap and so good and it just reminds me of New York again in summer, autumn and in winter.\n",
            "[+] Sending to LLM for evaluation...\n",
            "[✓] LLM Output:\n",
            "Score: 4.0\n",
            "Suggestions: Consider adding a transition word or phrase to connect the sentences more smoothly, such as \"Additionally,\" \"Furthermore,\" or \"In fact.\"\n",
            "Mistakes: None significant, but minor errors in punctuation (e.g., missing articles, inconsistent verb tenses).\n"
          ]
        },
        {
          "output_type": "stream",
          "name": "stderr",
          "text": [
            "\rEvaluating Test Set:  63%|██████▎   | 123/195 [17:24<26:57, 22.47s/it]"
          ]
        },
        {
          "output_type": "stream",
          "name": "stdout",
          "text": [
            "[+] Transcribing data/dataset/audios_test/audio_500.wav ...\n",
            "[✓] Transcribed:  My favorite place to visit would be Japan because well I'm really interested in their culture. I'm really into all Japan Japanese stuff like anime, their history, etc. So that's why that would be my favorite place to visit. Regarding the food that I would like to try, I would like to try the yoshas, I would like to try the cakes that they sell that have different flavors mainly for fruits. And the season that I would like to go is during the cherry seasons when all the trees have like those pink leaves so I think that's really cool.\n",
            "[+] Sending to LLM for evaluation...\n",
            "[✓] LLM Output:\n",
            "Score: 3.5\n",
            "Suggestions: Consider using more precise vocabulary and sentence structures to convey your thoughts more effectively. For example, instead of \"because well I'm really interested in their culture,\" you could say \"because I'm fascinated by their unique culture.\"\n",
            "Mistakes: tense (e.g., \"would be\" vs. \"is\"), article (e.g., \"their culture\" vs. \"a culture\"), and punctuation (e.g., missing commas between independent clauses).\n"
          ]
        },
        {
          "output_type": "stream",
          "name": "stderr",
          "text": [
            "\rEvaluating Test Set:  64%|██████▎   | 124/195 [17:53<28:58, 24.49s/it]"
          ]
        },
        {
          "output_type": "stream",
          "name": "stdout",
          "text": [
            "[+] Transcribing data/dataset/audios_test/audio_512.wav ...\n",
            "[!] Rate limit hit. Retrying in 2.5s... (Attempt 1/5)\n",
            "[+] Transcribing data/dataset/audios_test/audio_512.wav ...\n",
            "[!] Rate limit hit. Retrying in 3.4s... (Attempt 2/5)\n",
            "[+] Transcribing data/dataset/audios_test/audio_512.wav ...\n",
            "[✓] Transcribed:  folks. Thank you very much. Bye bye. Before I shut up the door, girl, The blood everywhere Is a tattoo And let us pray One two three four storm jaquate quest poem c sac doctaen disa, lega' la sua Lала ata Hem daka weiter Le упala considered Accipiaekit Leas\n",
            "[+] Sending to LLM for evaluation...\n",
            "[✓] LLM Output:\n",
            "Score: 1.2\n",
            "Suggestions: Break up the sentence into shorter, more coherent sentences. Use proper punctuation to separate ideas and clauses. Consider rephrasing or reorganizing the sentence structure to improve clarity.\n",
            "Mistakes:\n",
            "\n",
            "* Lack of proper sentence structure and punctuation\n",
            "* Unusual word order and sentence fragments\n",
            "* Unidentifiable words and phrases (e.g. \"jaquate quest poem\", \"Le упала\", \"Accipiaekit Leas\")\n",
            "* Inconsistent capitalization and spacing\n",
            "* Unusual use of punctuation marks (e.g. multiple exclamation marks)\n",
            "* Possible grammatical errors in sentence construction (e.g. subject-verb agreement)\n"
          ]
        },
        {
          "output_type": "stream",
          "name": "stderr",
          "text": [
            "\rEvaluating Test Set:  64%|██████▍   | 125/195 [19:08<46:01, 39.45s/it]"
          ]
        },
        {
          "output_type": "stream",
          "name": "stdout",
          "text": [
            "[+] Transcribing data/dataset/audios_test/audio_519.wav ...\n",
            "[!] Rate limit hit. Retrying in 3.0s... (Attempt 1/5)\n",
            "[+] Transcribing data/dataset/audios_test/audio_519.wav ...\n",
            "[!] Rate limit hit. Retrying in 3.6s... (Attempt 2/5)\n",
            "[+] Transcribing data/dataset/audios_test/audio_519.wav ...\n",
            "[!] Rate limit hit. Retrying in 4.4s... (Attempt 3/5)\n",
            "[+] Transcribing data/dataset/audios_test/audio_519.wav ...\n",
            "[!] Rate limit hit. Retrying in 9.7s... (Attempt 4/5)\n",
            "[+] Transcribing data/dataset/audios_test/audio_519.wav ...\n",
            "[✓] Transcribed:  오오오 오오오 Sampai jumpa. Terima kasih telah menonton. Terima kasih. Terima kasih telah menonton.\n",
            "[+] Sending to LLM for evaluation...\n",
            "[✓] LLM Output:\n",
            "Score: 1.0\n",
            "Suggestions: The sentence appears to be a mix of English and Indonesian phrases. To improve the grammar, consider rewriting the sentence in a single language or using a translation tool to ensure clarity and accuracy.\n",
            "Mistakes: Language, Punctuation, Tense (the sentence is a mix of languages and lacks proper punctuation and verb tense consistency)\n"
          ]
        },
        {
          "output_type": "stream",
          "name": "stderr",
          "text": [
            "\rEvaluating Test Set:  65%|██████▍   | 126/195 [20:34<1:01:26, 53.42s/it]"
          ]
        },
        {
          "output_type": "stream",
          "name": "stdout",
          "text": [
            "[+] Transcribing data/dataset/audios_test/audio_521.wav ...\n",
            "[!] Rate limit hit. Retrying in 2.6s... (Attempt 1/5)\n",
            "[+] Transcribing data/dataset/audios_test/audio_521.wav ...\n",
            "[!] Rate limit hit. Retrying in 3.7s... (Attempt 2/5)\n",
            "[+] Transcribing data/dataset/audios_test/audio_521.wav ...\n",
            "[!] Rate limit hit. Retrying in 4.0s... (Attempt 3/5)\n",
            "[+] Transcribing data/dataset/audios_test/audio_521.wav ...\n",
            "[!] Rate limit hit. Retrying in 9.4s... (Attempt 4/5)\n",
            "[+] Transcribing data/dataset/audios_test/audio_521.wav ...\n",
            "[!] Rate limit hit. Retrying in 16.3s... (Attempt 5/5)\n"
          ]
        },
        {
          "output_type": "stream",
          "name": "stderr",
          "text": [
            "\rEvaluating Test Set:  65%|██████▌   | 127/195 [21:12<55:25, 48.90s/it]  "
          ]
        },
        {
          "output_type": "stream",
          "name": "stdout",
          "text": [
            "[X] Error on audio_521.wav: Exceeded retries for data/dataset/audios_test/audio_521.wav\n",
            "[+] Transcribing data/dataset/audios_test/audio_525.wav ...\n",
            "[✓] Transcribed:  My favorite place to visit is my local cinema. It is close to my house so I don't take any vehicle there. I work there, I order a popcorn and whatever drink I need and then I sit and watch the movie playing in the cinema. The reason I love this place is because I get to be among the first set of people to watch a movie and not come to an online platform like Twitter or Reddit and see information about the movie when I haven't\n",
            "[+] Sending to LLM for evaluation...\n",
            "[✓] LLM Output:\n",
            "Score: 4.2\n",
            "Suggestions: Consider rephrasing some of the sentences to improve clarity and concision. For example, the sentence \"I work there, I order a popcorn and whatever drink I need and then I sit and watch the movie playing in the cinema\" could be simplified to \"I work at the cinema, where I order a snack and watch the movie.\"\n",
            "Mistakes: article (indefinite article \"a\" is missing before \"popcorn\"), verb tense (switching between past and present tense), sentence structure (some sentences are quite long and could be broken up for better readability).\n"
          ]
        },
        {
          "output_type": "stream",
          "name": "stderr",
          "text": [
            "\rEvaluating Test Set:  66%|██████▌   | 128/195 [21:16<39:39, 35.52s/it]"
          ]
        },
        {
          "output_type": "stream",
          "name": "stdout",
          "text": [
            "[+] Transcribing data/dataset/audios_test/audio_529.wav ...\n",
            "[✓] Transcribed:  A journey or travel experience that I guess is my favorite place to visit is Dominican Republic. You get there by plane. It takes about three and a half hours from the East Coast to get there. Um, local foods or dishes from this place that I love is definitely the rotisserie chicken, the barbecue chicken. Any sort of chicken from out there is amazing, actually. Um, the local beer is great as well. the best time to go I would say is in I\n",
            "[+] Sending to LLM for evaluation...\n",
            "[✓] LLM Output:\n",
            "Score: 3.2\n",
            "Suggestions: Consider rephrasing the sentence to improve clarity and coherence. For example, you could break it up into smaller sentences or use transitional phrases to connect your ideas.\n",
            "\n",
            "Mistakes:\n",
            "\n",
            "* Lack of subject-verb agreement (\"A journey or travel experience that I guess is my favorite place to visit\" - \"is\" should be \"are\")\n",
            "* Informal language and filler words (\"um\", \"I guess\")\n",
            "* Run-on sentence structure\n",
            "* Lack of punctuation (missing periods, commas, and quotation marks)\n",
            "* Unclear or incomplete thoughts (e.g., \"the best time to go I would say is in I\" - unclear what you mean by \"I\")\n"
          ]
        },
        {
          "output_type": "stream",
          "name": "stderr",
          "text": [
            "\rEvaluating Test Set:  66%|██████▌   | 129/195 [21:34<33:03, 30.06s/it]"
          ]
        },
        {
          "output_type": "stream",
          "name": "stdout",
          "text": [
            "[+] Transcribing data/dataset/audios_test/audio_540.wav ...\n",
            "[✓] Transcribed:  My favorite place to visit is the initiative beach tucked away from the hustle and bustle of the world pictures of and my favorite place to visit is like to go to Paris because I'm so excited from the time to go to Paris. visit Paris still now I didn't visit to that place but I'm like to visit to that place I won't explore this country and that city\n",
            "[+] Sending to LLM for evaluation...\n",
            "[✓] LLM Output:\n",
            "Score: 2.0\n",
            "Suggestions: Break the sentence into smaller, simpler sentences to improve clarity and coherence. Use transitions to connect ideas between sentences.\n",
            "\n",
            "Mistakes:\n",
            "\n",
            "* Lack of subject-verb agreement (\"pictures of and my favorite place to visit is\" should be \"pictures of my favorite place to visit are\")\n",
            "* Run-on sentences and lack of punctuation (\"My favorite place to visit is the initiative beach tucked away from the hustle and bustle of the world pictures of and my favorite place to visit is like to go to Paris...\")\n",
            "* Unclear sentence structure and word order (\"visit Paris still now I didn't visit to that place but I'm like to visit to that place\")\n",
            "* Lack of articles (\"I won't explore this country and that city\" should be \"I won't explore this country and those cities\")\n",
            "* Informal language and colloquialisms (\"I'm so excited from the time to go to Paris\" is an unusual phrase structure)\n"
          ]
        },
        {
          "output_type": "stream",
          "name": "stderr",
          "text": [
            "\rEvaluating Test Set:  67%|██████▋   | 130/195 [22:04<32:37, 30.11s/it]"
          ]
        },
        {
          "output_type": "stream",
          "name": "stdout",
          "text": [
            "[+] Transcribing data/dataset/audios_test/audio_541.wav ...\n",
            "[✓] Transcribed:  So, describing the favourite place of mine is Vrindavan. First of all we book our tickets and we go by a train to the Vrindavan. It is a very beautiful place and everyone must have to visit. Vrindavan is the place of Lord Krishna. about local foods or dishes so lassi which is made up of curd is very famous and i love so much other than that there is no particular time particular time or season uh holy is a special season and they play holy for a month So yeah, this is all about pentagonal.\n",
            "[+] Sending to LLM for evaluation...\n",
            "[✓] LLM Output:\n",
            "Score: 3.2\n",
            "Suggestions: Consider using a more formal tone and avoiding colloquial expressions like \"uh\" and \"so yeah\". Also, try to use more precise language, such as \"specifically\" instead of \"about\".\n",
            "Mistakes:\n",
            "\n",
            "* Lack of articles (\"the\") before nouns (\"place\", \"train\", \"Lord Krishna\")\n",
            "* Incorrect use of \"must have to\" (should be \"must\")\n",
            "* Informal tone and language\n",
            "* Lack of punctuation (e.g. missing commas and periods)\n",
            "* Unnecessary words (\"so\", \"yeah\")\n",
            "* Unclear sentence structure (e.g. \"about local foods or dishes so lassi...\")\n"
          ]
        },
        {
          "output_type": "stream",
          "name": "stderr",
          "text": [
            "\rEvaluating Test Set:  67%|██████▋   | 131/195 [22:34<31:57, 29.96s/it]"
          ]
        },
        {
          "output_type": "stream",
          "name": "stdout",
          "text": [
            "[+] Transcribing data/dataset/audios_test/audio_543.wav ...\n",
            "[✓] Transcribed:  My favorite place to visit is Tokyo and it is one of the best towns in Japan. Tokyo is such a huge city and there I would like to eat their local dishes like sushi, ramen, etc. etc and I would like to see Tokyo after the sunset which is very beautiful and I would like to see their local cars cars on the roads because in Tokyo there are there we can see so many racing cars on the roads and the nightlife of Tokyo is very exciting cars food everything everything is exciting\n",
            "[+] Sending to LLM for evaluation...\n",
            "[✓] LLM Output:\n",
            "Score: 2.0\n",
            "Suggestions: Consider breaking up long sentences into shorter ones, and use more precise vocabulary to describe the city and its attractions. For example, instead of \"it is one of the best towns in Japan\", you could say \"it is one of Japan's most vibrant cities\".\n",
            "Mistakes: article (indefinite article \"a\" is missing before \"huge city\"), pronoun (inconsistent use of \"there\" and \"their\"), punctuation (multiple consecutive \"etc\"s), verb tense (switching between past and present tense), repetition (repeating \"and\" and \"everything\" multiple times).\n"
          ]
        },
        {
          "output_type": "stream",
          "name": "stderr",
          "text": [
            "\rEvaluating Test Set:  68%|██████▊   | 132/195 [23:05<31:55, 30.41s/it]"
          ]
        },
        {
          "output_type": "stream",
          "name": "stdout",
          "text": [
            "[+] Transcribing data/dataset/audios_test/audio_545.wav ...\n",
            "[✓] Transcribed:  Each of us have a favorite location where we can find fulfillment and happiness, peace, everything. I also have a favorite place where I enjoy spending the majority of my time. That's nothing but my house. My house is where I like to be. I enjoy spending my time with my family members. It has a lovely and a tranquil environment. My house is in the center of the city and I live with my mother, father, a sister and my grandparents. We each have our room. There isn't a place more significant than my house in my opinion. I enjoy being at home and my mother cooks very well and I love all her dishes and we always enjoy the summer.\n",
            "[+] Sending to LLM for evaluation...\n",
            "[✓] LLM Output:\n",
            "Score: 3.5\n",
            "Suggestions: Consider breaking up long sentences into shorter ones for better clarity and readability. Also, use more precise vocabulary to convey your thoughts, such as \"serenity\" instead of \"tranquil environment\".\n",
            "Mistakes: \n",
            "\n",
            "* Lack of subject-verb agreement in \"Each of us have a favorite location\" (should be \"Each of us has a favorite location\")\n",
            "* Run-on sentences, such as \"That's nothing but my house. My house is where I like to be.\"\n",
            "* Repetitive phrases, such as \"I enjoy spending my time\" and \"I enjoy being at home\"\n",
            "* Overuse of simple sentences, which can make the text feel a bit flat\n",
            "* Some sentences, such as \"We each have our room\" could be rephrased for better clarity.\n"
          ]
        },
        {
          "output_type": "stream",
          "name": "stderr",
          "text": [
            "\rEvaluating Test Set:  68%|██████▊   | 133/195 [23:35<31:15, 30.24s/it]"
          ]
        },
        {
          "output_type": "stream",
          "name": "stdout",
          "text": [
            "[+] Transcribing data/dataset/audios_test/audio_546.wav ...\n",
            "[✓] Transcribed:  The journey to Switzerland is an adventure in itself, whether you arrive by plane, train or car. If you fly into Zurich or Genoa, you will be greeted by stunning views of the Swiss Alps as you plane descent towards the airport. From there, you can take a scenic train ride to your destination, passing through picturesque villages and rolling countryside. Alternatively, driving through Switzerland offers the flexibility to stop at charming towns along the way and take in the breathtaking landscape at your own pace. Whichever mode of transportation you choose, the journey to Switzerland is filled with anticipation and excitement as you anticipate the beauty that of it Swiss cuisine is a\n",
            "[+] Sending to LLM for evaluation...\n",
            "[✓] LLM Output:\n",
            "Score: 2.5\n",
            "Suggestions: Consider breaking up long sentences into shorter, simpler ones, and use more precise vocabulary to convey your ideas. Additionally, be mindful of sentence structure and punctuation to improve clarity and flow.\n",
            "Mistakes: tense (switching between present and past tense), article (inconsistent use of \"the\" and \"a\"), punctuation (inconsistent use of commas and periods), and sentence structure (long, complex sentences).\n"
          ]
        },
        {
          "output_type": "stream",
          "name": "stderr",
          "text": [
            "\rEvaluating Test Set:  69%|██████▊   | 134/195 [24:06<30:56, 30.44s/it]"
          ]
        },
        {
          "output_type": "stream",
          "name": "stdout",
          "text": [
            "[+] Transcribing data/dataset/audios_test/audio_550.wav ...\n",
            "[✓] Transcribed:  I have one goal to which is to have my own business. This year I will finally take the first step and rent the location and started working on the material that I will be using so I can fix the place. I have, again, challenges will be to learn more about the way this is the business is handled. I have a little bit of experience working at a location like that, but now it's gonna be my own business. So I have to learn accounting, like management about of all the items that I'll be selling.\n",
            "[+] Sending to LLM for evaluation...\n",
            "[✓] LLM Output:\n",
            "Score: 2.8\n",
            "Suggestions: Break the sentence into shorter, simpler sentences to improve clarity and readability. Consider using transitional phrases to connect ideas between sentences.\n",
            "\n",
            "Mistakes:\n",
            "\n",
            "* Lack of subject-verb agreement (e.g., \"I have one goal to which is\" instead of \"My goal is to have my own business\")\n",
            "* Run-on sentences (e.g., \"This year I will finally take the first step and rent the location and started working on the material that I will be using...\")\n",
            "* Inconsistent verb tense (e.g., \"I will finally take\" vs. \"I have to learn\")\n",
            "* Missing articles (e.g., \"about of all the items that I'll be selling\" instead of \"about all the items that I'll be selling\")\n",
            "* Unnecessary words (e.g., \"again\" in \"I have, again, challenges will be...\")\n",
            "* Informal language (e.g., \"gonna\" instead of \"going to\")\n"
          ]
        },
        {
          "output_type": "stream",
          "name": "stderr",
          "text": [
            "\rEvaluating Test Set:  69%|██████▉   | 135/195 [24:35<30:04, 30.08s/it]"
          ]
        },
        {
          "output_type": "stream",
          "name": "stdout",
          "text": [
            "[+] Transcribing data/dataset/audios_test/audio_554.wav ...\n",
            "[!] Rate limit hit. Retrying in 2.2s... (Attempt 1/5)\n",
            "[+] Transcribing data/dataset/audios_test/audio_554.wav ...\n",
            "[!] Rate limit hit. Retrying in 3.0s... (Attempt 2/5)\n",
            "[+] Transcribing data/dataset/audios_test/audio_554.wav ...\n",
            "[!] Rate limit hit. Retrying in 4.3s... (Attempt 3/5)\n",
            "[+] Transcribing data/dataset/audios_test/audio_554.wav ...\n",
            "[!] Rate limit hit. Retrying in 8.3s... (Attempt 4/5)\n",
            "[+] Transcribing data/dataset/audios_test/audio_554.wav ...\n",
            "[!] Rate limit hit. Retrying in 17.4s... (Attempt 5/5)\n"
          ]
        },
        {
          "output_type": "stream",
          "name": "stderr",
          "text": [
            "\rEvaluating Test Set:  70%|██████▉   | 136/195 [25:13<31:47, 32.33s/it]"
          ]
        },
        {
          "output_type": "stream",
          "name": "stdout",
          "text": [
            "[X] Error on audio_554.wav: Exceeded retries for data/dataset/audios_test/audio_554.wav\n",
            "[+] Transcribing data/dataset/audios_test/audio_556.wav ...\n",
            "[✓] Transcribed:  An important goal in my life is to learn how to grow fruits and vegetables in my garden, in my own garden. This goal is important to me because I want to learn how to be self-sufficient and provide my own fresh fruits and vegetables to eat and to live on. I face many challenges in achieving this goal including the harsh climate that I live in and also pests including my pet dog. My pet dog has been known to pull off perfectly ripe vegetables and fruit and eat them all for herself So that is very frustrating, but maybe I need to invest in some fencing.\n",
            "[+] Sending to LLM for evaluation...\n",
            "[✓] LLM Output:\n",
            "Score: 4.0\n",
            "Suggestions: Consider using a more formal tone and varying sentence structures to improve readability. Additionally, some sentences could be combined for better flow.\n",
            "\n",
            "Mistakes:\n",
            "\n",
            "* None notable in terms of grammar, but some sentences could be rephrased for better clarity and concision.\n",
            "* Some sentences are quite long and could be broken up for easier reading.\n",
            "* The sentence \"My pet dog has been known to pull off perfectly ripe vegetables and fruit and eat them all for herself\" is a bit informal and could be rephrased for a more professional tone.\n"
          ]
        },
        {
          "output_type": "stream",
          "name": "stderr",
          "text": [
            "\rEvaluating Test Set:  70%|███████   | 137/195 [25:18<23:20, 24.14s/it]"
          ]
        },
        {
          "output_type": "stream",
          "name": "stdout",
          "text": [
            "[+] Transcribing data/dataset/audios_test/audio_564.wav ...\n",
            "[✓] Transcribed:  This is probably going to sound cliche or scripted but my goal in life is to make a positive impact on the world by using my skills, my knowledge, my passion to help others and contribute to a greater good. It's pretty basic, there's not really much more to say. I'm passionate about my skills and what I do. And I love that it also works towards social, environmental and economic challenges and helping better them, improve them. I want to use myself and my career as a vehicle for positive change. And that's pretty much where I'm headed right now mentally in regards to what I want to achieve as a person. like on my headstone what would it say strived towards my goal no matter what obstacles I faced and that was to help others and to help\n",
            "[+] Sending to LLM for evaluation...\n",
            "[✓] LLM Output:\n",
            "Score: 4.2\n",
            "Suggestions: Consider breaking up long sentences into shorter ones for better clarity. Also, some phrases, such as \"And I love that it also works towards social, environmental and economic challenges and helping better them, improve them\" could be rephrased for more concise and natural language.\n",
            "Mistakes: Tense consistency (switching between present and future tense), some repetitive language, and minor punctuation errors (e.g., missing articles, incorrect comma usage).\n"
          ]
        },
        {
          "output_type": "stream",
          "name": "stderr",
          "text": [
            "\rEvaluating Test Set:  71%|███████   | 138/195 [25:35<21:04, 22.18s/it]"
          ]
        },
        {
          "output_type": "stream",
          "name": "stdout",
          "text": [
            "[+] Transcribing data/dataset/audios_test/audio_569.wav ...\n",
            "[!] Rate limit hit. Retrying in 2.0s... (Attempt 1/5)\n",
            "[+] Transcribing data/dataset/audios_test/audio_569.wav ...\n",
            "[!] Rate limit hit. Retrying in 2.5s... (Attempt 2/5)\n",
            "[+] Transcribing data/dataset/audios_test/audio_569.wav ...\n",
            "[!] Rate limit hit. Retrying in 4.3s... (Attempt 3/5)\n",
            "[+] Transcribing data/dataset/audios_test/audio_569.wav ...\n",
            "[!] Rate limit hit. Retrying in 9.7s... (Attempt 4/5)\n",
            "[+] Transcribing data/dataset/audios_test/audio_569.wav ...\n",
            "[!] Rate limit hit. Retrying in 17.1s... (Attempt 5/5)\n"
          ]
        },
        {
          "output_type": "stream",
          "name": "stderr",
          "text": [
            "\rEvaluating Test Set:  71%|███████▏  | 139/195 [26:14<25:15, 27.07s/it]"
          ]
        },
        {
          "output_type": "stream",
          "name": "stdout",
          "text": [
            "[X] Error on audio_569.wav: Exceeded retries for data/dataset/audios_test/audio_569.wav\n",
            "[+] Transcribing data/dataset/audios_test/audio_572.wav ...\n",
            "[✓] Transcribed:  Success and happiness is very important to me and this is my goal in life to be successful and to be happy in the near future. The challenges could be the people around you. People, especially our friends and relatives or families may affect the way we achieve our goals. But the important thing there is for us to stay motivated. have your mind set to achieve success and happiness and be the person that you can be so long as you always do your best and strive harder to be happy in life and to be successful in life then this goal will not be a hurdle or this goal will not be difficult to achieve and I think that's the way how to achieve and keep motivated to achieve your goal.\n",
            "[+] Sending to LLM for evaluation...\n",
            "[✓] LLM Output:\n",
            "Score: 2.8\n",
            "Suggestions: Break the sentence into shorter, simpler sentences to improve clarity and readability. Consider using transitional phrases to connect ideas between sentences.\n",
            "\n",
            "Mistakes:\n",
            "\n",
            "* Lack of subject-verb agreement in some sentences (e.g., \"The challenges could be the people around you. People, especially...\")\n",
            "* Inconsistent verb tenses (e.g., \"is\" vs. \"be\")\n",
            "* Overuse of vague phrases (\"the important thing\", \"so long as\", \"then this goal will not be a hurdle\")\n",
            "* Unclear sentence structure and word order (e.g., \"have your mind set to achieve success and happiness and be the person that you can be\")\n",
            "* Repetition of similar ideas and phrases throughout the sentence (e.g., \"to be happy in life\", \"to be successful in life\")\n"
          ]
        },
        {
          "output_type": "stream",
          "name": "stderr",
          "text": [
            "\rEvaluating Test Set:  72%|███████▏  | 140/195 [26:18<18:32, 20.23s/it]"
          ]
        },
        {
          "output_type": "stream",
          "name": "stdout",
          "text": [
            "[+] Transcribing data/dataset/audios_test/audio_580.wav ...\n",
            "[✓] Transcribed:  The main goal that I have right now in life is a career-based one. It's to advance to the next logical position within my company. I think it's an important goal because it gives me something to work towards, something to shoot for, something that keeps me motivated, keeps me progressing towards becoming the person who I want to be. it helps to open the door to other aspects of life that will help me achieve the complete lifestyle that I'm looking for I think that it helps to serve as\n",
            "[+] Sending to LLM for evaluation...\n",
            "[✓] LLM Output:\n",
            "Score: 4.2\n",
            "Suggestions: Consider breaking up the long sentence into shorter, simpler sentences to improve clarity and flow. Additionally, some phrases, such as \"something to work towards, something to shoot for, something that keeps me motivated\" could be condensed into a single sentence for better concision.\n",
            "\n",
            "Mistakes: article (indefinite article \"a\" is not necessary before \"career-based one\"), punctuation (missing period at the end of the sentence), and sentence structure (long, complex sentence with multiple clauses).\n"
          ]
        },
        {
          "output_type": "stream",
          "name": "stderr",
          "text": [
            "\rEvaluating Test Set:  72%|███████▏  | 141/195 [26:36<17:40, 19.64s/it]"
          ]
        },
        {
          "output_type": "stream",
          "name": "stdout",
          "text": [
            "[+] Transcribing data/dataset/audios_test/audio_599.wav ...\n",
            "[✓] Transcribed:  Okay, well my goal in life I think that would be to have a prosperous life, also to grant financial safety to my family and all the loved ones around me, also to achieve success in my workplace, in my industry, to be recognized as a good employee and that always provides excellence in his work. And what keeps me motivated about this is that I'm about to get married soon. So I think I have a bright future with my wife.\n",
            "[+] Sending to LLM for evaluation...\n",
            "[✓] LLM Output:\n",
            "Score: 3.5\n",
            "Suggestions: Consider rephrasing some of the sentences to improve clarity and concision. For example, the sentence \"also to achieve success in my workplace, in my industry, to be recognized as a good employee and that always provides excellence in his work\" could be shortened to \"to achieve success in my workplace and be recognized as a good employee.\"\n",
            "Mistakes: Tense inconsistency (switching between present and future tense), pronoun ambiguity (using \"his\" instead of \"my\"), and minor punctuation errors (e.g., missing articles, incorrect use of commas).\n"
          ]
        },
        {
          "output_type": "stream",
          "name": "stderr",
          "text": [
            "\rEvaluating Test Set:  73%|███████▎  | 142/195 [27:07<20:10, 22.83s/it]"
          ]
        },
        {
          "output_type": "stream",
          "name": "stdout",
          "text": [
            "[+] Transcribing data/dataset/audios_test/audio_604.wav ...\n",
            "[✓] Transcribed:  So something that's always a goal for me is traveling. I love traveling. I do a lot of solo travel. Currently, my next travel goal is to go to Tanzania and climb Mount Kilimanjaro and also experience a safari. um I quite I'm quite a shy person and especially in front of strangers so traveling always makes me challenge myself forcing me to go out of my comfort zone meeting new people experience new cultures so that really makes me um become a better person um so I'm always looking forward to my next travel and that's why I can find my motivation to work and like do everything in my everyday life always looking forward to that next travel\n",
            "[+] Sending to LLM for evaluation...\n",
            "[✓] LLM Output:\n",
            "Score: 3.5\n",
            "Suggestions: Consider breaking up long sentences into shorter ones for better clarity and flow. Also, try to use more precise language and avoid filler words like \"um\" and \"so\".\n",
            "Mistakes: Tense inconsistency, article errors, and some awkward phrasing.\n"
          ]
        },
        {
          "output_type": "stream",
          "name": "stderr",
          "text": [
            "\rEvaluating Test Set:  73%|███████▎  | 143/195 [27:37<21:43, 25.07s/it]"
          ]
        },
        {
          "output_type": "stream",
          "name": "stdout",
          "text": [
            "[+] Transcribing data/dataset/audios_test/audio_633.wav ...\n",
            "[✓] Transcribed:  I would say my goal in life is really just to provide for my family. The biggest challenge I had for that was last year when I lost my job, and it was really difficult to provide. But thankfully I found one a few months later, and it's been one of the best jobs I've ever had. And it's really easy to stay motivated and focused when it's my family and I care about them deeply. I just want to make sure that they have everything that they can ever need, food, clothes, anything that they want to do for fun. In the meantime, it's something that's always been very important for me. And even after growing in our family even more, it's just become even more important. So that's really just the biggest goal that I have in my life that I won't ever really lose sight on. And it's an easy path to take because it's just something that comes naturally. Thank you.\n",
            "[+] Sending to LLM for evaluation...\n",
            "[✓] LLM Output:\n",
            "Score: 4.2\n",
            "Suggestions: Consider breaking up the long sentence into shorter, simpler sentences for better clarity and flow. Additionally, some phrases, such as \"it's been one of the best jobs I've ever had\" and \"it's just something that comes naturally\" could be rephrased for more concise language.\n",
            "Mistakes: None notable, but some sentences could be rephrased for better clarity and flow.\n"
          ]
        },
        {
          "output_type": "stream",
          "name": "stderr",
          "text": [
            "\rEvaluating Test Set:  74%|███████▍  | 144/195 [28:07<22:42, 26.72s/it]"
          ]
        },
        {
          "output_type": "stream",
          "name": "stdout",
          "text": [
            "[+] Transcribing data/dataset/audios_test/audio_641.wav ...\n",
            "[✓] Transcribed:  So describing about my goal in life, my goal is very important as I want to become a multi-billionaire because I am belonging to the middle class family. The challenges that I face to achieve this goal is people are jealous about someone's growth and the motivation factor by which I can focus is I am self-motivated and determined to my path to achieve my goal. My goal is to make proud my family and buy a house which looks like a which is a palace and many sports cars yeah\n",
            "[+] Sending to LLM for evaluation...\n",
            "[✓] LLM Output:\n",
            "Score: 2.0\n",
            "Suggestions: Consider breaking up long sentences into shorter ones, and use transitional phrases to connect ideas. Also, be more specific and concise in your descriptions.\n",
            "Mistakes: tense (mix of present and future), article (inconsistent use), punctuation (lack of commas and periods), pronoun (inconsistent use), word choice (vague terms like \"multi-billionaire\" and \"palace\"), and sentence structure (long, rambling sentences).\n"
          ]
        },
        {
          "output_type": "stream",
          "name": "stderr",
          "text": [
            "\rEvaluating Test Set:  74%|███████▍  | 145/195 [28:37<22:55, 27.50s/it]"
          ]
        },
        {
          "output_type": "stream",
          "name": "stdout",
          "text": [
            "[+] Transcribing data/dataset/audios_test/audio_644.wav ...\n",
            "[✓] Transcribed:  My main goal in life is to serve my family. My family is everything to me. I would like to provide a very good life to them. The main challenge I will face to serve my family is my studies and hard work and money. I need to focus on my studies now to serve my family better in the future. The family motivates me for achieving my goal, especially my mom.\n",
            "[+] Sending to LLM for evaluation...\n",
            "[✓] LLM Output:\n",
            "Score: 4.0\n",
            "Suggestions: Consider using more precise vocabulary, such as \"support\" instead of \"serve\", and \"fulfill\" instead of \"provide\". Also, consider breaking up long sentences into shorter ones for better clarity.\n",
            "Mistakes: article (indefinite article \"a\" is missing in \"a very good life\"), tense (mixed use of present and future tense), punctuation (long sentence with multiple clauses, could be improved with commas or semicolons).\n"
          ]
        },
        {
          "output_type": "stream",
          "name": "stderr",
          "text": [
            "\rEvaluating Test Set:  75%|███████▍  | 146/195 [28:59<21:06, 25.85s/it]"
          ]
        },
        {
          "output_type": "stream",
          "name": "stdout",
          "text": [
            "[+] Transcribing data/dataset/audios_test/audio_656.wav ...\n",
            "[✓] Transcribed:  In a crowded market, the people sell the vegetables and fruits according to their prices and the people who came to buy will buy the vegetables and fruits according to their convenability of the cost. If they don't like the cost of one person in the market, they'll prefer other person who is selling same kind of fruits or vegetables. The sounds we hear in the market are like the sound of the sellers, the cost of the vegetables, which is the cheapest cost and the best quality food are available here. They sound like that and the people are very crowded in the market. the scene changes throughout the day from morning to evening like\n",
            "[+] Sending to LLM for evaluation...\n",
            "[✓] LLM Output:\n",
            "Score: 3.5\n",
            "Suggestions: Consider breaking up long sentences into shorter ones for better clarity. Also, use more precise vocabulary to describe the sounds and scene in the market.\n",
            "Mistakes: tense (present simple and present continuous), article (indefinite article \"a\" missing), punctuation (lack of commas to separate clauses), and word choice (convenability instead of affordability).\n"
          ]
        },
        {
          "output_type": "stream",
          "name": "stderr",
          "text": [
            "\rEvaluating Test Set:  75%|███████▌  | 147/195 [29:29<21:46, 27.22s/it]"
          ]
        },
        {
          "output_type": "stream",
          "name": "stdout",
          "text": [
            "[+] Transcribing data/dataset/audios_test/audio_66.wav ...\n",
            "[✓] Transcribed:  and usually in a market there will be a lot of people selling and buying the vegetables mainly the vegetables and coming to the sounds will hear a lot of sounds like the seller selling their vegetables telling the about their prices for under and the quantity for which quantity for which the price is this much and and and the scenes in the crowded market from morning to evening will be the the sellers keeps on go keeps on selling their items and the buying people will buy from from morning to evening and all and there will be a huge sounds in the market\n",
            "[+] Sending to LLM for evaluation...\n",
            "[✓] LLM Output:\n",
            "Score: 2.0\n",
            "Suggestions: Break up long sentences into shorter ones, and consider rephrasing some of the repetitive phrases. For example, \"and and and\" can be condensed into a single conjunction.\n",
            "Mistakes: tense (mix of present and past tense), article (inconsistent use of \"the\"), punctuation (lack of commas and periods), and word repetition (e.g., \"and\", \"the\", \"will\").\n"
          ]
        },
        {
          "output_type": "stream",
          "name": "stderr",
          "text": [
            "\rEvaluating Test Set:  76%|███████▌  | 148/195 [30:01<22:16, 28.44s/it]"
          ]
        },
        {
          "output_type": "stream",
          "name": "stdout",
          "text": [
            "[+] Transcribing data/dataset/audios_test/audio_662.wav ...\n",
            "[✓] Transcribed:  A marketplace is a very busy place where people go to buy articles of their needs. It is a center of attraction for both buyers and sellers. There is no other place in the area having so much brisk business at the market. I always find a big crowd there. There are several shops all decorated beautifully. Big shops looks more attractive. There will be always the things that are more than buying the people etc or selling the people. We can compare more. There will be more items compared to other places. The market is always crowded with lots of animals like horses, donkeys and camels. they came loaded with produce of the season such as cotton, grain, oilseeds, vegetable\n",
            "[+] Sending to LLM for evaluation...\n",
            "[✓] LLM Output:\n",
            "Score: 2.8\n",
            "Suggestions: Consider rephrasing some of the sentences for better clarity and concision. For example, the sentence \"There will be always the things that are more than buying the people etc or selling the people\" is unclear and could be rephrased to improve its meaning.\n",
            "\n",
            "Mistakes:\n",
            "\n",
            "* Tense inconsistency (e.g., \"A marketplace is a very busy place\" vs. \"There will be always the things\")\n",
            "* Article errors (e.g., \"Big shops looks more attractive\" should be \"Big shops look more attractive\")\n",
            "* Punctuation errors (e.g., missing articles, incorrect use of commas)\n",
            "* Word choice errors (e.g., \"brisk business at the market\" could be rephrased for better clarity)\n",
            "* Run-on sentences (e.g., \"There are several shops all decorated beautifully. Big shops looks more attractive.\")\n",
            "* Lack of parallel structure (e.g., \"There will be more items compared to other places. The market is always crowded with lots of animals...\")\n",
            "* Incorrect use of \"they\" (referring to animals) instead of \"camels\"\n"
          ]
        },
        {
          "output_type": "stream",
          "name": "stderr",
          "text": [
            "\rEvaluating Test Set:  76%|███████▋  | 149/195 [30:30<21:57, 28.63s/it]"
          ]
        },
        {
          "output_type": "stream",
          "name": "stdout",
          "text": [
            "[+] Transcribing data/dataset/audios_test/audio_665.wav ...\n",
            "[✓] Transcribed:  Today I am going to speak about the topic named crowded market. The market is always crowded with Cots, Horses, Donkeys and Camels and also Cows. They came loaded with the produce of the season such as vegetables and cotton and fishes, oil, seed, vegetables etc. Whenever I visited the product market I find the shouting loudly to sell their goods they sell their goods by shouting it loudly they try to attract the people by several names and they say and they also speak about the type of the item they are selling and and the price of that item also and how much amount it cost for kg or for liter also.\n",
            "[+] Sending to LLM for evaluation...\n",
            "[✓] LLM Output:\n",
            "Score: 2.8\n",
            "Suggestions: Break up long sentences into shorter ones, use a more formal tone, and consider adding transitions to connect ideas between sentences.\n",
            "\n",
            "Mistakes:\n",
            "\n",
            "* Tense inconsistency (present and past tense used together)\n",
            "* Lack of articles (\"a\", \"the\") and prepositions\n",
            "* Run-on sentences and excessive use of conjunctions (\"and\")\n",
            "* Inconsistent use of commas and semicolons\n",
            "* Unclear sentence structure and word order\n",
            "* Lack of precise vocabulary (e.g., \"product market\" instead of \"vegetable market\")\n",
            "* Excessive use of repetition (\"they sell their goods by shouting it loudly\")\n"
          ]
        },
        {
          "output_type": "stream",
          "name": "stderr",
          "text": [
            "\rEvaluating Test Set:  77%|███████▋  | 150/195 [31:00<21:51, 29.15s/it]"
          ]
        },
        {
          "output_type": "stream",
          "name": "stdout",
          "text": [
            "[+] Transcribing data/dataset/audios_test/audio_676.wav ...\n",
            "[✓] Transcribed:  The crowd scene in the market is very interesting. It is the center of attraction for both buyers and sellers. I always find a big crowd there. Businessmen come from far and wide. They transact business. The market is always crowded with the cats, horses, donkeys, and camels. They come loaded with the produce of the season, such as cotton, grain, oilseeds, gourd, and vegetables these things are arranged in an attractive manner for sale the merchants makes their purchase moving in groups they bid in a particular fashions they do some indications under the cloths to fix the rates of the commodities plots in the market for sale the purchase of commodities takes place in the day in the evening all commodities are packed in the jute bags they are sent back to the place where they are in demand.\n",
            "[+] Sending to LLM for evaluation...\n",
            "[✓] LLM Output:\n",
            "Score: 3.5\n",
            "Suggestions: Consider breaking up long sentences into shorter ones for better clarity and readability. Additionally, some phrases such as \"the merchants makes their purchase\" could be rephrased for better grammar and sentence structure.\n",
            "Mistakes: tense (present and past), article (inconsistent use), punctuation (lack of commas and periods), verb agreement (subject-verb agreement), and word choice (e.g., \"plots\" instead of \"stalls\" for market stands).\n"
          ]
        },
        {
          "output_type": "stream",
          "name": "stderr",
          "text": [
            "\rEvaluating Test Set:  77%|███████▋  | 151/195 [31:29<21:26, 29.23s/it]"
          ]
        },
        {
          "output_type": "stream",
          "name": "stdout",
          "text": [
            "[+] Transcribing data/dataset/audios_test/audio_68.wav ...\n",
            "[✓] Transcribed:  Yes, at this market you can find a lot of things, actually I can see that some people are selling antojitos for breakfast, also I'm seeing that you can find a lot of books, well yeah, old books, all kind of things, actually also you can find some pets or animals like fish or birds and also you can find oh my god that's a little cow or on ships the market well it sounds like a lot of people are talking a lot of people are running one side from another and also you can hear all the all the cars and are from the from the near Avenue also also well at the beginning of the day the the market is like a full of people through in the day there are less people\n",
            "[+] Sending to LLM for evaluation...\n",
            "[✓] LLM Output:\n",
            "Score: 2.0\n",
            "Suggestions: Break up long sentences into shorter ones, use more precise vocabulary, and avoid repetitive phrases like \"also you can find\".\n",
            "Mistakes: Tense inconsistency (switching between present and past tense), lack of articles, excessive use of filler words (\"well\", \"yeah\", \"oh my god\"), and poor sentence structure.\n"
          ]
        },
        {
          "output_type": "stream",
          "name": "stderr",
          "text": [
            "\rEvaluating Test Set:  78%|███████▊  | 152/195 [32:02<21:45, 30.35s/it]"
          ]
        },
        {
          "output_type": "stream",
          "name": "stdout",
          "text": [
            "[+] Transcribing data/dataset/audios_test/audio_683.wav ...\n",
            "[✓] Transcribed:  okay in the code market there's a lot of people they're selling a lot of things they like a like a large stone like a biker they're selling a lot of things which is lot of lot of stone and they can there's they sell a lot of things which can be incredible things they can be there's a lot in market we can see so people from evening to morning they can sell different types of things from for their livelihood so so many people's are present in there I think so many people have come there to enjoy and their life they it was a present day we can see the moment before like like we can see that no one can come there\n",
            "[+] Sending to LLM for evaluation...\n",
            "[✓] LLM Output:\n",
            "Score: 1.8\n",
            "Suggestions: Break up long sentences into shorter ones, use more precise vocabulary, and consider rephrasing some sentences for better clarity.\n",
            "Mistakes: tense inconsistency, lack of articles, repeated words (\"a lot of\", \"like\", \"they're\"), incorrect use of commas, and unclear sentence structure.\n"
          ]
        },
        {
          "output_type": "stream",
          "name": "stderr",
          "text": [
            "\rEvaluating Test Set:  78%|███████▊  | 153/195 [32:33<21:14, 30.35s/it]"
          ]
        },
        {
          "output_type": "stream",
          "name": "stdout",
          "text": [
            "[+] Transcribing data/dataset/audios_test/audio_690.wav ...\n",
            "[✓] Transcribed:  Today I want to share with you someone I deeply admire. She was not just my mother but also my guiding light and inspiration. My mom is an extraordinary woman. Her strength and her selflessness are qualities that I admire greatly. What truly sets my mom apart in her boundless love and compassion of others. She is always there to lend a helping and offering support and encouragement without expecting anything in return. Her kindness knows no bounds and she touches the lips of everyone she meets. And I remember the countless instances where my mom's ungiving and supporting unconditional love have lifted me up during my difficult Her words of wisdom and encouragement have been guiding forces, shaping me into the person I am today.\n",
            "[+] Sending to LLM for evaluation...\n",
            "[✓] LLM Output:\n",
            "Score: 4.2\n",
            "Suggestions: Consider breaking up long sentences into shorter ones for better clarity and flow. Additionally, some phrases could be rephrased for more concise language.\n",
            "Mistakes: Tense consistency (switching between past and present tense), some minor punctuation errors (e.g., missing articles, unnecessary commas), and occasional wordiness.\n"
          ]
        },
        {
          "output_type": "stream",
          "name": "stderr",
          "text": [
            "\rEvaluating Test Set:  79%|███████▉  | 154/195 [33:06<21:15, 31.12s/it]"
          ]
        },
        {
          "output_type": "stream",
          "name": "stdout",
          "text": [
            "[+] Transcribing data/dataset/audios_test/audio_692.wav ...\n",
            "[✓] Transcribed:  In the blasting market, vibrant colours and lively chanter fill the air as people weave through narrow pathways between stalls. Vendors call out their weights, their voices blending with the sounds of bargaining and laughter. The aroma of spices mingles with the scent of fresh produce, enticing shoppers to explore the array of goods on display. Hands exchange money and goods in a symphony of transactions, while the rhythmic hustle and bustle create an atmosphere of energy and excitement above colorful bannets flutter in the breeze adding in the sensory overload of the bustling market\n",
            "[+] Sending to LLM for evaluation...\n",
            "[✓] LLM Output:\n",
            "Score: 4.2\n",
            "Suggestions: Consider breaking up long sentences into shorter ones for better clarity and flow. Additionally, some phrases, such as \"the rhythmic hustle and bustle create an atmosphere of energy and excitement above colorful bannets flutter in the breeze\" could be rephrased for more concise language.\n",
            "Mistakes: None notable. The sentence is well-structured and grammatically correct, with a good balance of complex and simple sentence structures. The only minor issue is the use of some long sentences, which could be improved for better readability.\n"
          ]
        },
        {
          "output_type": "stream",
          "name": "stderr",
          "text": [
            "\rEvaluating Test Set:  79%|███████▉  | 155/195 [33:32<19:47, 29.68s/it]"
          ]
        },
        {
          "output_type": "stream",
          "name": "stdout",
          "text": [
            "[+] Transcribing data/dataset/audios_test/audio_698.wav ...\n",
            "[✓] Transcribed:  Me and my mother went to market and in this market full of people are there and full of rush. We want to buy vegetables in the market which we need to cook in our daily life. Me and my mother usually go to market to buy vegetables. And in this vegetables we hear lot of noises of all people and some people are bargaining to the marketer with sound and voice and vehicle sound be heard.\n",
            "[+] Sending to LLM for evaluation...\n",
            "[✓] LLM Output:\n",
            "Score: 2.0\n",
            "Suggestions: Consider using subject-verb agreement, correct pronoun usage, and proper sentence structure to improve clarity and coherence.\n",
            "Mistakes:\n",
            "\n",
            "* \"Me and my mother\" should be \"My mother and I\" (subject-verb agreement)\n",
            "* \"full of people are there\" is a run-on sentence; consider using a conjunction or a period to separate the clauses\n",
            "* \"We want to buy vegetables in the market which we need to cook in our daily life\" is a long and complex sentence; consider breaking it down into simpler sentences\n",
            "* \"Me and my mother usually go to market to buy vegetables\" is repetitive; consider rephrasing or combining with the previous sentence\n",
            "* \"And in this vegetables\" should be \"And in these vegetables\" (possessive adjective)\n",
            "* \"we hear lot of noises\" should be \"we hear a lot of noises\" (correct usage of \"a\" vs. \"lot\")\n",
            "* \"some people are bargaining to the marketer with sound and voice and vehicle sound be heard\" is a long and complex sentence; consider breaking it down into simpler sentences\n"
          ]
        },
        {
          "output_type": "stream",
          "name": "stderr",
          "text": [
            "\rEvaluating Test Set:  80%|████████  | 156/195 [33:59<18:50, 28.97s/it]"
          ]
        },
        {
          "output_type": "stream",
          "name": "stdout",
          "text": [
            "[+] Transcribing data/dataset/audios_test/audio_702.wav ...\n",
            "[!] Rate limit hit. Retrying in 1.7s... (Attempt 1/5)\n",
            "[+] Transcribing data/dataset/audios_test/audio_702.wav ...\n",
            "[✓] Transcribed:  A marketplace is an exceptionally bustling spot where individuals go to purchase things of their needs. It is a focal point of vaccination for the two purchases and vendors. There is no other place in the zone having so much lively business as the market. I generally locate a major group there. are few shops all enhanced perfectly. Enormous shops look more alluring. Representatives come here from distant locations abroad to purchase or to sell their items. The market is constantly swarmed with trucks, horses, donkeys, and camels. They come stacked with the production of the season, for example, cotton, grain, oilseeds, vegetables, and so on. As the cost of the things are not settled, the sellers and in addition the buyers are\n",
            "[+] Sending to LLM for evaluation...\n",
            "[✓] LLM Output:\n",
            "Score: 3.8\n",
            "Suggestions: Consider breaking up long sentences into shorter ones for better clarity. Also, some phrases, such as \"for example, cotton, grain, oilseeds, vegetables, and so on\" could be rephrased for more concise writing.\n",
            "Mistakes: article (indefinite article \"a\" is used incorrectly), punctuation (missing articles and conjunctions), verb tense consistency (mix of present and past tense), and sentence structure (long, complex sentences).\n"
          ]
        },
        {
          "output_type": "stream",
          "name": "stderr",
          "text": [
            "\rEvaluating Test Set:  81%|████████  | 157/195 [35:01<24:31, 38.72s/it]"
          ]
        },
        {
          "output_type": "stream",
          "name": "stdout",
          "text": [
            "[+] Transcribing data/dataset/audios_test/audio_706.wav ...\n",
            "[✓] Transcribed:  ಸಾರಲ್ಲಿ ರಾಸನ್ನು ನೀಯಿದು ಇನ್ನು ಸೇಮಾರ್ತು ದಿವಿಸಿ ವನ ಫೋನ್ನು ದಿವಿಸಿ ಎಂದು ಫೋನ್ನು ದಿವಿಸಿ ನೀಕೆ ಇಂಕೋಡು ವಿಸ್ತಿಕಿ ಆಯ್ತಾದೆ? ಇಂದುಗಂಟೆ ಇದು ಉನ್ನೈರಾ ಕೊರ್ಣಿ ಇವೆಂಟ್ಸ್ಲೋ ಡಿರ್ಸು ಮೇನ್ ಕೊಾಡಿನಿಟಾಯಿತ್ತುರು ತನುನ್ನು ನಾತು ಇಂಗ ನೇನು ಗೇಮಿಂಗ್ ದಿಸ್ಕುಂದಾ ಇಂಗು ದೇದಾಂ ತಿಸ್ಕುಂದಾವು ಅನ್ನಿತೆ ತಿಸ್ಕುಂದಾವು\n",
            "[+] Sending to LLM for evaluation...\n",
            "[✓] LLM Output:\n",
            "Score: 1.2\n",
            "Suggestions: The sentence appears to be a mix of English and Kannada words. It would be helpful to translate the sentence into English or rephrase it using only English words. Additionally, the sentence structure and grammar could be improved for better clarity.\n",
            "Mistakes: Language mixing, lack of proper sentence structure, unclear meaning due to language mixing.\n"
          ]
        },
        {
          "output_type": "stream",
          "name": "stderr",
          "text": [
            "\rEvaluating Test Set:  81%|████████  | 158/195 [35:34<22:51, 37.07s/it]"
          ]
        },
        {
          "output_type": "stream",
          "name": "stdout",
          "text": [
            "[+] Transcribing data/dataset/audios_test/audio_709.wav ...\n",
            "[✓] Transcribed:  There is someone who stole some product at the market and they hear the loud voice of the vendor shouting at the man. The consumers became scared and they ran.\n",
            "[+] Sending to LLM for evaluation...\n",
            "[✓] LLM Output:\n",
            "Score: 3.5\n",
            "Suggestions: Consider using a more formal tone and rephrasing the sentence to improve clarity. For example, \"A vendor at the market shouted loudly at a man who had stolen some products, causing consumers to become frightened and flee.\"\n",
            "Mistakes: tense (switch from past to present), article (missing definite article \"the\" before \"vendor\" and \"man\"), punctuation (missing comma after \"shouting\"), pronoun (inconsistent use of \"they\" and \"the man\").\n"
          ]
        },
        {
          "output_type": "stream",
          "name": "stderr",
          "text": [
            "\rEvaluating Test Set:  82%|████████▏ | 159/195 [35:39<16:32, 27.57s/it]"
          ]
        },
        {
          "output_type": "stream",
          "name": "stdout",
          "text": [
            "[+] Transcribing data/dataset/audios_test/audio_713.wav ...\n",
            "[✓] Transcribed:  The air is thick with the aroma of spices and the sound of vendors hangling fills the air. People of all walks of life wave through narrow alleyways, their voices blending into a symphony of chatter. Colourful stalls in the streets overflowing with vibrant fruits, vegetables and fabrics Wherever you look, there's movement Sellers calling out their wearers, buyers, bargaining for the best deals Children darting between legs and the occasional hawking of motorbikes seizing through the crowd No\n",
            "[+] Sending to LLM for evaluation...\n",
            "[✓] LLM Output:\n",
            "Score: 4.2\n",
            "Suggestions: Consider breaking up long sentences into shorter ones to improve clarity and flow. Additionally, some words (e.g., \"wearers\") may be unfamiliar to non-native English speakers, so consider using more common alternatives.\n",
            "\n",
            "Mistakes:\n",
            "\n",
            "* Tense inconsistency (present and past)\n",
            "* Missing articles (\"the\" before \"narrow alleyways\")\n",
            "* Unfamiliar vocabulary (\"wearers\")\n",
            "* Run-on sentence structure\n",
            "* Missing punctuation (commas or periods)\n"
          ]
        },
        {
          "output_type": "stream",
          "name": "stderr",
          "text": [
            "\rEvaluating Test Set:  82%|████████▏ | 160/195 [36:09<16:28, 28.26s/it]"
          ]
        },
        {
          "output_type": "stream",
          "name": "stdout",
          "text": [
            "[+] Transcribing data/dataset/audios_test/audio_719.wav ...\n",
            "[✓] Transcribed:  The people selling vegetables, clothes, fruits and some other things in the market. The songs we can hear is to buy our products. It is very cheap and clear. Good products that we have. It's so fresh. that what's our likely to hear in the market and the in the crowd the morning it has a very proud in the place of market and evening the crowd is very less we can use so many words that some people's are fighting they use very bad words and some are soft and some people stop clearly and some are rudely\n",
            "[+] Sending to LLM for evaluation...\n",
            "[✓] LLM Output:\n",
            "Score: 2.0\n",
            "Suggestions: Break down the sentence into simpler, shorter sentences to improve clarity and readability. Use more precise vocabulary to describe the market scene.\n",
            "Mistakes: \n",
            "\n",
            "* Lack of subject-verb agreement (\"The songs we can hear is to buy our products.\")\n",
            "* Inconsistent verb tense (\"It is very cheap and clear\" vs. \"that what's our likely to hear...\")\n",
            "* Run-on sentences and lack of punctuation (\"The people selling vegetables, clothes, fruits and some other things in the market. The songs we can hear...\")\n",
            "* Overuse of vague adjectives (\"very cheap\", \"very proud\", \"very less\")\n",
            "* Inconsistent use of articles (\"the\" vs. no article)\n",
            "* Unnecessary words and phrases (\"that what's our likely to hear...\")\n",
            "* Lack of proper punctuation (e.g., no commas, incorrect use of periods)\n"
          ]
        },
        {
          "output_type": "stream",
          "name": "stderr",
          "text": [
            "\rEvaluating Test Set:  83%|████████▎ | 161/195 [36:38<16:10, 28.55s/it]"
          ]
        },
        {
          "output_type": "stream",
          "name": "stdout",
          "text": [
            "[+] Transcribing data/dataset/audios_test/audio_72.wav ...\n",
            "[✓] Transcribed:  Okay, so this is a crowded market in Kyoto or near the Kyoto area. This is the evening time where people are selling fast food, cheap jewelry, a lot of toys, manga, and old vintage electronics in general. What's on your hair in market? So the sounds which I hear are very busy, mostly of traffic because it's a busy street and also a lot of speakers and TVs, large TVs with advertisements playing on. in the morning it's not that crowded or it's not\n",
            "[+] Sending to LLM for evaluation...\n",
            "[✓] LLM Output:\n",
            "Score: 2.8\n",
            "Suggestions: Consider rephrasing the sentence to improve clarity and coherence. For example, you could break it up into shorter sentences or use more precise language to describe the market scene.\n",
            "\n",
            "Mistakes:\n",
            "\n",
            "* Lack of subject-verb agreement (\"What's on your hair in market?\" should be \"What's on your hair in the market?\")\n",
            "* Incorrect use of articles (\"a lot of toys\" should be \"lots of toys\" or \"many toys\")\n",
            "* Run-on sentences and lack of punctuation (\"This is the evening time where people are selling fast food, cheap jewelry, a lot of toys, manga, and old vintage electronics in general.\")\n",
            "* Incorrect use of verb tenses (\"in the morning it's not that crowded or it's not\" should be \"in the morning, it's not as crowded\" or \"in the morning, it's less crowded\")\n",
            "* Informal language and colloquialisms (\"Okay, so\", \"What's on your hair\", \"in general\") that may not be suitable for formal writing.\n"
          ]
        },
        {
          "output_type": "stream",
          "name": "stderr",
          "text": [
            "\rEvaluating Test Set:  83%|████████▎ | 162/195 [37:09<16:03, 29.21s/it]"
          ]
        },
        {
          "output_type": "stream",
          "name": "stdout",
          "text": [
            "[+] Transcribing data/dataset/audios_test/audio_726.wav ...\n",
            "[✓] Transcribed:  Generally, crowd markets contains in a different situations. It is mainly suitable for vegetables and where the people sell the vegetables at one place and people, especially in middle class families come especially to purchase those vegetables in Sunday and they would like to purchase those vegetables in different ways like buyers and sellers are accommodating in those places and they are bargaining for that vegetables and so many people are there in that place where it was a crowd market and it was so busy and same vegetables are selling different, different persons at different, different prices. And people are bargaining on that. And it was mainly on Sunday in India, especially. And the crowd market\n",
            "[+] Sending to LLM for evaluation...\n",
            "[✓] LLM Output:\n",
            "Score: 2.0\n",
            "Suggestions: Break down the sentence into simpler, shorter sentences to improve clarity and readability. Consider using transition words to connect ideas between sentences.\n",
            "\n",
            "Mistakes:\n",
            "\n",
            "* Tense inconsistency (present and past tense used together)\n",
            "* Lack of articles (a, the) and prepositions (in, on, at)\n",
            "* Run-on sentences and lack of punctuation (e.g., \"Generally, crowd markets contains in a different situations.\")\n",
            "* Word order and sentence structure issues (e.g., \"It is mainly suitable for vegetables and where the people sell the vegetables at one place...\")\n",
            "* Repetition of words and phrases (e.g., \"different, different persons at different, different prices\")\n",
            "* Lack of cohesion between sentences (e.g., \"And people are bargaining on that. And it was mainly on Sunday in India, especially.\")\n"
          ]
        },
        {
          "output_type": "stream",
          "name": "stderr",
          "text": [
            "\rEvaluating Test Set:  84%|████████▎ | 163/195 [37:41<15:56, 29.90s/it]"
          ]
        },
        {
          "output_type": "stream",
          "name": "stdout",
          "text": [
            "[+] Transcribing data/dataset/audios_test/audio_733.wav ...\n",
            "[✓] Transcribed:  A market is an expansion blasting spot where individuals go to purchase things on their needs. It is a focal point of fascination for two purchasers and vendors. There is no other place in the zone having so much lively business at the market. I generally locate a major group there. There are few shops all enhanced perfectly. Enormous shops look more alluring. Representatives come here from distant locations, about to purchase or sell their items. The market is constantly swarmed with trucks, horses, donkeys, camels and many more. They come stacked with the production of the season. For example, cotton, grain, oil, seeds, vegetables, fruits and many more. As the cost of the things are not settled, the sellers hand in a\n",
            "[+] Sending to LLM for evaluation...\n",
            "[✓] LLM Output:\n",
            "Score: 2.0\n",
            "Suggestions: Consider rephrasing some of the sentences to improve clarity and concision. For example, the first sentence could be broken down into two simpler sentences: \"A market is an expansion blasting spot where individuals go to purchase things on their needs. It is a popular destination for buyers and sellers.\"\n",
            "Mistakes: Tense inconsistency (present and past), article errors (e.g. \"an expansion blasting spot\" instead of \"the expansion blasting spot\"), punctuation errors (e.g. missing articles and commas), and word choice errors (e.g. \"lively business\" instead of \"busy market\").\n"
          ]
        },
        {
          "output_type": "stream",
          "name": "stderr",
          "text": [
            "\rEvaluating Test Set:  84%|████████▍ | 164/195 [38:10<15:21, 29.71s/it]"
          ]
        },
        {
          "output_type": "stream",
          "name": "stdout",
          "text": [
            "[+] Transcribing data/dataset/audios_test/audio_735.wav ...\n",
            "[✓] Transcribed:  When I see a crowded market firstly I observe the persons who are selling the products and the customers mainly the rushy roads with the full of traffic. um and the sounds uh it comes in the crowded market is very loud with the with the vehicle sound and the seller sounds those are very irritating to us but it is a place where all will Sell and purchase the goods.\n",
            "[+] Sending to LLM for evaluation...\n",
            "[✓] LLM Output:\n",
            "Score: 2.5\n",
            "Suggestions: Break up long sentences into shorter ones, and consider rephrasing some sentences to improve clarity and flow. Additionally, try to avoid filler words like \"um\" and \"uh\" in written text.\n",
            "Mistakes: \n",
            "\n",
            "* Lack of article (\"a\" or \"the\") before \"crowded market\" (article)\n",
            "* Use of \"firstly\" instead of a more formal transition word (punctuation)\n",
            "* Run-on sentence with multiple independent clauses (punctuation)\n",
            "* Lack of verb agreement in \"those are very irritating to us but it is a place...\" (verb agreement)\n",
            "* Use of \"um\" and \"uh\" as filler words (style)\n"
          ]
        },
        {
          "output_type": "stream",
          "name": "stderr",
          "text": [
            "\rEvaluating Test Set:  85%|████████▍ | 165/195 [38:39<14:49, 29.65s/it]"
          ]
        },
        {
          "output_type": "stream",
          "name": "stdout",
          "text": [
            "[+] Transcribing data/dataset/audios_test/audio_746.wav ...\n",
            "[✓] Transcribed:  My favorite hobby is dancing. Dancing is all about moving to the music, expressing yourself, and having fun. What I enjoy most about dancing is I get to express what I feel through movements. And there are most times that I have to practice, because since I'm in a group, dance group right now, I tend to practice with my teammates. Dancing is a great way to let loose and enjoy yourself. Whether you're dancing alone in your room or with your friends.\n",
            "[+] Sending to LLM for evaluation...\n",
            "[✓] LLM Output:\n",
            "Score: 4.0\n",
            "Suggestions: Consider varying sentence structure and length to improve overall flow and readability. Additionally, some sentences could be combined for better cohesion.\n",
            "Mistakes: None notable, good use of verb tenses, articles, and punctuation.\n"
          ]
        },
        {
          "output_type": "stream",
          "name": "stderr",
          "text": [
            "\rEvaluating Test Set:  85%|████████▌ | 166/195 [39:10<14:29, 29.99s/it]"
          ]
        },
        {
          "output_type": "stream",
          "name": "stdout",
          "text": [
            "[+] Transcribing data/dataset/audios_test/audio_75.wav ...\n",
            "[!] Rate limit hit. Retrying in 1.3s... (Attempt 1/5)\n",
            "[+] Transcribing data/dataset/audios_test/audio_75.wav ...\n",
            "[!] Rate limit hit. Retrying in 2.8s... (Attempt 2/5)\n",
            "[+] Transcribing data/dataset/audios_test/audio_75.wav ...\n",
            "[!] Rate limit hit. Retrying in 5.6s... (Attempt 3/5)\n",
            "[+] Transcribing data/dataset/audios_test/audio_75.wav ...\n",
            "[!] Rate limit hit. Retrying in 9.2s... (Attempt 4/5)\n",
            "[+] Transcribing data/dataset/audios_test/audio_75.wav ...\n",
            "[!] Rate limit hit. Retrying in 16.3s... (Attempt 5/5)\n"
          ]
        },
        {
          "output_type": "stream",
          "name": "stderr",
          "text": [
            "\rEvaluating Test Set:  86%|████████▌ | 167/195 [39:48<15:02, 32.25s/it]"
          ]
        },
        {
          "output_type": "stream",
          "name": "stdout",
          "text": [
            "[X] Error on audio_75.wav: Exceeded retries for data/dataset/audios_test/audio_75.wav\n",
            "[+] Transcribing data/dataset/audios_test/audio_759.wav ...\n",
            "[✓] Transcribed:  As a creative person, I like to draw or paint. My favorite hobby is painting. I love dipping my brush into vibrant colors and bringing black canvases to life with my imagination. And the best part is when I get lost in the flow of creativity, I add details and textures until my vision takes shape and then the tools I need are just some brushes, paint, and just a blank canvas.\n",
            "[+] Sending to LLM for evaluation...\n",
            "[✓] LLM Output:\n",
            "Score: 4.2\n",
            "Suggestions: Consider varying sentence structure and length to create a more dynamic rhythm. Additionally, some sentences could be combined for improved flow.\n",
            "Mistakes: None notable, but some sentences could be rephrased for improved clarity and concision.\n"
          ]
        },
        {
          "output_type": "stream",
          "name": "stderr",
          "text": [
            "\rEvaluating Test Set:  86%|████████▌ | 168/195 [39:52<10:40, 23.72s/it]"
          ]
        },
        {
          "output_type": "stream",
          "name": "stdout",
          "text": [
            "[+] Transcribing data/dataset/audios_test/audio_762.wav ...\n",
            "[✓] Transcribed:  My favorite hobby is listening to music. Listening to music is a wonderful hobby that engages the senses and emotions. Whether it's unwinding with soothing melodies after a long day or energizing with upbeat tunes during a workout, music has the power to uplift, inspire and transport us to different emotional states. Exploring various genres, artists and styles allows for endless discovery and personal connection to the rhythms and lyrics that resonate most deeply. Whether you are attending live concerts, creating playlists or simply enjoying your favorite songs, through headphones, music provides a universal language that transcends boundaries and brings people together in a shared appreciation.\n",
            "[+] Sending to LLM for evaluation...\n",
            "[✓] LLM Output:\n",
            "Score: 4.8\n",
            "Suggestions: Consider breaking up long sentences into shorter ones for improved clarity and flow. Additionally, some sentences could be rephrased for more concise language.\n",
            "Mistakes: None notable, excellent use of verb tenses, articles, and punctuation.\n"
          ]
        },
        {
          "output_type": "stream",
          "name": "stderr",
          "text": [
            "\rEvaluating Test Set:  87%|████████▋ | 169/195 [40:05<08:59, 20.75s/it]"
          ]
        },
        {
          "output_type": "stream",
          "name": "stdout",
          "text": [
            "[+] Transcribing data/dataset/audios_test/audio_767.wav ...\n",
            "[✓] Transcribed:  My favorite hobby is to irritate my best friend because it gives lots of thrill and enjoyment to me. It is a time pass event and we both also enjoyed. We got some memories. We almost want to spend more time. time and it is it is my favorite hobby because he he treats me like a kid so I want I always wants to irritate him she he also he also likes to irritate me because we both have same mindset and mental vibes we both have same mindset that's why we are very close to each other It is a part of our hobby. We enjoy it a lot and we spend more time together.\n",
            "[+] Sending to LLM for evaluation...\n",
            "[✓] LLM Output:\n",
            "Score: 2.0\n",
            "Suggestions: Consider rephrasing some of the sentences to improve clarity and coherence. For example, the sentence \"It is a time pass event and we both also enjoyed\" could be rephrased to \"We both enjoy it as a way to pass time\" to make it more concise and clear.\n",
            "\n",
            "Mistakes:\n",
            "\n",
            "* Lack of subject-verb agreement (e.g. \"it gives lots of thrill and enjoyment to me\" should be \"it gives me lots of thrill and enjoyment\")\n",
            "* Inconsistent verb tense (e.g. \"I always wants\" should be \"I always want\")\n",
            "* Use of informal language (e.g. \"she he also he also likes\" should be \"she also likes\" or \"he also likes\")\n",
            "* Run-on sentences (e.g. \"We got some memories. We almost want to spend more time. time and it is it is my favorite hobby because he he treats me like a kid so I want I always wants to irritate him\")\n",
            "* Lack of punctuation (e.g. no commas or periods to separate clauses or sentences)\n",
            "* Overuse of pronouns (e.g. \"he he also he also likes\" could be simplified to \"he also likes\")\n",
            "* Unnecessary repetition (e.g. \"it is it is my favorite hobby\" could be simplified to \"it is my favorite hobby\")\n"
          ]
        },
        {
          "output_type": "stream",
          "name": "stderr",
          "text": [
            "\rEvaluating Test Set:  87%|████████▋ | 170/195 [40:35<09:44, 23.38s/it]"
          ]
        },
        {
          "output_type": "stream",
          "name": "stdout",
          "text": [
            "[+] Transcribing data/dataset/audios_test/audio_770.wav ...\n",
            "[✓] Transcribed:  Actually, the most I use it to enjoy is like practicing coding. I really like the coding because that gives you some much confidence in you like you can do it and you can be able to think and give the answer and give the solution in a most appropriate way. Coding is my best hobby. I used to spend so much amount of time on that. Like after going to college, most of the time I spend on coding. It is my biggest happiness because the coding is really important for the placement and everything. So I really like it so much. yeah i take some help from the from my friends as well as mentors that gives me enough confidence to build a more enthusiastic and more interesting we go we can go better depth\n",
            "[+] Sending to LLM for evaluation...\n",
            "[✓] LLM Output:\n",
            "Score: 2.5\n",
            "Suggestions: Break up long sentences into shorter ones, and consider rephrasing some of the sentences to improve clarity and concision. Additionally, consider using more precise vocabulary and avoiding repetitive phrases.\n",
            "Mistakes: tense (multiple instances of switching between past and present tense), article (inconsistent use of \"a\" and \"an\"), punctuation (lack of commas and periods), pronoun (ambiguous use of \"you\" and \"I\"), and sentence structure (long, complex sentences).\n"
          ]
        },
        {
          "output_type": "stream",
          "name": "stderr",
          "text": [
            "\rEvaluating Test Set:  88%|████████▊ | 171/195 [41:05<10:10, 25.44s/it]"
          ]
        },
        {
          "output_type": "stream",
          "name": "stdout",
          "text": [
            "[+] Transcribing data/dataset/audios_test/audio_800.wav ...\n",
            "[✓] Transcribed:  My hobbies are playing cricket because I am a sporty person which can be making my make my mind really under take pleasure on me which can be helping for the pressure handling my hobbies like if we are playing a cricket my mind this focus on on about the game how to win even even lost out tackle the game\n",
            "[+] Sending to LLM for evaluation...\n",
            "[✓] LLM Output:\n",
            "Score: 2.0\n",
            "Suggestions: Break up long sentences into shorter ones, and consider rephrasing some of the sentences to improve clarity and coherence.\n",
            "Mistakes: tense (multiple instances of present and past tense used in the same sentence), article (lack of articles in some places), pronoun (inconsistent use of pronouns), punctuation (lack of commas and periods), and word order (some sentences are wordy and hard to follow).\n"
          ]
        },
        {
          "output_type": "stream",
          "name": "stderr",
          "text": [
            "\rEvaluating Test Set:  88%|████████▊ | 172/195 [41:35<10:17, 26.84s/it]"
          ]
        },
        {
          "output_type": "stream",
          "name": "stdout",
          "text": [
            "[+] Transcribing data/dataset/audios_test/audio_805.wav ...\n",
            "[✓] Transcribed:  My hobby is to play games, play online games and reading some other books and I enjoy a lot. So that I have faced many problems and frequencies while playing physical games. That's why I enjoy a lot in online games and my good hobby is to play football. and I have an excellent degree of football where I can get physically strengthened and the workout will be done as much as possible in the cave and I love practicing football so that I can beat myself or the players who are more strengthened than me and that's all about my hobby\n",
            "[+] Sending to LLM for evaluation...\n",
            "[✓] LLM Output:\n",
            "Score: 2.0\n",
            "Suggestions: Break up long sentences into shorter ones, and consider rephrasing some of the sentences for better clarity and coherence. Additionally, consider using more precise vocabulary and avoiding repetitive phrases.\n",
            "\n",
            "Mistakes:\n",
            "\n",
            "* Lack of subject-verb agreement (e.g., \"My hobby is to play games, play online games...\")\n",
            "* Inconsistent verb tense (e.g., \"I enjoy a lot\" vs. \"I have faced many problems...\")\n",
            "* Run-on sentences (e.g., \"That's why I enjoy a lot in online games and my good hobby is to play football.\")\n",
            "* Lack of articles (e.g., \"the cave\")\n",
            "* Repetitive phrases (e.g., \"I enjoy a lot\" repeated twice)\n",
            "* Unclear sentence structure (e.g., \"and I have an excellent degree of football where I can get physically strengthened...\")\n",
            "* Inconsistent use of commas (e.g., \"and I love practicing football so that I can beat myself or the players who are more strengthened than me\")\n",
            "* Lack of precision in vocabulary (e.g., \"frequencies\" instead of \"issues\" or \"problems\")\n"
          ]
        },
        {
          "output_type": "stream",
          "name": "stderr",
          "text": [
            "\rEvaluating Test Set:  89%|████████▊ | 173/195 [42:07<10:22, 28.31s/it]"
          ]
        },
        {
          "output_type": "stream",
          "name": "stdout",
          "text": [
            "[+] Transcribing data/dataset/audios_test/audio_811.wav ...\n",
            "[✓] Transcribed:  My favorite hobby is that listening to music and working out. My favorite hobby most of the time is listening to the songs or music. I love every type of music, whether it's pop or musical or countryside music, everything. I like it. But I think I don't need any tools, just maybe mobile or some speakers. I enjoy my hobby on my own. I think I don't need anyone to appreciate my own hobby and embrace my hobby as theirs.\n",
            "[+] Sending to LLM for evaluation...\n",
            "[✓] LLM Output:\n",
            "Score: 3.8\n",
            "Suggestions: Consider rephrasing some of the sentences to improve clarity and concision. For example, the first sentence could be shortened to \"My favorite hobby is listening to music and working out.\"\n",
            "\n",
            "Mistakes:\n",
            "\n",
            "* Lack of subject-verb agreement in the first sentence (\"My favorite hobby is that listening to music and working out\" should be \"My favorite hobby is listening to music and working out.\")\n",
            "* Use of the phrase \"My favorite hobby most of the time\" which is repetitive and unnecessary\n",
            "* Use of the phrase \"I love every type of music, whether it's pop or musical or countryside music, everything\" which is a bit wordy and could be simplified\n",
            "* Use of the phrase \"I think I don't need anyone to appreciate my own hobby and embrace my hobby as theirs\" which is a bit awkwardly phrased and could be reworded for better clarity.\n"
          ]
        },
        {
          "output_type": "stream",
          "name": "stderr",
          "text": [
            "\rEvaluating Test Set:  89%|████████▉ | 174/195 [42:36<10:00, 28.60s/it]"
          ]
        },
        {
          "output_type": "stream",
          "name": "stdout",
          "text": [
            "[+] Transcribing data/dataset/audios_test/audio_820.wav ...\n",
            "[✓] Transcribed:  At first my hobby was not special about particular topic but when I was in school I was mostly attracted to Tenny Coit game which was my hobby and I would like to play Tenny Coit and in school times I have plenty of time to play that. I am in college right now. I don't have time to play and I would like to play the Tanny Court game with others and the Tanny Court game will be played as a singles and doubles. I prefer to play as a singles because as of one opposition of the player only one person so I can easily enjoy that game very well and Tanny Coit game gives most enthusiastic energetic performance for me and for this game we use a tools like Tanny Coit ring that is used to play that Tanny Coit game.\n",
            "[+] Sending to LLM for evaluation...\n",
            "[✓] LLM Output:\n",
            "Score: 2.8\n",
            "Suggestions: Break up long sentences into shorter ones, and consider rephrasing some of the sentences for better clarity and grammar. Additionally, proofread for minor errors such as verb tense consistency and article usage.\n",
            "\n",
            "Mistakes:\n",
            "\n",
            "* Lack of verb tense consistency (switching between past and present tense)\n",
            "* Overuse of articles (\"the\" and \"a\")\n",
            "* Run-on sentences and sentence fragments\n",
            "* Incorrect use of \"I would like to\" in some places\n",
            "* Lack of punctuation (e.g., missing commas and periods)\n",
            "* Unnecessary repetition of words and phrases\n",
            "* Incorrect use of \"as\" and \"like\" in some places\n",
            "* Lack of clarity in sentence structure and word choice\n"
          ]
        },
        {
          "output_type": "stream",
          "name": "stderr",
          "text": [
            "\rEvaluating Test Set:  90%|████████▉ | 175/195 [43:08<09:52, 29.61s/it]"
          ]
        },
        {
          "output_type": "stream",
          "name": "stdout",
          "text": [
            "[+] Transcribing data/dataset/audios_test/audio_831.wav ...\n",
            "[✓] Transcribed:  My favorite hobby is to watch movies. It is not only for entertainment purpose but it will also give us information to think. And I will watch movies mainly on I will watch movies, thriller movies. So in that also I will I would like to watch some crime stories because while watching that we can come to know that how to solve and how to think. about a situation or a problem. We can increase our thinking process also. Thank you.\n",
            "[+] Sending to LLM for evaluation...\n",
            "[✓] LLM Output:\n",
            "Score: 3.5\n",
            "Suggestions: Consider rephrasing some of the sentences to improve clarity and concision. For example, the sentence \"It is not only for entertainment purpose but it will also give us information to think\" could be simplified to \"It provides both entertainment and information to think about.\"\n",
            "Mistakes: article (indefinite article \"a\" missing in \"a situation or a problem\"), pronoun (inconsistent use of \"I\" and \"we\"), punctuation (missing commas in some places), verb tense (mix of present and future tense), and word choice (some words like \"mainly\" and \"also\" could be replaced with more precise alternatives).\n"
          ]
        },
        {
          "output_type": "stream",
          "name": "stderr",
          "text": [
            "\rEvaluating Test Set:  90%|█████████ | 176/195 [43:40<09:37, 30.39s/it]"
          ]
        },
        {
          "output_type": "stream",
          "name": "stdout",
          "text": [
            "[+] Transcribing data/dataset/audios_test/audio_841.wav ...\n",
            "[✓] Transcribed:  The best day of my life is my 10th results. It was May 14, 2019. I think it was May 14, 2019. I got 10 by 10 CGPA. But I didn't like it because I don't want to compare with others. My friends got 10 CGPA only but my parents are compared with all members. If they have got very better than me then they will scold me. Otherwise they will be very happy. and only if I got 8.9 CGPA but they compare with toppers they got 9 when why did you give I didn't you didn't get 9 CGPA they scold me if I didn't get 10 CGPA then I would be very happiest person and then I don't want to compare with others talent describes you\n",
            "[+] Sending to LLM for evaluation...\n",
            "[✓] LLM Output:\n",
            "Score: 2.0\n",
            "Suggestions: Consider rephrasing some of the sentences to improve clarity and coherence. Additionally, proofread the text for grammatical errors and punctuation mistakes.\n",
            "Mistakes: tense (multiple instances), article (inconsistent use), punctuation (missing commas and periods), pronoun reference (ambiguous), verb agreement (subject-verb disagreement), and sentence structure (long, complex sentences).\n"
          ]
        },
        {
          "output_type": "stream",
          "name": "stderr",
          "text": [
            "\rEvaluating Test Set:  91%|█████████ | 177/195 [44:08<08:50, 29.47s/it]"
          ]
        },
        {
          "output_type": "stream",
          "name": "stdout",
          "text": [
            "[+] Transcribing data/dataset/audios_test/audio_857.wav ...\n",
            "[✓] Transcribed:  My best day of my life is when I spend time with my family and friends at the beach because we play in the sand, swim in the ocean, and enjoy yummy food. And we are laughing together as the sun sets with roast marshmallows over a bonfire making the day special and memorable. And it would be a day filled with joy and the simple pleasures of life.\n",
            "[+] Sending to LLM for evaluation...\n",
            "[✓] LLM Output:\n",
            "Score: 4.2\n",
            "Suggestions: Consider varying sentence structure and length to create a more dynamic and engaging narrative. Additionally, some sentences could be combined to improve flow and coherence.\n",
            "Mistakes: None notable, but some sentences could be rephrased for better clarity and concision.\n"
          ]
        },
        {
          "output_type": "stream",
          "name": "stderr",
          "text": [
            "\rEvaluating Test Set:  91%|█████████▏| 178/195 [44:39<08:30, 30.06s/it]"
          ]
        },
        {
          "output_type": "stream",
          "name": "stdout",
          "text": [
            "[+] Transcribing data/dataset/audios_test/audio_858.wav ...\n",
            "[✓] Transcribed:  Hello, today I am going to tell about the best day in my life. The best day in my life is getting first place in my school. On that day I felt very happy for getting first place and I also get congratulations from my teachers and from my friends and so many people also. On that day, I also received a medal like that for getting good marks in all subjects. And I also learned so many things from that. And I worked so hard to get my marks highly. So I received that place. Thank you. Thank you.\n",
            "[+] Sending to LLM for evaluation...\n",
            "[✓] LLM Output:\n",
            "Score: 3.5\n",
            "Suggestions: Consider breaking up long sentences into shorter ones for better clarity and flow. Also, use more precise vocabulary to convey your thoughts.\n",
            "Mistakes: tense inconsistency (present simple and past simple), article errors (e.g., \"the best day in my life is getting first place in my school\" should be \"the best day of my life was when I got first place in my school\"), and some minor punctuation errors (e.g., missing commas).\n"
          ]
        },
        {
          "output_type": "stream",
          "name": "stderr",
          "text": [
            "\rEvaluating Test Set:  92%|█████████▏| 179/195 [45:09<08:00, 30.04s/it]"
          ]
        },
        {
          "output_type": "stream",
          "name": "stdout",
          "text": [
            "[+] Transcribing data/dataset/audios_test/audio_882.wav ...\n",
            "[✓] Transcribed:  My topic is about to describe the best day of my life and the best day of my life is when I met my best friend and I couldn't say his name but he is such an understanding person and he is such a matured person and in every situation he understands me so well and without him I think my life wouldn't be like this and it would have so many changes without him and I would have missed someone who is so close to me and so so who who understands me so well other than anyone and I think that's the day which I have met him and without the day without meeting him it will be so horrible that life was for me and he changed so much in my life and yes that day is a very special day\n",
            "[+] Sending to LLM for evaluation...\n",
            "[✓] LLM Output:\n",
            "Score: 2.5\n",
            "Suggestions: Break up long sentences into shorter ones, and consider rephrasing some of the sentences for better clarity and coherence. Additionally, consider using more precise language to describe the person's qualities and the impact he had on the speaker's life.\n",
            "Mistakes:\n",
            "\n",
            "* Lack of punctuation and sentence structure (e.g., multiple independent clauses without conjunctions)\n",
            "* Overuse of vague language (e.g., \"such an understanding person\", \"so so who who understands me so well\")\n",
            "* Tense inconsistencies (e.g., switching between past and present tense)\n",
            "* Repetition of ideas and phrases (e.g., \"he is such an understanding person\", \"he understands me so well\")\n",
            "* Lack of specific details and concrete examples to support the speaker's claims\n"
          ]
        },
        {
          "output_type": "stream",
          "name": "stderr",
          "text": [
            "\rEvaluating Test Set:  92%|█████████▏| 180/195 [45:38<07:26, 29.77s/it]"
          ]
        },
        {
          "output_type": "stream",
          "name": "stdout",
          "text": [
            "[+] Transcribing data/dataset/audios_test/audio_884.wav ...\n",
            "[✓] Transcribed:  The best day of my life started in Chinmaya Mission. In Chinmaya Mission, I had learnt many things. I had been selected as a yoga practitioner. I had been selected as a good drawing expert. I received the third prize in drawing. Apart from this, I selected the top ten in the yoga practitioners. In this way, Chinmaya Institute teach me very good and productive knowledge. and Chinmayanish taught me how a good human being will survive in your life. This way, in Chinmayanish, I lead my team in a better way to achieve all his team goals. So that's why I had to share the best student of the year award. Also on that day, it describes the best day in my life. So I cannot forget that day. So this way, I want to describe the best day of my life, which I was spent in Chinmayanish. That's all.\n",
            "[+] Sending to LLM for evaluation...\n",
            "[✓] LLM Output:\n",
            "Score: 2.8\n",
            "Suggestions: Break up long sentences into shorter ones, use more precise vocabulary, and consider adding transitions to connect ideas between paragraphs.\n",
            "\n",
            "Mistakes:\n",
            "\n",
            "* Lack of punctuation (e.g., missing commas, periods)\n",
            "* Run-on sentences (e.g., multiple independent clauses without punctuation)\n",
            "* Inconsistent verb tense (e.g., switching between past and present tense)\n",
            "* Unclear sentence structure (e.g., using too many clauses or phrases)\n",
            "* Overuse of repetitive phrases (e.g., \"I had been selected as...\")\n",
            "* Lack of cohesion between paragraphs (e.g., unclear connections between ideas)\n",
            "* Informal tone (e.g., using colloquial expressions like \"So that's why\")\n",
            "* Unclear sentence meaning (e.g., \"In this way, Chinmaya Institute teach me very good and productive knowledge.\" - unclear what \"this way\" refers to)\n"
          ]
        },
        {
          "output_type": "stream",
          "name": "stderr",
          "text": [
            "\rEvaluating Test Set:  93%|█████████▎| 181/195 [46:10<07:03, 30.27s/it]"
          ]
        },
        {
          "output_type": "stream",
          "name": "stdout",
          "text": [
            "[+] Transcribing data/dataset/audios_test/audio_885.wav ...\n",
            "[✓] Transcribed:  The best day of my life is witnessing the sheer happiness radiating from my father's face. It was not about grand gestures and extravagant events, but rather a simple moment of pure joy shared between us. Whether it was a heartfelt conversation, a sheer love or smell gesture of appreciation, Seeing him truly happily filled me with an indescribable sense of fulfillment and warmth. In that moment, everything felt right. And I know that the bond between us was stronger than ever, day by day. I feel very proud to say I am his daughter.\n",
            "[+] Sending to LLM for evaluation...\n",
            "[✓] LLM Output:\n",
            "Score: 4.2\n",
            "Suggestions: Consider varying sentence structure and length to improve flow and readability. Additionally, some sentences could be condensed for greater clarity.\n",
            "\n",
            "Mistakes:\n",
            "\n",
            "* None notable\n"
          ]
        },
        {
          "output_type": "stream",
          "name": "stderr",
          "text": [
            "\rEvaluating Test Set:  93%|█████████▎| 182/195 [46:34<06:10, 28.47s/it]"
          ]
        },
        {
          "output_type": "stream",
          "name": "stdout",
          "text": [
            "[+] Transcribing data/dataset/audios_test/audio_888.wav ...\n",
            "[✓] Transcribed:  In my case, it was the day when I scored the highest in my school and I felt very happy and it was the happiest day of my life, was full of joy and fun and everyone was happy with my school and my parents was very happy and everyone was praising me my friends and family were proud of me for doing something that no one believed i could achieve and i felt very happy and i i got so many i listened so many good things and so many positive things and they just encouraged with me and they gave so many gifts to me so that it was a best day i never ever forgot it in my\n",
            "[+] Sending to LLM for evaluation...\n",
            "[✓] LLM Output:\n",
            "Score: 2.0\n",
            "Suggestions: Break up long sentences into shorter ones to improve clarity. Use a more varied sentence structure to avoid repetition. Consider using transition words to connect ideas between sentences.\n",
            "Mistakes: tense (multiple instances of switching between past and present tense), article (inconsistent use of \"the\" and \"a\"), punctuation (lack of commas and periods), pronoun (inconsistent use of \"I\" and \"me\"), repetition (repeating \"and\" multiple times), word choice (using \"i\" instead of \"I\" in some places).\n"
          ]
        },
        {
          "output_type": "stream",
          "name": "stderr",
          "text": [
            "\rEvaluating Test Set:  94%|█████████▍| 183/195 [47:06<05:53, 29.47s/it]"
          ]
        },
        {
          "output_type": "stream",
          "name": "stdout",
          "text": [
            "[+] Transcribing data/dataset/audios_test/audio_89.wav ...\n",
            "[✓] Transcribed:  I saw the people who are buying potatoes, tomatoes for daily groceries. I should hear the voices and sounds in the market like 1 kg, 2 kg, 3 kg potatoes for that much of rupees. The crowd in the market changes from morning to evening. In morning times there are so many people who are buying and selling the products like vegetables in the market. In afternoon times there are less people who are coming in market to buy their needs. There are so much of crowd in morning and evening because of their time they are used to buy and sell the items which are needed in only morning and evening times due to that convenient market crowd.\n",
            "[+] Sending to LLM for evaluation...\n",
            "[✓] LLM Output:\n",
            "Score: 3.5\n",
            "Suggestions: Consider breaking up long sentences into shorter ones for better clarity. Also, use more precise language to describe the crowd and market dynamics.\n",
            "Mistakes: tense consistency (mix of past and present tense), article usage (e.g., \"the people\" vs. \"people\"), pronoun reference (e.g., \"they\" vs. \"them\"), and sentence structure (e.g., multiple clauses without clear connections).\n"
          ]
        },
        {
          "output_type": "stream",
          "name": "stderr",
          "text": [
            "\rEvaluating Test Set:  94%|█████████▍| 184/195 [47:34<05:20, 29.14s/it]"
          ]
        },
        {
          "output_type": "stream",
          "name": "stdout",
          "text": [
            "[+] Transcribing data/dataset/audios_test/audio_897.wav ...\n",
            "[!] Rate limit hit. Retrying in 1.8s... (Attempt 1/5)\n",
            "[+] Transcribing data/dataset/audios_test/audio_897.wav ...\n",
            "[✓] Transcribed:  우리 사이에� safest 먼저 가 самой 사별의 지원을 점 cheap 시 faith 분 sek 타 부 유 자 민 특히 그 ocean sık 카 파 응 흑 냐 parent face hunних s 흐 흐 흐 흐 valor 이 내용 시청해주셔서 lupa like, share dan subscribe ya. Jangan lupa like, share dan subscribe ya! Terima kasih telah menonton!\n",
            "[+] Sending to LLM for evaluation...\n",
            "[✓] LLM Output:\n",
            "Score: 1.2\n",
            "Suggestions: The sentence appears to be a mix of English and Korean languages. It would be more effective to write the entire sentence in one language or the other. If the intention is to create a bilingual or multilingual content, it's essential to ensure that the sentence structure, grammar, and vocabulary are consistent across languages.\n",
            "\n",
            "Mistakes:\n",
            "\n",
            "* Language mixing (English and Korean)\n",
            "* Lack of sentence structure and grammar consistency\n",
            "* No clear subject-verb agreement\n",
            "* Unusual word order and sentence construction\n",
            "* Use of non-standard vocabulary and punctuation\n",
            "* No capitalization or punctuation in some parts of the sentence\n",
            "* Excessive use of abbreviations and acronyms (e.g., \"ya\", \"dan\", \"subscribe\")\n"
          ]
        },
        {
          "output_type": "stream",
          "name": "stderr",
          "text": [
            "\rEvaluating Test Set:  95%|█████████▍| 185/195 [48:42<06:48, 40.80s/it]"
          ]
        },
        {
          "output_type": "stream",
          "name": "stdout",
          "text": [
            "[+] Transcribing data/dataset/audios_test/audio_908.wav ...\n",
            "[✓] Transcribed:  The best day of my life will be the day when I went on a vacation to a tropical Iceland. It was a beautiful day.\n",
            "[+] Sending to LLM for evaluation...\n",
            "[✓] LLM Output:\n",
            "Score: 2.0\n",
            "Suggestions: Consider rephrasing the sentence to improve clarity and coherence. For example, \"The best day of my life was the day I went on a vacation to tropical Iceland, where I had a beautiful experience.\"\n",
            "Mistakes: tense (subject-verb agreement), article (indefinite article \"a\" is not necessary), punctuation (missing comma after \"Iceland\"), pronoun (inconsistent use of \"I\" and \"me\"), and word choice (Iceland is not typically considered a tropical destination).\n"
          ]
        },
        {
          "output_type": "stream",
          "name": "stderr",
          "text": [
            "\rEvaluating Test Set:  95%|█████████▌| 186/195 [48:53<04:46, 31.81s/it]"
          ]
        },
        {
          "output_type": "stream",
          "name": "stdout",
          "text": [
            "[+] Transcribing data/dataset/audios_test/audio_920.wav ...\n",
            "[✓] Transcribed:  My best day of my life is my 20th birthday because on that day everyone in my family, my close relatives, my friends were all together to celebrate my 20th birthday. And it was the best day because it creates so many nice memories that always makes me so lucky that I have so many good people around me who loves me genuinely. These days make me more special because my family is so good and polite. They have given me surprises and many more things that makes me feel so special. If that day was not so cherishable then my life would be different because of that when I remember that day I always feel happy.\n",
            "[+] Sending to LLM for evaluation...\n",
            "[✓] LLM Output:\n",
            "Score: 3.5\n",
            "Suggestions: Consider breaking up long sentences into shorter ones to improve clarity and readability. Also, use more precise vocabulary to convey your thoughts and emotions.\n",
            "Mistakes: \n",
            "\n",
            "* Tense inconsistency (switching between past and present tense)\n",
            "* Run-on sentences\n",
            "* Overuse of adverbs (e.g., \"so many\", \"always\", \"so\")\n",
            "* Lack of precise vocabulary (e.g., \"nice memories\" could be replaced with \"cherished memories\")\n",
            "* Repetitive phrases (e.g., \"so many\", \"so special\")\n",
            "* Unclear sentence structure (e.g., \"If that day was not so cherishable then my life would be different because of that\")\n",
            "* Informal language (e.g., \"genuinely\" is an informal way to express gratitude)\n"
          ]
        },
        {
          "output_type": "stream",
          "name": "stderr",
          "text": [
            "\rEvaluating Test Set:  96%|█████████▌| 187/195 [49:25<04:15, 31.89s/it]"
          ]
        },
        {
          "output_type": "stream",
          "name": "stdout",
          "text": [
            "[+] Transcribing data/dataset/audios_test/audio_922.wav ...\n",
            "[✓] Transcribed:  The day when I seen him, the most beautiful day in my life and the most wished day in my life. The day when I seen him was very beautiful. It was a rainy day and the way he looked and the way he was dressed up, wearing black and black outfit. He was looking very handsome in that. also if i haven't have that day that my life will be bit different from that day but it was very good after having that day in my life and that day makes me feel special every time every time i would feel special for the day also i feel very good i feel much more much much i would be the happiest person if I think about the day I had in my\n",
            "[+] Sending to LLM for evaluation...\n",
            "[✓] LLM Output:\n",
            "Score: 2.0\n",
            "Suggestions: Break up long sentences into shorter ones to improve clarity. Use more precise vocabulary and avoid repetition. Consider using a more formal tone to make the writing more engaging.\n",
            "\n",
            "Mistakes:\n",
            "\n",
            "* Tense inconsistency: The sentence switches between past and present tense multiple times.\n",
            "* Lack of articles: The sentence often omits articles (\"the\", \"a\", etc.) which can make it difficult to understand.\n",
            "* Run-on sentences: The sentence is long and contains multiple clauses without proper punctuation.\n",
            "* Repetition: The sentence repeats phrases and ideas multiple times, making it feel repetitive and unclear.\n",
            "* Informal tone: The sentence uses informal language and colloquialisms, which may not be suitable for formal writing.\n"
          ]
        },
        {
          "output_type": "stream",
          "name": "stderr",
          "text": [
            "\rEvaluating Test Set:  96%|█████████▋| 188/195 [49:55<03:39, 31.41s/it]"
          ]
        },
        {
          "output_type": "stream",
          "name": "stdout",
          "text": [
            "[+] Transcribing data/dataset/audios_test/audio_932.wav ...\n",
            "[✓] Transcribed:  I think the best day of my life, while I believe I've had many, probably is the day that I first landed in Italy for my trip. I landed in Rome and I was very overwhelmed and I was kind of suffering from some jet lag, but I was so happy to be there and it was so fun getting to soak up all the new sights and smells and sounds and seeing all the people there that looked different than I did. And the first thing we did was go to the Coliseum and just being able to see that with my own eyes in person, as opposed to on a computer screen or TV screen was just amazing. just getting to experience all the new food as well that was just as fun i absolutely loved it and i wish i could relive that feeling\n",
            "[+] Sending to LLM for evaluation...\n",
            "[✓] LLM Output:\n",
            "Score: 4.2\n",
            "Suggestions: Consider breaking up long sentences into shorter ones for improved clarity and flow. Additionally, some sentences could be rephrased for more concise expression.\n",
            "Mistakes: None notable, but some sentences could be improved for clarity and concision.\n"
          ]
        },
        {
          "output_type": "stream",
          "name": "stderr",
          "text": [
            "\rEvaluating Test Set:  97%|█████████▋| 189/195 [50:27<03:08, 31.35s/it]"
          ]
        },
        {
          "output_type": "stream",
          "name": "stdout",
          "text": [
            "[+] Transcribing data/dataset/audios_test/audio_949.wav ...\n",
            "[✓] Transcribed:  The school playground is really an awesome place of overall school because a small school student loves to play almost in ground. It contains a real variety of games like Kabaddi, Coco and some more large playgrounds may also contains football, basketball, netball, cricket etc. It also contains athletics. In our school, our P.E.T. master trained very large number of students for like Greek competitions in field of basketball, netball, handball and we also\n",
            "[+] Sending to LLM for evaluation...\n",
            "[✓] LLM Output:\n",
            "Score: 2.8\n",
            "Suggestions: Consider breaking up long sentences into shorter ones for better clarity. Also, use articles (the, a, an) correctly and avoid repetitive phrases.\n",
            "Mistakes: Tense consistency, article usage, punctuation (missing commas), repetitive phrases, and sentence structure.\n"
          ]
        },
        {
          "output_type": "stream",
          "name": "stderr",
          "text": [
            "\rEvaluating Test Set:  97%|█████████▋| 190/195 [50:56<02:33, 30.67s/it]"
          ]
        },
        {
          "output_type": "stream",
          "name": "stdout",
          "text": [
            "[+] Transcribing data/dataset/audios_test/audio_95.wav ...\n",
            "[✓] Transcribed:  I'm inside of a very crowded market in the center of the city. There are many, many people because it's the weekend. There are many smells, a lot of people, a lot of talking, different languages, a lot of yelling, people selling fresh produce like fruits and vegetables, among of these things. They also sell some street food that I can smell from quite far away, even though I'm not right in front of them. The crowd keeps moving. Some are standing to buy stuff. and as the day goes by and it goes to the evening, the people slowly go back home.\n",
            "[+] Sending to LLM for evaluation...\n",
            "[✓] LLM Output:\n",
            "Score: 4.0\n",
            "Suggestions: Consider using more precise language instead of repetitive phrases like \"a lot of people\" and \"a lot of talking\". Also, consider using more varied sentence structures to create a more dynamic rhythm.\n",
            "Mistakes: None notable, but some minor errors in verb tense consistency (e.g., \"They also sell some street food... even though I'm not right in front of them\" uses the present tense, while the rest of the sentence is in the past tense).\n"
          ]
        },
        {
          "output_type": "stream",
          "name": "stderr",
          "text": [
            "\rEvaluating Test Set:  98%|█████████▊| 191/195 [51:27<02:03, 30.82s/it]"
          ]
        },
        {
          "output_type": "stream",
          "name": "stdout",
          "text": [
            "[+] Transcribing data/dataset/audios_test/audio_958.wav ...\n",
            "[✓] Transcribed:  A school playground will be large with many different surfaces to stimulate choice and leave options open. The playground must be spacious and outdoors must be, but they must also be secluded so the children feel space safe and do not have to consider the outside world a playground, Play Park or a place area is a place designed to provide an environment for the children that facilitates play typically outdoors, while a playground is usually designed for children some or designed for other age groups or people with disabilities. School playground is a ground is a large open area with a hard surface just outside a school building where the school children can play and do other activities\n",
            "[+] Sending to LLM for evaluation...\n",
            "[✓] LLM Output:\n",
            "Score: 2.5\n",
            "Suggestions: Consider breaking up long sentences into shorter ones to improve clarity. Also, use more precise vocabulary to describe the playground, such as \"play area\" instead of \"place area\".\n",
            "Mistakes: tense (mix of present and future tense), article (inconsistent use of \"the\" and \"a\"), punctuation (lack of commas to separate clauses), and word choice (vague terms like \"large\" and \"open\").\n"
          ]
        },
        {
          "output_type": "stream",
          "name": "stderr",
          "text": [
            "\rEvaluating Test Set:  98%|█████████▊| 192/195 [51:56<01:31, 30.36s/it]"
          ]
        },
        {
          "output_type": "stream",
          "name": "stdout",
          "text": [
            "[+] Transcribing data/dataset/audios_test/audio_959.wav ...\n",
            "[✓] Transcribed:  Today my topic is about the school playground. In school playground there are many students are playing. But it looks like very happy to see this. In this playground many of the students were enjoying and sportive. There are many games or activities which are popular in between the students that are Koko, Kabaddi etc. These are most helpful to the students for sportive and for maintaining their physical strength and mental strength and for improving our physical strength etc. There are many it consists of winning\n",
            "[+] Sending to LLM for evaluation...\n",
            "[✓] LLM Output:\n",
            "Score: 2.0\n",
            "Suggestions: Consider rephrasing the sentence to improve clarity and coherence. For example, you could break it down into shorter sentences or use more precise language to convey your ideas.\n",
            "\n",
            "Mistakes:\n",
            "\n",
            "* Lack of subject-verb agreement (e.g., \"many students are playing\" instead of \"many students play\")\n",
            "* Unclear sentence structure and word order\n",
            "* Inconsistent verb tense (e.g., \"are playing\" vs. \"were enjoying\")\n",
            "* Misuse of articles (\"a\" vs. \"the\")\n",
            "* Lack of punctuation (e.g., no commas or periods)\n",
            "* Repetitive language (\"sportive\" and \"physical strength\" are repeated)\n",
            "* Unclear meaning (\"it consists of winning\" is unclear)\n"
          ]
        },
        {
          "output_type": "stream",
          "name": "stderr",
          "text": [
            "\rEvaluating Test Set:  99%|█████████▉| 193/195 [52:30<01:02, 31.41s/it]"
          ]
        },
        {
          "output_type": "stream",
          "name": "stdout",
          "text": [
            "[+] Transcribing data/dataset/audios_test/audio_971.wav ...\n",
            "[✓] Transcribed:  The school playground is composed of students who are playing together or roaming around. The students are usually playing in the playground after their classes or if the class are cancelled and they are waiting for their parents or guardian to fetch them. The playground includes some swing and other activities that the student would enjoy. and or or maybe it is or maybe it is it is a ground where where the children can can roam around\n",
            "[+] Sending to LLM for evaluation...\n",
            "[✓] LLM Output:\n",
            "Score: 2.0\n",
            "Suggestions: Break up long sentences into shorter ones, and use more precise language to convey your ideas. For example, instead of \"The playground includes some swing and other activities that the student would enjoy. and or or maybe it is or maybe it is it is a ground where where the children can can roam around\", consider \"The playground offers swings and other activities that students enjoy. It's also a space where children can freely roam around.\"\n",
            "\n",
            "Mistakes:\n",
            "\n",
            "* Lack of punctuation (e.g., missing commas, periods)\n",
            "* Run-on sentences\n",
            "* Redundant words and phrases (e.g., \"or maybe it is or maybe it is\")\n",
            "* Inconsistent verb tense (e.g., \"are playing\" vs. \"are waiting\")\n",
            "* Unclear sentence structure (e.g., \"The playground includes some swing and other activities that the student would enjoy. and or or maybe it is or maybe it is it is a ground where where the children can can roam around\")\n",
            "* Missing articles (\"a\" or \"the\" before nouns)\n"
          ]
        },
        {
          "output_type": "stream",
          "name": "stderr",
          "text": [
            "\rEvaluating Test Set:  99%|█████████▉| 194/195 [52:53<00:28, 28.98s/it]"
          ]
        },
        {
          "output_type": "stream",
          "name": "stdout",
          "text": [
            "[+] Transcribing data/dataset/audios_test/audio_998.wav ...\n",
            "[✓] Transcribed:  In a backdrop of a school, you might see bustling hallways filled with students hurrying to their next class. Colorful bulletin boards adorned with students' artwork and academic achievements. The teachers engage in animated discussions with their students. the faint sound bells signaling the fight of the end classes and perhaps courtyard and playground of students gather the information in all the nations all to then gather during ground where students gather during breaks in typical school playground scenes you might envision children running around laughing and playing various games you see swings swaying back and forth the rhythmic clanking of chains against metal poles, while others might be climbing on a jungle gym or playing tag. There's often a...\n",
            "[+] Sending to LLM for evaluation...\n",
            "[✓] LLM Output:\n",
            "Score: 4.0\n",
            "Suggestions: Consider breaking up long sentences into shorter ones for better clarity and flow. Also, be mindful of sentence structure and vary the length and complexity of sentences to keep the reader engaged.\n",
            "Mistakes:\n",
            "\n",
            "* Lack of punctuation in some places (e.g., no commas or periods to separate clauses)\n",
            "* Run-on sentences (e.g., the second sentence is a long, unbroken list of phrases)\n",
            "* Some sentences are a mix of simple and complex structures, which can make them hard to follow\n",
            "* Minor errors in verb tense consistency (e.g., \"signaling\" vs. \"signaling the fight of the end classes\")\n",
            "* Some sentences could be rephrased for better clarity and concision (e.g., the phrase \"all to then gather during ground where students gather during breaks\" is a bit unclear)\n"
          ]
        },
        {
          "output_type": "stream",
          "name": "stderr",
          "text": [
            "Evaluating Test Set: 100%|██████████| 195/195 [53:32<00:00, 16.48s/it]"
          ]
        },
        {
          "output_type": "stream",
          "name": "stdout",
          "text": [
            "[✓] Saved as submission.csv\n",
            "[✓] Full output saved as full_output.csv\n"
          ]
        },
        {
          "output_type": "stream",
          "name": "stderr",
          "text": [
            "\n"
          ]
        }
      ]
    },
    {
      "cell_type": "code",
      "source": [
        "\n",
        "df_results.rename(columns={\"audio_file\": \"filename\"}, inplace=True)\n",
        "df_results.rename(columns={\"score\": \"label\"}, inplace=True)\n"
      ],
      "metadata": {
        "id": "SfzQXPeq3SsP"
      },
      "execution_count": 38,
      "outputs": []
    },
    {
      "cell_type": "code",
      "source": [
        "invalid_rows = df_results[df_results[\"label\"].isna() | (df_results[\"label\"] == \"\")]\n",
        "invalid_rows\n"
      ],
      "metadata": {
        "id": "8x2dJtJa5W37",
        "colab": {
          "base_uri": "https://localhost:8080/",
          "height": 89
        },
        "collapsed": true,
        "outputId": "6c2e7b09-915d-425c-9075-1bfd1a67664e"
      },
      "execution_count": 39,
      "outputs": [
        {
          "output_type": "execute_result",
          "data": {
            "text/plain": [
              "Empty DataFrame\n",
              "Columns: [filename, label]\n",
              "Index: []"
            ],
            "text/html": [
              "\n",
              "  <div id=\"df-3300f1d3-7993-48e7-b04d-b13a510fe1db\" class=\"colab-df-container\">\n",
              "    <div>\n",
              "<style scoped>\n",
              "    .dataframe tbody tr th:only-of-type {\n",
              "        vertical-align: middle;\n",
              "    }\n",
              "\n",
              "    .dataframe tbody tr th {\n",
              "        vertical-align: top;\n",
              "    }\n",
              "\n",
              "    .dataframe thead th {\n",
              "        text-align: right;\n",
              "    }\n",
              "</style>\n",
              "<table border=\"1\" class=\"dataframe\">\n",
              "  <thead>\n",
              "    <tr style=\"text-align: right;\">\n",
              "      <th></th>\n",
              "      <th>filename</th>\n",
              "      <th>label</th>\n",
              "    </tr>\n",
              "  </thead>\n",
              "  <tbody>\n",
              "  </tbody>\n",
              "</table>\n",
              "</div>\n",
              "    <div class=\"colab-df-buttons\">\n",
              "\n",
              "  <div class=\"colab-df-container\">\n",
              "    <button class=\"colab-df-convert\" onclick=\"convertToInteractive('df-3300f1d3-7993-48e7-b04d-b13a510fe1db')\"\n",
              "            title=\"Convert this dataframe to an interactive table.\"\n",
              "            style=\"display:none;\">\n",
              "\n",
              "  <svg xmlns=\"http://www.w3.org/2000/svg\" height=\"24px\" viewBox=\"0 -960 960 960\">\n",
              "    <path d=\"M120-120v-720h720v720H120Zm60-500h600v-160H180v160Zm220 220h160v-160H400v160Zm0 220h160v-160H400v160ZM180-400h160v-160H180v160Zm440 0h160v-160H620v160ZM180-180h160v-160H180v160Zm440 0h160v-160H620v160Z\"/>\n",
              "  </svg>\n",
              "    </button>\n",
              "\n",
              "  <style>\n",
              "    .colab-df-container {\n",
              "      display:flex;\n",
              "      gap: 12px;\n",
              "    }\n",
              "\n",
              "    .colab-df-convert {\n",
              "      background-color: #E8F0FE;\n",
              "      border: none;\n",
              "      border-radius: 50%;\n",
              "      cursor: pointer;\n",
              "      display: none;\n",
              "      fill: #1967D2;\n",
              "      height: 32px;\n",
              "      padding: 0 0 0 0;\n",
              "      width: 32px;\n",
              "    }\n",
              "\n",
              "    .colab-df-convert:hover {\n",
              "      background-color: #E2EBFA;\n",
              "      box-shadow: 0px 1px 2px rgba(60, 64, 67, 0.3), 0px 1px 3px 1px rgba(60, 64, 67, 0.15);\n",
              "      fill: #174EA6;\n",
              "    }\n",
              "\n",
              "    .colab-df-buttons div {\n",
              "      margin-bottom: 4px;\n",
              "    }\n",
              "\n",
              "    [theme=dark] .colab-df-convert {\n",
              "      background-color: #3B4455;\n",
              "      fill: #D2E3FC;\n",
              "    }\n",
              "\n",
              "    [theme=dark] .colab-df-convert:hover {\n",
              "      background-color: #434B5C;\n",
              "      box-shadow: 0px 1px 3px 1px rgba(0, 0, 0, 0.15);\n",
              "      filter: drop-shadow(0px 1px 2px rgba(0, 0, 0, 0.3));\n",
              "      fill: #FFFFFF;\n",
              "    }\n",
              "  </style>\n",
              "\n",
              "    <script>\n",
              "      const buttonEl =\n",
              "        document.querySelector('#df-3300f1d3-7993-48e7-b04d-b13a510fe1db button.colab-df-convert');\n",
              "      buttonEl.style.display =\n",
              "        google.colab.kernel.accessAllowed ? 'block' : 'none';\n",
              "\n",
              "      async function convertToInteractive(key) {\n",
              "        const element = document.querySelector('#df-3300f1d3-7993-48e7-b04d-b13a510fe1db');\n",
              "        const dataTable =\n",
              "          await google.colab.kernel.invokeFunction('convertToInteractive',\n",
              "                                                    [key], {});\n",
              "        if (!dataTable) return;\n",
              "\n",
              "        const docLinkHtml = 'Like what you see? Visit the ' +\n",
              "          '<a target=\"_blank\" href=https://colab.research.google.com/notebooks/data_table.ipynb>data table notebook</a>'\n",
              "          + ' to learn more about interactive tables.';\n",
              "        element.innerHTML = '';\n",
              "        dataTable['output_type'] = 'display_data';\n",
              "        await google.colab.output.renderOutput(dataTable, element);\n",
              "        const docLink = document.createElement('div');\n",
              "        docLink.innerHTML = docLinkHtml;\n",
              "        element.appendChild(docLink);\n",
              "      }\n",
              "    </script>\n",
              "  </div>\n",
              "\n",
              "\n",
              "  <div id=\"id_fa9cd85d-6a18-441d-b83b-ecb08fb2a6ba\">\n",
              "    <style>\n",
              "      .colab-df-generate {\n",
              "        background-color: #E8F0FE;\n",
              "        border: none;\n",
              "        border-radius: 50%;\n",
              "        cursor: pointer;\n",
              "        display: none;\n",
              "        fill: #1967D2;\n",
              "        height: 32px;\n",
              "        padding: 0 0 0 0;\n",
              "        width: 32px;\n",
              "      }\n",
              "\n",
              "      .colab-df-generate:hover {\n",
              "        background-color: #E2EBFA;\n",
              "        box-shadow: 0px 1px 2px rgba(60, 64, 67, 0.3), 0px 1px 3px 1px rgba(60, 64, 67, 0.15);\n",
              "        fill: #174EA6;\n",
              "      }\n",
              "\n",
              "      [theme=dark] .colab-df-generate {\n",
              "        background-color: #3B4455;\n",
              "        fill: #D2E3FC;\n",
              "      }\n",
              "\n",
              "      [theme=dark] .colab-df-generate:hover {\n",
              "        background-color: #434B5C;\n",
              "        box-shadow: 0px 1px 3px 1px rgba(0, 0, 0, 0.15);\n",
              "        filter: drop-shadow(0px 1px 2px rgba(0, 0, 0, 0.3));\n",
              "        fill: #FFFFFF;\n",
              "      }\n",
              "    </style>\n",
              "    <button class=\"colab-df-generate\" onclick=\"generateWithVariable('invalid_rows')\"\n",
              "            title=\"Generate code using this dataframe.\"\n",
              "            style=\"display:none;\">\n",
              "\n",
              "  <svg xmlns=\"http://www.w3.org/2000/svg\" height=\"24px\"viewBox=\"0 0 24 24\"\n",
              "       width=\"24px\">\n",
              "    <path d=\"M7,19H8.4L18.45,9,17,7.55,7,17.6ZM5,21V16.75L18.45,3.32a2,2,0,0,1,2.83,0l1.4,1.43a1.91,1.91,0,0,1,.58,1.4,1.91,1.91,0,0,1-.58,1.4L9.25,21ZM18.45,9,17,7.55Zm-12,3A5.31,5.31,0,0,0,4.9,8.1,5.31,5.31,0,0,0,1,6.5,5.31,5.31,0,0,0,4.9,4.9,5.31,5.31,0,0,0,6.5,1,5.31,5.31,0,0,0,8.1,4.9,5.31,5.31,0,0,0,12,6.5,5.46,5.46,0,0,0,6.5,12Z\"/>\n",
              "  </svg>\n",
              "    </button>\n",
              "    <script>\n",
              "      (() => {\n",
              "      const buttonEl =\n",
              "        document.querySelector('#id_fa9cd85d-6a18-441d-b83b-ecb08fb2a6ba button.colab-df-generate');\n",
              "      buttonEl.style.display =\n",
              "        google.colab.kernel.accessAllowed ? 'block' : 'none';\n",
              "\n",
              "      buttonEl.onclick = () => {\n",
              "        google.colab.notebook.generateWithVariable('invalid_rows');\n",
              "      }\n",
              "      })();\n",
              "    </script>\n",
              "  </div>\n",
              "\n",
              "    </div>\n",
              "  </div>\n"
            ],
            "application/vnd.google.colaboratory.intrinsic+json": {
              "type": "dataframe",
              "variable_name": "invalid_rows",
              "repr_error": "Out of range float values are not JSON compliant: nan"
            }
          },
          "metadata": {},
          "execution_count": 39
        }
      ]
    },
    {
      "cell_type": "markdown",
      "source": [
        "### 🔁 Retrying Failed Audio Evaluations\n",
        "\n",
        "This block re-attempts evaluation for test audio files that previously failed during batch inference. It ensures we extract a valid `score` even for files that encountered transient issues like rate limits, network timeouts, or model errors.\n",
        "\n",
        "---\n",
        "\n",
        "#### 📦 Input:\n",
        "- `invalid_rows`: A subset of `df_results` where grammar score (`label`) is `None` or `NaN`, indicating failure.\n",
        "- `df_results`: The full results DataFrame to be updated upon successful retries.\n",
        "\n",
        "---\n",
        "\n",
        "#### ⚙️ Workflow:\n",
        "1. **Iterate Over Failed Rows**  \n",
        "   - Loop through each failed entry using `tqdm` for visual progress.\n",
        "   - Extract the audio filename and reconstruct the full path.\n",
        "\n",
        "2. **Retry Mechanism (Up to 3 Attempts)**  \n",
        "   - Tries to re-evaluate the audio using `evaluate_audio_file`.\n",
        "   - Implements **exponential backoff** with jitter to avoid triggering rate limits.\n",
        "\n",
        "3. **Success Handling**  \n",
        "   - If a retry succeeds, the score (`label`) is updated in `df_results` at the correct row index.\n",
        "\n",
        "4. **Failure Handling**  \n",
        "   - After all attempts, if evaluation still fails, it logs the filename for manual inspection.\n",
        "\n",
        "---\n",
        "\n",
        "#### ✨ Features:\n",
        "- **Resilient Execution**: Recovers from transient failures without restarting the entire pipeline.\n",
        "- **Selective Update**: Only updates the `label` (score) to avoid overwriting other valid fields like transcription or suggestions.\n",
        "- **Exponential Backoff**: Helps mitigate API rate limit issues and stabilizes performance during retry loops.\n",
        "\n",
        "---\n",
        "\n",
        "#### 📌 Tip:\n",
        "- You can enhance this by also updating transcription/suggestions if missing.\n",
        "- After retrying, consider saving `df_results` again to ensure all scores are stored for submission.\n"
      ],
      "metadata": {
        "id": "XJI8C2hfsytc"
      }
    },
    {
      "cell_type": "code",
      "source": [
        "import time\n",
        "import random\n",
        "from tqdm import tqdm\n",
        "\n",
        "for idx, row in tqdm(invalid_rows.iterrows(), total=len(invalid_rows), desc=\"Retrying failed audios\"):\n",
        "    filename = row[\"filename\"]\n",
        "    audio_id = filename.replace(\".wav\", \"\")\n",
        "    audio_path = f\"data/dataset/audios_test/{audio_id}.wav\"\n",
        "\n",
        "    retries = 3\n",
        "    for attempt in range(retries):\n",
        "        try:\n",
        "            result = evaluate_audio_file(audio_path)\n",
        "            df_results.loc[idx, \"label\"] = result[\"score\"]  # Only update the score\n",
        "            break\n",
        "        except Exception as e:\n",
        "            print(f\"[!] Attempt {attempt+1} failed for {filename}: {e}\")\n",
        "            if attempt < retries - 1:\n",
        "                sleep_time = 2 ** attempt + random.uniform(0, 1.5)\n",
        "                print(f\"    ↪ Retrying in {sleep_time:.2f}s...\")\n",
        "                time.sleep(sleep_time)\n",
        "            else:\n",
        "                print(f\"[X] Final failure on {filename}\")\n"
      ],
      "metadata": {
        "colab": {
          "base_uri": "https://localhost:8080/"
        },
        "collapsed": true,
        "id": "aj_nUCbg5eZP",
        "outputId": "dd34fd16-3468-4231-cc46-b8f742db6eb5"
      },
      "execution_count": 34,
      "outputs": [
        {
          "output_type": "stream",
          "name": "stderr",
          "text": [
            "\rRetrying failed audios:   0%|          | 0/1 [00:00<?, ?it/s]"
          ]
        },
        {
          "output_type": "stream",
          "name": "stdout",
          "text": [
            "[+] Transcribing data/dataset/audios_test/audio_75.wav ...\n",
            "[✓] Transcribed:  . 10. 11. 12. 13. 14. 15. 16. 17. 18. Lisa la Ka Pari Nesmo R Spielt Amai olasaly hurt passara Spit Terima kasih telah menonton!\n",
            "[+] Sending to LLM for evaluation...\n",
            "[✓] LLM Output:\n",
            "Score: 1.0\n",
            "Suggestions: The sentence appears to be a list of numbers and words without any grammatical structure or meaning. Consider rephrasing the sentence to convey a clear message or thought.\n",
            "Mistakes: Lack of grammatical structure, no subject-verb agreement, no punctuation, no coherent meaning.\n"
          ]
        },
        {
          "output_type": "stream",
          "name": "stderr",
          "text": [
            "Retrying failed audios: 100%|██████████| 1/1 [00:12<00:00, 12.39s/it]\n"
          ]
        }
      ]
    },
    {
      "cell_type": "code",
      "source": [
        "df_results.to_csv(\"final_submission.csv\", index=False)\n",
        "print(\"[✓] Saved final submission to submission.csv\")\n"
      ],
      "metadata": {
        "colab": {
          "base_uri": "https://localhost:8080/"
        },
        "id": "Mci-_WmA7290",
        "outputId": "fc683869-7b36-4759-a1fb-a6b37ca824d0",
        "collapsed": true
      },
      "execution_count": 36,
      "outputs": [
        {
          "output_type": "stream",
          "name": "stdout",
          "text": [
            "[✓] Saved final submission to submission.csv\n"
          ]
        }
      ]
    },
    {
      "cell_type": "code",
      "source": [
        "# Check for NaNs or empty values in required columns\n",
        "print(\"Missing score values:\", df_results['label'].isna().sum())\n",
        "print(\"Missing filename values:\", df_results['filename'].isna().sum())\n",
        "\n"
      ],
      "metadata": {
        "colab": {
          "base_uri": "https://localhost:8080/"
        },
        "id": "_JxVEYnj75Rj",
        "outputId": "9166eba1-b12a-4969-e727-9b474ed991b6",
        "collapsed": true
      },
      "execution_count": 35,
      "outputs": [
        {
          "output_type": "stream",
          "name": "stdout",
          "text": [
            "Missing score values: 0\n",
            "Missing filename values: 0\n"
          ]
        }
      ]
    },
    {
      "cell_type": "code",
      "source": [
        "from google.colab import files\n",
        "files.download(\"final_submission.csv\")\n"
      ],
      "metadata": {
        "colab": {
          "base_uri": "https://localhost:8080/",
          "height": 17
        },
        "id": "xHghBn558CpN",
        "outputId": "7e278ab3-7f3d-450a-a083-5747996d6f87"
      },
      "execution_count": 37,
      "outputs": [
        {
          "output_type": "display_data",
          "data": {
            "text/plain": [
              "<IPython.core.display.Javascript object>"
            ],
            "application/javascript": [
              "\n",
              "    async function download(id, filename, size) {\n",
              "      if (!google.colab.kernel.accessAllowed) {\n",
              "        return;\n",
              "      }\n",
              "      const div = document.createElement('div');\n",
              "      const label = document.createElement('label');\n",
              "      label.textContent = `Downloading \"${filename}\": `;\n",
              "      div.appendChild(label);\n",
              "      const progress = document.createElement('progress');\n",
              "      progress.max = size;\n",
              "      div.appendChild(progress);\n",
              "      document.body.appendChild(div);\n",
              "\n",
              "      const buffers = [];\n",
              "      let downloaded = 0;\n",
              "\n",
              "      const channel = await google.colab.kernel.comms.open(id);\n",
              "      // Send a message to notify the kernel that we're ready.\n",
              "      channel.send({})\n",
              "\n",
              "      for await (const message of channel.messages) {\n",
              "        // Send a message to notify the kernel that we're ready.\n",
              "        channel.send({})\n",
              "        if (message.buffers) {\n",
              "          for (const buffer of message.buffers) {\n",
              "            buffers.push(buffer);\n",
              "            downloaded += buffer.byteLength;\n",
              "            progress.value = downloaded;\n",
              "          }\n",
              "        }\n",
              "      }\n",
              "      const blob = new Blob(buffers, {type: 'application/binary'});\n",
              "      const a = document.createElement('a');\n",
              "      a.href = window.URL.createObjectURL(blob);\n",
              "      a.download = filename;\n",
              "      div.appendChild(a);\n",
              "      a.click();\n",
              "      div.remove();\n",
              "    }\n",
              "  "
            ]
          },
          "metadata": {}
        },
        {
          "output_type": "display_data",
          "data": {
            "text/plain": [
              "<IPython.core.display.Javascript object>"
            ],
            "application/javascript": [
              "download(\"download_068ca49b-6b63-43a5-b3e4-384942704f3b\", \"final_submission.csv\", 3566)"
            ]
          },
          "metadata": {}
        }
      ]
    },
    {
      "cell_type": "markdown",
      "source": [
        "### 📌 Observations\n",
        "\n",
        "- LLaMA3 performs better with clean few-shot prompts\n",
        "- Using bucketed examples across score ranges increases LLM calibration\n",
        "- Whisper errors still impact the final score\n",
        "\n",
        "### 🛠 Future Work\n",
        "\n",
        "- Add hallucination filtering (regex rules)\n",
        "- Use multiple-shot + CoT prompting\n",
        "- RAG or retrieval-augmented examples based on audio metadata\n"
      ],
      "metadata": {
        "id": "fQ_s26NStz3U"
      }
    }
  ]
}